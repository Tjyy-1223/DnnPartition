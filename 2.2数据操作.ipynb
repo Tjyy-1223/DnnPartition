{
 "cells": [
  {
   "cell_type": "markdown",
   "id": "28ff20e2",
   "metadata": {},
   "source": [
    "2.2.1 创建tensor"
   ]
  },
  {
   "cell_type": "code",
   "execution_count": 1,
   "id": "ab4171b2",
   "metadata": {},
   "outputs": [],
   "source": [
    "import torch"
   ]
  },
  {
   "cell_type": "code",
   "execution_count": 2,
   "id": "6e0501e4",
   "metadata": {},
   "outputs": [
    {
     "name": "stdout",
     "output_type": "stream",
     "text": [
      "tensor([[ 0.0000e+00,  4.6566e-10,  0.0000e+00],\n",
      "        [ 4.6566e-10,  1.2860e-39,  4.5752e-41],\n",
      "        [ 8.2461e-40,  4.5752e-41, -2.9860e+29],\n",
      "        [ 4.5751e-41,  1.0586e-38,  1.4013e-45],\n",
      "        [ 2.6652e-40,  4.5752e-41,  5.9298e-40]])\n"
     ]
    }
   ],
   "source": [
    "x = torch.empty(5,3)\n",
    "print(x)"
   ]
  },
  {
   "cell_type": "code",
   "execution_count": 3,
   "id": "7db2a784",
   "metadata": {},
   "outputs": [
    {
     "name": "stdout",
     "output_type": "stream",
     "text": [
      "tensor([[0.9453, 0.0766, 0.3149],\n",
      "        [0.7310, 0.1229, 0.8418],\n",
      "        [0.4220, 0.6527, 0.3357],\n",
      "        [0.4787, 0.9356, 0.3802],\n",
      "        [0.2388, 0.7217, 0.1462]])\n"
     ]
    }
   ],
   "source": [
    "x = torch.rand(5,3)\n",
    "print(x)"
   ]
  },
  {
   "cell_type": "code",
   "execution_count": 5,
   "id": "bc5c0433",
   "metadata": {},
   "outputs": [
    {
     "name": "stdout",
     "output_type": "stream",
     "text": [
      "tensor([[0, 0, 0],\n",
      "        [0, 0, 0],\n",
      "        [0, 0, 0],\n",
      "        [0, 0, 0],\n",
      "        [0, 0, 0]])\n"
     ]
    }
   ],
   "source": [
    "x = torch.zeros(5,3,dtype = torch.long)\n",
    "print(x)"
   ]
  },
  {
   "cell_type": "code",
   "execution_count": 6,
   "id": "26536744",
   "metadata": {},
   "outputs": [
    {
     "name": "stdout",
     "output_type": "stream",
     "text": [
      "tensor([5.5000, 3.0000])\n"
     ]
    }
   ],
   "source": [
    "x = torch.tensor([5.5,3])\n",
    "print(x)"
   ]
  },
  {
   "cell_type": "code",
   "execution_count": 9,
   "id": "fa277069",
   "metadata": {},
   "outputs": [
    {
     "name": "stdout",
     "output_type": "stream",
     "text": [
      "tensor([[1., 1., 1.],\n",
      "        [1., 1., 1.],\n",
      "        [1., 1., 1.],\n",
      "        [1., 1., 1.],\n",
      "        [1., 1., 1.]], dtype=torch.float64)\n",
      "tensor([[ 0.4332,  1.2569, -0.7298],\n",
      "        [ 1.1353,  0.4293,  1.5242],\n",
      "        [ 0.9590, -1.9182, -1.1387],\n",
      "        [ 0.0890, -0.1975, -0.6408],\n",
      "        [-0.0059,  1.2850, -1.2481]])\n"
     ]
    }
   ],
   "source": [
    "x = x.new_ones(5,3,dtype = torch.float64)\n",
    "print(x)\n",
    "\n",
    "x = torch.randn_like(x,dtype = torch.float)\n",
    "print(x)"
   ]
  },
  {
   "cell_type": "code",
   "execution_count": 10,
   "id": "ab241236",
   "metadata": {},
   "outputs": [
    {
     "name": "stdout",
     "output_type": "stream",
     "text": [
      "torch.Size([5, 3])\n"
     ]
    }
   ],
   "source": [
    "print(x.size())"
   ]
  },
  {
   "cell_type": "code",
   "execution_count": 11,
   "id": "e37d6f35",
   "metadata": {},
   "outputs": [
    {
     "name": "stdout",
     "output_type": "stream",
     "text": [
      "torch.Size([5, 3])\n"
     ]
    }
   ],
   "source": [
    "print(x.shape)"
   ]
  },
  {
   "cell_type": "markdown",
   "id": "4932d94d",
   "metadata": {},
   "source": [
    "2.2.2 基本操作"
   ]
  },
  {
   "cell_type": "code",
   "execution_count": 12,
   "id": "2eac1e71",
   "metadata": {},
   "outputs": [
    {
     "name": "stdout",
     "output_type": "stream",
     "text": [
      "tensor([[ 0.8018,  1.3688, -0.6557],\n",
      "        [ 2.0463,  0.6960,  2.3315],\n",
      "        [ 1.5811, -1.5944, -0.7284],\n",
      "        [ 0.6968, -0.1854, -0.5198],\n",
      "        [ 0.7661,  1.4852, -0.9330]])\n"
     ]
    }
   ],
   "source": [
    "y = torch.rand(5,3)\n",
    "print(x + y)"
   ]
  },
  {
   "cell_type": "code",
   "execution_count": 13,
   "id": "182bf0d2",
   "metadata": {},
   "outputs": [
    {
     "name": "stdout",
     "output_type": "stream",
     "text": [
      "tensor([[ 0.8018,  1.3688, -0.6557],\n",
      "        [ 2.0463,  0.6960,  2.3315],\n",
      "        [ 1.5811, -1.5944, -0.7284],\n",
      "        [ 0.6968, -0.1854, -0.5198],\n",
      "        [ 0.7661,  1.4852, -0.9330]])\n"
     ]
    }
   ],
   "source": [
    "result = torch.empty(5,3)\n",
    "torch.add(x,y,out = result)\n",
    "print(result)"
   ]
  },
  {
   "cell_type": "markdown",
   "id": "e1ec2ccd",
   "metadata": {},
   "source": [
    "索引 - 索引的结果与原数据共享内存，修改一个，另一个会跟着修改"
   ]
  },
  {
   "cell_type": "code",
   "execution_count": 14,
   "id": "b0b17947",
   "metadata": {},
   "outputs": [
    {
     "name": "stdout",
     "output_type": "stream",
     "text": [
      "tensor([1.4332, 2.2569, 0.2702])\n",
      "tensor([1.4332, 2.2569, 0.2702])\n"
     ]
    }
   ],
   "source": [
    "y = x[0,:]\n",
    "y += 1\n",
    "print(y)\n",
    "\n",
    "print(x[0,:])"
   ]
  },
  {
   "cell_type": "markdown",
   "id": "3abec661",
   "metadata": {},
   "source": [
    "改变形状 - 用view来改变tensor的形状"
   ]
  },
  {
   "cell_type": "code",
   "execution_count": 15,
   "id": "080b4ded",
   "metadata": {},
   "outputs": [
    {
     "name": "stdout",
     "output_type": "stream",
     "text": [
      "torch.Size([5, 3]) torch.Size([15]) torch.Size([3, 5])\n"
     ]
    }
   ],
   "source": [
    "y = x.view(15)\n",
    "z = x.view(-1,5)\n",
    "print(x.shape,y.shape,z.shape)"
   ]
  },
  {
   "cell_type": "markdown",
   "id": "a03ae5b1",
   "metadata": {},
   "source": [
    "view返回的tensor 也是与原来的元组共享tensor的。改变其中的一个，另外一个也会跟着改变。"
   ]
  },
  {
   "cell_type": "code",
   "execution_count": 16,
   "id": "c5f6efb4",
   "metadata": {},
   "outputs": [
    {
     "name": "stdout",
     "output_type": "stream",
     "text": [
      "tensor([[ 2.4332,  3.2569,  1.2702],\n",
      "        [ 2.1353,  1.4293,  2.5242],\n",
      "        [ 1.9590, -0.9182, -0.1387],\n",
      "        [ 1.0890,  0.8025,  0.3592],\n",
      "        [ 0.9941,  2.2850, -0.2481]])\n",
      "tensor([ 2.4332,  3.2569,  1.2702,  2.1353,  1.4293,  2.5242,  1.9590, -0.9182,\n",
      "        -0.1387,  1.0890,  0.8025,  0.3592,  0.9941,  2.2850, -0.2481])\n"
     ]
    }
   ],
   "source": [
    "x += 1\n",
    "print(x)\n",
    "print(y)"
   ]
  },
  {
   "cell_type": "markdown",
   "id": "01f50431",
   "metadata": {},
   "source": [
    "如果想返回一个真正的副本，不共享data内存。推荐首先使用clone创建一个副本，然后再使用view。"
   ]
  },
  {
   "cell_type": "code",
   "execution_count": 17,
   "id": "5422a705",
   "metadata": {},
   "outputs": [
    {
     "name": "stdout",
     "output_type": "stream",
     "text": [
      "tensor([[ 1.4332,  2.2569,  0.2702],\n",
      "        [ 1.1353,  0.4293,  1.5242],\n",
      "        [ 0.9590, -1.9182, -1.1387],\n",
      "        [ 0.0890, -0.1975, -0.6408],\n",
      "        [-0.0059,  1.2850, -1.2481]])\n",
      "tensor([ 2.4332,  3.2569,  1.2702,  2.1353,  1.4293,  2.5242,  1.9590, -0.9182,\n",
      "        -0.1387,  1.0890,  0.8025,  0.3592,  0.9941,  2.2850, -0.2481])\n"
     ]
    }
   ],
   "source": [
    "x_cp = x.clone().view(15)\n",
    "x -= 1\n",
    "\n",
    "print(x)\n",
    "print(x_cp)"
   ]
  },
  {
   "cell_type": "markdown",
   "id": "b2d5a6b8",
   "metadata": {},
   "source": [
    "使用colne的好处，梯度传回副本时也会传到tensor"
   ]
  },
  {
   "cell_type": "markdown",
   "id": "f376474b",
   "metadata": {},
   "source": [
    "使用item可以将一个标量tensr转换成一个python number"
   ]
  },
  {
   "cell_type": "code",
   "execution_count": 18,
   "id": "a3d8344a",
   "metadata": {},
   "outputs": [
    {
     "name": "stdout",
     "output_type": "stream",
     "text": [
      "tensor([-2.1540])\n",
      "-2.154015302658081\n"
     ]
    }
   ],
   "source": [
    "x = torch.randn(1)\n",
    "\n",
    "print(x)\n",
    "print(x.item())"
   ]
  },
  {
   "cell_type": "markdown",
   "id": "76b58e07",
   "metadata": {},
   "source": [
    "2.2.3 广播机制 - 适当复制元素到shape相同时进行计算"
   ]
  },
  {
   "cell_type": "code",
   "execution_count": 19,
   "id": "578f3e1a",
   "metadata": {},
   "outputs": [
    {
     "name": "stdout",
     "output_type": "stream",
     "text": [
      "tensor([[1, 2]])\n",
      "tensor([[1],\n",
      "        [2],\n",
      "        [3]])\n",
      "tensor([[2, 3],\n",
      "        [3, 4],\n",
      "        [4, 5]])\n"
     ]
    }
   ],
   "source": [
    "x = torch.arange(1,3).view(1,2)\n",
    "print(x)\n",
    "\n",
    "y = torch.arange(1,4).view(3,1)\n",
    "print(y)\n",
    "\n",
    "print(x + y)"
   ]
  },
  {
   "cell_type": "markdown",
   "id": "12128671",
   "metadata": {},
   "source": [
    "2.2.4 运算的内存开销\n",
    "\n",
    "索引操作不会开辟内存，而像y = x+y等操作是会开辟新内存的，然后将y指向新内存。使用id函数，来验证内存地址是否相同"
   ]
  },
  {
   "cell_type": "code",
   "execution_count": 20,
   "id": "adafb383",
   "metadata": {},
   "outputs": [
    {
     "name": "stdout",
     "output_type": "stream",
     "text": [
      "False\n"
     ]
    }
   ],
   "source": [
    "x = torch.tensor([1,2])\n",
    "y = torch.tensor([3,4])\n",
    "\n",
    "id_before = id(y)\n",
    "y = y + x\n",
    "\n",
    "print(id(y) == id_before) #false"
   ]
  },
  {
   "cell_type": "markdown",
   "id": "41624119",
   "metadata": {},
   "source": [
    "如果想写回到原来的y的内存，可以使用索引进行替换 "
   ]
  },
  {
   "cell_type": "code",
   "execution_count": 21,
   "id": "1c2d1d3b",
   "metadata": {},
   "outputs": [
    {
     "name": "stdout",
     "output_type": "stream",
     "text": [
      "True\n"
     ]
    }
   ],
   "source": [
    "x = torch.tensor([1,2])\n",
    "y = torch.tensor([3,4])\n",
    "\n",
    "id_before = id(y)\n",
    "y[:] = y + x\n",
    "\n",
    "print(id(y) == id_before) "
   ]
  },
  {
   "cell_type": "markdown",
   "id": "d0a9f233",
   "metadata": {},
   "source": [
    "注意：\n",
    "虽然view返回的tensor和原tensor共享data，但是二者的id（内存地址）并不一致，应该是用了某些映射机制。"
   ]
  },
  {
   "cell_type": "markdown",
   "id": "9a056013",
   "metadata": {},
   "source": [
    "2.2.5 tensor和numpy之间的相互转换"
   ]
  },
  {
   "cell_type": "markdown",
   "id": "5c6d0fa5",
   "metadata": {},
   "source": [
    "很容易使用numpy和from_numpy将tensor和numpy数组相互转换。但是需要注意：两个函数差生的tensor和numpy数组也会共享内存，其中一个改变时另一个也会改变。\n",
    "\n",
    "使用torch.tensor()进行数据拷贝，并且不再共享内存。"
   ]
  },
  {
   "cell_type": "code",
   "execution_count": 22,
   "id": "b0d31734",
   "metadata": {},
   "outputs": [
    {
     "name": "stdout",
     "output_type": "stream",
     "text": [
      "tensor([1., 1., 1., 1., 1.]) [1. 1. 1. 1. 1.]\n"
     ]
    }
   ],
   "source": [
    "a = torch.ones(5)\n",
    "b = a.numpy()\n",
    "print(a,b)"
   ]
  },
  {
   "cell_type": "code",
   "execution_count": 23,
   "id": "6ef437c8",
   "metadata": {},
   "outputs": [
    {
     "name": "stdout",
     "output_type": "stream",
     "text": [
      "tensor([2., 2., 2., 2., 2.]) [2. 2. 2. 2. 2.]\n"
     ]
    }
   ],
   "source": [
    "a += 1\n",
    "print(a,b)"
   ]
  },
  {
   "cell_type": "code",
   "execution_count": 24,
   "id": "cf8052ff",
   "metadata": {},
   "outputs": [
    {
     "name": "stdout",
     "output_type": "stream",
     "text": [
      "tensor([3., 3., 3., 3., 3.]) [3. 3. 3. 3. 3.]\n"
     ]
    }
   ],
   "source": [
    "b += 1\n",
    "print(a,b)"
   ]
  },
  {
   "cell_type": "code",
   "execution_count": 26,
   "id": "ee98c6ca",
   "metadata": {},
   "outputs": [
    {
     "name": "stdout",
     "output_type": "stream",
     "text": [
      "tensor([5., 5., 5., 5., 5.]) tensor([4., 4., 4., 4., 4.])\n"
     ]
    }
   ],
   "source": [
    "c = torch.tensor(b)\n",
    "a += 1\n",
    "print(a,c)"
   ]
  },
  {
   "cell_type": "markdown",
   "id": "32854352",
   "metadata": {},
   "source": [
    "2.2.6 Tensor on GPU"
   ]
  },
  {
   "cell_type": "markdown",
   "id": "4d165c1b",
   "metadata": {},
   "source": [
    "用to方法可以将tensor在cpu和gpu之间相互移动。"
   ]
  },
  {
   "cell_type": "code",
   "execution_count": 27,
   "id": "f7b39773",
   "metadata": {},
   "outputs": [],
   "source": [
    "if torch.cuda.is_available():\n",
    "    device = torch.device(\"cuda\")\n",
    "    y = torch.ones_like(x,device = device)\n",
    "    x = x.to(device)\n",
    "    z = x + y\n",
    "    print(z)\n",
    "    print(z.to(\"cpu\",torch.double))"
   ]
  },
  {
   "cell_type": "code",
   "execution_count": null,
   "id": "8be11cb2",
   "metadata": {},
   "outputs": [],
   "source": []
  },
  {
   "cell_type": "code",
   "execution_count": null,
   "id": "fe198970",
   "metadata": {},
   "outputs": [],
   "source": []
  }
 ],
 "metadata": {
  "kernelspec": {
   "display_name": "Python 3 (ipykernel)",
   "language": "python",
   "name": "python3"
  },
  "language_info": {
   "codemirror_mode": {
    "name": "ipython",
    "version": 3
   },
   "file_extension": ".py",
   "mimetype": "text/x-python",
   "name": "python",
   "nbconvert_exporter": "python",
   "pygments_lexer": "ipython3",
   "version": "3.7.0"
  }
 },
 "nbformat": 4,
 "nbformat_minor": 5
}
