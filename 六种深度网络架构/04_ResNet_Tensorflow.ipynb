{
 "cells": [
  {
   "cell_type": "code",
   "execution_count": 9,
   "metadata": {
    "collapsed": true
   },
   "outputs": [],
   "source": [
    "import tensorflow as tf\n",
    "import tensorflow.keras as keras\n",
    "from d2l import tensorflow as d2l\n",
    "\n",
    "class Residual(keras.Model):\n",
    "    def __init__(self,num_channels,use_1x1conv = False,strides = 1):\n",
    "        super(Residual, self).__init__()\n",
    "        self.conv1 = keras.layers.Conv2D(\n",
    "            num_channels,padding = 'same',kernel_size=3,strides=strides)\n",
    "        self.conv2 = keras.layers.Conv2D(\n",
    "            num_channels,padding = 'same',kernel_size=3)\n",
    "        self.conv3 = None\n",
    "        if use_1x1conv:\n",
    "            self.conv3 = keras.layers.Conv2D(\n",
    "                num_channels,kernel_size=1,strides = strides)\n",
    "        self.bn1 = keras.layers.BatchNormalization()\n",
    "        self.bn2 = keras.layers.BatchNormalization()\n",
    "\n",
    "    def call(self,X):\n",
    "        Y = keras.activations.relu(self.bn1(self.conv1(X)))\n",
    "        Y = self.bn2(self.conv2(Y))\n",
    "        if self.conv3 is not None:\n",
    "            X = self.conv3(X)\n",
    "        Y += X\n",
    "        return keras.activations.relu(Y)"
   ]
  },
  {
   "cell_type": "code",
   "execution_count": 11,
   "outputs": [],
   "source": [
    "b1 = keras.models.Sequential([\n",
    "    keras.layers.Conv2D(64, kernel_size=7, strides=2, padding='same'),\n",
    "    keras.layers.BatchNormalization(),\n",
    "    keras.layers.Activation('relu'),\n",
    "    keras.layers.MaxPool2D(pool_size=3, strides=2, padding='same')\n",
    "    ])"
   ],
   "metadata": {
    "collapsed": false,
    "pycharm": {
     "name": "#%%\n"
    }
   }
  },
  {
   "cell_type": "code",
   "execution_count": 13,
   "outputs": [],
   "source": [
    "class ResnetBlock(keras.layers.Layer):\n",
    "    def __init__(self,num_channels,num_residuals,\n",
    "                 first_block = False,**kwargs):\n",
    "        super(ResnetBlock, self).__init__()\n",
    "        self.residual_layers = []\n",
    "        for i in range(num_residuals):\n",
    "            if i == 0 and not first_block:\n",
    "                self.residual_layers.append(\n",
    "                    Residual(num_channels,use_1x1conv=True,strides=2)\n",
    "                )\n",
    "            else:\n",
    "                self.residual_layers.append(Residual(num_channels))\n",
    "\n",
    "    def call(self,X):\n",
    "        for layer in self.residual_layers.layers:\n",
    "            X = layer(X)\n",
    "        return X"
   ],
   "metadata": {
    "collapsed": false,
    "pycharm": {
     "name": "#%%\n"
    }
   }
  },
  {
   "cell_type": "code",
   "execution_count": 14,
   "outputs": [],
   "source": [
    "b2 = ResnetBlock(64, 2, first_block=True)\n",
    "b3 = ResnetBlock(128, 2)\n",
    "b4 = ResnetBlock(256, 2)\n",
    "b5 = ResnetBlock(512, 2)"
   ],
   "metadata": {
    "collapsed": false,
    "pycharm": {
     "name": "#%%\n"
    }
   }
  },
  {
   "cell_type": "code",
   "execution_count": 16,
   "outputs": [],
   "source": [
    "def net():\n",
    "    return keras.Sequential([\n",
    "\n",
    "        keras.layers.Conv2D(64, kernel_size=7, strides=2, padding='same'),\n",
    "        keras.layers.BatchNormalization(),\n",
    "        keras.layers.Activation('relu'),\n",
    "        keras.layers.MaxPool2D(pool_size=3, strides=2, padding='same'),\n",
    "\n",
    "        ResnetBlock(64, 2, first_block=True),\n",
    "        ResnetBlock(128, 2),\n",
    "        ResnetBlock(256, 2),\n",
    "        ResnetBlock(512, 2),\n",
    "        keras.layers.GlobalAvgPool2D(),\n",
    "        keras.layers.Dense(units=10)\n",
    "    ])"
   ],
   "metadata": {
    "collapsed": false,
    "pycharm": {
     "name": "#%%\n"
    }
   }
  },
  {
   "cell_type": "code",
   "execution_count": 17,
   "outputs": [
    {
     "name": "stdout",
     "output_type": "stream",
     "text": [
      "Conv2D output shape:\t (1, 112, 112, 64)\n",
      "BatchNormalization output shape:\t (1, 112, 112, 64)\n",
      "Activation output shape:\t (1, 112, 112, 64)\n",
      "MaxPooling2D output shape:\t (1, 56, 56, 64)\n",
      "ResnetBlock output shape:\t (1, 56, 56, 64)\n",
      "ResnetBlock output shape:\t (1, 28, 28, 128)\n",
      "ResnetBlock output shape:\t (1, 14, 14, 256)\n",
      "ResnetBlock output shape:\t (1, 7, 7, 512)\n",
      "GlobalAveragePooling2D output shape:\t (1, 512)\n",
      "Dense output shape:\t (1, 10)\n"
     ]
    }
   ],
   "source": [
    "X = tf.random.uniform(shape=(1, 224, 224, 1))\n",
    "for layer in net().layers:\n",
    "    X = layer(X)\n",
    "    print(layer.__class__.__name__,'output shape:\\t', X.shape)"
   ],
   "metadata": {
    "collapsed": false,
    "pycharm": {
     "name": "#%%\n"
    }
   }
  },
  {
   "cell_type": "code",
   "execution_count": null,
   "outputs": [],
   "source": [],
   "metadata": {
    "collapsed": false,
    "pycharm": {
     "name": "#%%\n"
    }
   }
  }
 ],
 "metadata": {
  "kernelspec": {
   "display_name": "Python 3",
   "language": "python",
   "name": "python3"
  },
  "language_info": {
   "codemirror_mode": {
    "name": "ipython",
    "version": 2
   },
   "file_extension": ".py",
   "mimetype": "text/x-python",
   "name": "python",
   "nbconvert_exporter": "python",
   "pygments_lexer": "ipython2",
   "version": "2.7.6"
  }
 },
 "nbformat": 4,
 "nbformat_minor": 0
}