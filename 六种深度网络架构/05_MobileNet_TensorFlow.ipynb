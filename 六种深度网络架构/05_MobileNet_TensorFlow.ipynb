{
 "cells": [
  {
   "cell_type": "code",
   "execution_count": 1,
   "metadata": {
    "collapsed": true
   },
   "outputs": [],
   "source": [
    "import tensorflow as tf\n",
    "import tensorflow.keras as keras\n",
    "\n",
    "\n",
    "class conv_block(keras.Model):\n",
    "    def __init__(self,filters,kernel_size = 3,strides = 1):\n",
    "        super(conv_block, self).__init__()\n",
    "        self.conv = keras.layers.Conv2D(\n",
    "                            filters=filters,kernel_size=kernel_size,\n",
    "                            strides = strides,padding='same',\n",
    "                            use_bias=False)\n",
    "        self.bn = keras.layers.BatchNormalization()\n",
    "        self.relu = keras.layers.Activation('relu')\n",
    "\n",
    "    def call(self,x):\n",
    "        Y = self.relu(self.bn(self.conv(x)))\n",
    "        return Y"
   ]
  },
  {
   "cell_type": "code",
   "execution_count": 2,
   "outputs": [],
   "source": [
    "class depthwise_conv_block(keras.Model):\n",
    "    def __init__(self,pointwise_conv_filters,strides = 1):\n",
    "        super(depthwise_conv_block, self).__init__()\n",
    "        self.dwConv = keras.layers.DepthwiseConv2D(\n",
    "                        kernel_size=(3,3),  strides=strides,\n",
    "                        padding='SAME',use_bias=False)\n",
    "        self.bn1 = keras.layers.BatchNormalization()\n",
    "        self.relu1 = keras.layers.Activation('relu')\n",
    "\n",
    "        self.conv1x1 = keras.layers.Conv2D(filters=pointwise_conv_filters,\n",
    "                            kernel_size=(1,1),\n",
    "                            padding='SAME', use_bias=False)\n",
    "        self.bn2 = keras.layers.BatchNormalization()\n",
    "        self.relu2 = keras.layers.Activation('relu')\n",
    "\n",
    "    def call(self,x):\n",
    "        Y = self.relu1(self.bn1(self.dwConv(x)))\n",
    "        Y = self.relu2(self.bn2(self.conv1x1(Y)))\n",
    "        return Y"
   ],
   "metadata": {
    "collapsed": false,
    "pycharm": {
     "name": "#%%\n"
    }
   }
  },
  {
   "cell_type": "code",
   "execution_count": 8,
   "outputs": [],
   "source": [
    "def mobilenet_v1(num_classes = 1000):\n",
    "    return keras.models.Sequential([\n",
    "        conv_block(filters=32,strides=2),\n",
    "        depthwise_conv_block(64),\n",
    "        depthwise_conv_block(128,strides=2),\n",
    "        depthwise_conv_block(128),\n",
    "        depthwise_conv_block(256,strides=2),\n",
    "        depthwise_conv_block(256),\n",
    "        depthwise_conv_block(512,strides=2),\n",
    "        depthwise_conv_block(512),\n",
    "        depthwise_conv_block(512),\n",
    "        depthwise_conv_block(512),\n",
    "        depthwise_conv_block(512),\n",
    "        depthwise_conv_block(512),\n",
    "        depthwise_conv_block(1024,strides=2),\n",
    "        depthwise_conv_block(1024),\n",
    "\n",
    "        keras.layers.GlobalAveragePooling2D(),\n",
    "        keras.layers.Dense(num_classes)\n",
    "    ])"
   ],
   "metadata": {
    "collapsed": false,
    "pycharm": {
     "name": "#%%\n"
    }
   }
  },
  {
   "cell_type": "code",
   "execution_count": 9,
   "outputs": [
    {
     "name": "stdout",
     "output_type": "stream",
     "text": [
      "conv_block output shape:\t (1, 112, 112, 32)\n",
      "depthwise_conv_block output shape:\t (1, 112, 112, 64)\n",
      "depthwise_conv_block output shape:\t (1, 56, 56, 128)\n",
      "depthwise_conv_block output shape:\t (1, 56, 56, 128)\n",
      "depthwise_conv_block output shape:\t (1, 28, 28, 256)\n",
      "depthwise_conv_block output shape:\t (1, 28, 28, 256)\n",
      "depthwise_conv_block output shape:\t (1, 14, 14, 512)\n",
      "depthwise_conv_block output shape:\t (1, 14, 14, 512)\n",
      "depthwise_conv_block output shape:\t (1, 14, 14, 512)\n",
      "depthwise_conv_block output shape:\t (1, 14, 14, 512)\n",
      "depthwise_conv_block output shape:\t (1, 14, 14, 512)\n",
      "depthwise_conv_block output shape:\t (1, 14, 14, 512)\n",
      "depthwise_conv_block output shape:\t (1, 7, 7, 1024)\n",
      "depthwise_conv_block output shape:\t (1, 7, 7, 1024)\n",
      "GlobalAveragePooling2D output shape:\t (1, 1024)\n",
      "Dense output shape:\t (1, 1000)\n"
     ]
    }
   ],
   "source": [
    "net = mobilenet_v1(1000)\n",
    "\n",
    "X = tf.random.uniform(shape=(1, 224, 224, 3))\n",
    "for layer in net.layers:\n",
    "    X = layer(X)\n",
    "    print(layer.__class__.__name__,'output shape:\\t', X.shape)"
   ],
   "metadata": {
    "collapsed": false,
    "pycharm": {
     "name": "#%%\n"
    }
   }
  },
  {
   "cell_type": "code",
   "execution_count": null,
   "outputs": [],
   "source": [],
   "metadata": {
    "collapsed": false,
    "pycharm": {
     "name": "#%%\n"
    }
   }
  }
 ],
 "metadata": {
  "kernelspec": {
   "display_name": "Python 3",
   "language": "python",
   "name": "python3"
  },
  "language_info": {
   "codemirror_mode": {
    "name": "ipython",
    "version": 2
   },
   "file_extension": ".py",
   "mimetype": "text/x-python",
   "name": "python",
   "nbconvert_exporter": "python",
   "pygments_lexer": "ipython2",
   "version": "2.7.6"
  }
 },
 "nbformat": 4,
 "nbformat_minor": 0
}