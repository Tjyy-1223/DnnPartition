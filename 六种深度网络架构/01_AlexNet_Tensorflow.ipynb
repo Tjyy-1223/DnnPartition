{
 "cells": [
  {
   "cell_type": "code",
   "execution_count": 17,
   "outputs": [
    {
     "name": "stdout",
     "output_type": "stream",
     "text": [
      "2.7.0\n"
     ]
    }
   ],
   "source": [
    "import tensorflow as tf\n",
    "import tensorflow.keras as keras\n",
    "print(tf.__version__)\n"
   ],
   "metadata": {
    "collapsed": false,
    "pycharm": {
     "name": "#%%\n"
    }
   }
  },
  {
   "cell_type": "code",
   "execution_count": 20,
   "outputs": [],
   "source": [
    "from d2l import tensorflow as d2l\n",
    "def  net():\n",
    "    net = keras.models.Sequential([\n",
    "        keras.layers.Conv2D(filters=96,kernel_size=11,strides=4,\n",
    "                        activation='relu'),\n",
    "        keras.layers.MaxPool2D(pool_size=3,strides=2),\n",
    "        keras.layers.BatchNormalization(),\n",
    "        keras.layers.Conv2D(filters=256,kernel_size=5,padding='same',\n",
    "                            activation='relu'),\n",
    "        keras.layers.MaxPool2D(pool_size=3, strides=2),\n",
    "        keras.layers.BatchNormalization(),\n",
    "\n",
    "        keras.layers.Conv2D(filters=384, kernel_size=3, padding='same',\n",
    "                               activation='relu'),\n",
    "        keras.layers.Conv2D(filters=384, kernel_size=3, padding='same',\n",
    "                               activation='relu'),\n",
    "        keras.layers.Conv2D(filters=256, kernel_size=3, padding='same',\n",
    "                               activation='relu'),\n",
    "\n",
    "        keras.layers.MaxPool2D(pool_size=3,strides=2),\n",
    "        keras.layers.Flatten(),\n",
    "\n",
    "        keras.layers.Dense(4096, activation='relu'),\n",
    "        keras.layers.Dropout(0.5),\n",
    "        keras.layers.Dense(4096, activation='relu'),\n",
    "        keras.layers.Dropout(0.5),\n",
    "        keras.layers.Dense(1000)\n",
    "    ])\n",
    "    return net\n"
   ],
   "metadata": {
    "collapsed": false,
    "pycharm": {
     "name": "#%%\n"
    }
   }
  },
  {
   "cell_type": "code",
   "execution_count": 21,
   "outputs": [
    {
     "name": "stdout",
     "output_type": "stream",
     "text": [
      "Conv2D output shape:\t (1, 54, 54, 96)\n",
      "MaxPooling2D output shape:\t (1, 26, 26, 96)\n",
      "BatchNormalization output shape:\t (1, 26, 26, 96)\n",
      "Conv2D output shape:\t (1, 26, 26, 256)\n",
      "MaxPooling2D output shape:\t (1, 12, 12, 256)\n",
      "BatchNormalization output shape:\t (1, 12, 12, 256)\n",
      "Conv2D output shape:\t (1, 12, 12, 384)\n",
      "Conv2D output shape:\t (1, 12, 12, 384)\n",
      "Conv2D output shape:\t (1, 12, 12, 256)\n",
      "MaxPooling2D output shape:\t (1, 5, 5, 256)\n",
      "Flatten output shape:\t (1, 6400)\n",
      "Dense output shape:\t (1, 4096)\n",
      "Dropout output shape:\t (1, 4096)\n",
      "Dense output shape:\t (1, 4096)\n",
      "Dropout output shape:\t (1, 4096)\n",
      "Dense output shape:\t (1, 1000)\n"
     ]
    }
   ],
   "source": [
    "X = tf.random.uniform((1, 224, 224, 1))\n",
    "for layer in net().layers:\n",
    "    X = layer(X)\n",
    "    print(layer.__class__.__name__, 'output shape:\\t', X.shape)"
   ],
   "metadata": {
    "collapsed": false,
    "pycharm": {
     "name": "#%%\n"
    }
   }
  },
  {
   "cell_type": "code",
   "execution_count": null,
   "outputs": [],
   "source": [],
   "metadata": {
    "collapsed": false,
    "pycharm": {
     "name": "#%%\n"
    }
   }
  }
 ],
 "metadata": {
  "kernelspec": {
   "display_name": "Python 3",
   "language": "python",
   "name": "python3"
  },
  "language_info": {
   "codemirror_mode": {
    "name": "ipython",
    "version": 2
   },
   "file_extension": ".py",
   "mimetype": "text/x-python",
   "name": "python",
   "nbconvert_exporter": "python",
   "pygments_lexer": "ipython2",
   "version": "2.7.6"
  }
 },
 "nbformat": 4,
 "nbformat_minor": 0
}