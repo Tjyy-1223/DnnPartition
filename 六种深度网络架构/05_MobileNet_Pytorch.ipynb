{
 "cells": [
  {
   "cell_type": "code",
   "execution_count": 2,
   "metadata": {
    "collapsed": true
   },
   "outputs": [],
   "source": [
    "import torch\n",
    "import torch.nn as nn\n",
    "import torch.nn.functional as F\n",
    "\n",
    "class Block(nn.Module):\n",
    "    '''Depthwise conv + Pointwise conv'''\n",
    "    def __init__(self,in_channels,out_channels,stride = 1):\n",
    "        super(Block, self).__init__()\n",
    "        self.conv1 = nn.Conv2d(in_channels,in_channels,kernel_size=3,\n",
    "                               stride=stride,padding=1,groups=in_channels,bias=False)\n",
    "        self.bn1 = nn.BatchNorm2d(in_channels)\n",
    "        self.conv2 = nn.Conv2d(in_channels,out_channels,kernel_size=1,\n",
    "                               stride=1,padding=0,bias=False)\n",
    "        self.bn2 = nn.BatchNorm2d(out_channels)\n",
    "\n",
    "    def forward(self,x):\n",
    "        out = F.relu(self.bn1(self.conv1(x)))\n",
    "        out = F.relu(self.bn2(self.conv2(out)))\n",
    "        return out"
   ]
  },
  {
   "cell_type": "code",
   "execution_count": 8,
   "outputs": [],
   "source": [
    "class MobileNet(nn.Module):\n",
    "    # (128,2) means conv channels=128, conv stride=2,\n",
    "    # by default conv stride=1\n",
    "    cfg = [64, (128,2), 128, (256,2), 256, (512,2),\n",
    "           512, 512, 512, 512, 512, (1024,2), 1024]\n",
    "\n",
    "    def __init__(self,num_classes = 10):\n",
    "        super(MobileNet, self).__init__()\n",
    "        self.conv1 = nn.Conv2d(3, 32, kernel_size=3,\n",
    "         stride=1, padding=1, bias=False)\n",
    "        self.bn1 = nn.BatchNorm2d(32)\n",
    "        self.layers = self._make_layers(in_channels=32)\n",
    "        self.linear = nn.Linear(1024, num_classes)\n",
    "        self.AdaptPool = nn.AdaptiveAvgPool2d((1,1))\n",
    "\n",
    "    def _make_layers(self,in_channels):\n",
    "        layers = []\n",
    "        for x in self.cfg:\n",
    "            out_channels = x if isinstance(x,int) else x[0]\n",
    "            stride = 1 if isinstance(x,int) else x[1]\n",
    "            layers.append(Block(in_channels,out_channels,stride))\n",
    "            in_channels = out_channels\n",
    "        return nn.Sequential(*layers)\n",
    "\n",
    "    def forward(self,x):\n",
    "        out = F.relu(self.bn1(self.conv1(x)))\n",
    "        out = self.layers(out)\n",
    "        print(out.shape)\n",
    "        out = self.AdaptPool(out)\n",
    "        print(out.shape)\n",
    "        out = out.view(out.size(0), -1)\n",
    "        print(out.shape)\n",
    "        out = self.linear(out)\n",
    "        print(out.shape)\n",
    "        return out"
   ],
   "metadata": {
    "collapsed": false,
    "pycharm": {
     "name": "#%%\n"
    }
   }
  },
  {
   "cell_type": "code",
   "execution_count": 9,
   "outputs": [
    {
     "name": "stdout",
     "output_type": "stream",
     "text": [
      "torch.Size([1, 1024, 14, 14])\n",
      "torch.Size([1, 1024, 1, 1])\n",
      "torch.Size([1, 1024])\n",
      "torch.Size([1, 10])\n"
     ]
    }
   ],
   "source": [
    "net = MobileNet()\n",
    "x = torch.randn(1,3,224,224)\n",
    "\n",
    "out = net(x)"
   ],
   "metadata": {
    "collapsed": false,
    "pycharm": {
     "name": "#%%\n"
    }
   }
  },
  {
   "cell_type": "code",
   "execution_count": null,
   "outputs": [],
   "source": [],
   "metadata": {
    "collapsed": false,
    "pycharm": {
     "name": "#%%\n"
    }
   }
  }
 ],
 "metadata": {
  "kernelspec": {
   "display_name": "Python 3",
   "language": "python",
   "name": "python3"
  },
  "language_info": {
   "codemirror_mode": {
    "name": "ipython",
    "version": 2
   },
   "file_extension": ".py",
   "mimetype": "text/x-python",
   "name": "python",
   "nbconvert_exporter": "python",
   "pygments_lexer": "ipython2",
   "version": "2.7.6"
  }
 },
 "nbformat": 4,
 "nbformat_minor": 0
}