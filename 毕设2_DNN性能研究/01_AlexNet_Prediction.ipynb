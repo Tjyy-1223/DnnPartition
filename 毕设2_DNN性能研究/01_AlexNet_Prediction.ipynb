{
 "cells": [
  {
   "cell_type": "code",
   "execution_count": 91,
   "metadata": {
    "collapsed": true
   },
   "outputs": [
    {
     "name": "stdout",
     "output_type": "stream",
     "text": [
      "Using cpu device\n"
     ]
    }
   ],
   "source": [
    "import torch\n",
    "from torchvision import models\n",
    "import torch.nn as nn\n",
    "\n",
    "# 获取alexNet预训练参数\n",
    "# alexNet = models.alexnet(pretrained=True)\n",
    "# torch.save(alexNet.state_dict(),'alexNet_weights.pth')\n",
    "# Get cpu or gpu device for training.\n",
    "device = \"cuda\" if torch.cuda.is_available() else \"cpu\"\n",
    "print(f\"Using {device} device\")"
   ]
  },
  {
   "cell_type": "code",
   "execution_count": 92,
   "outputs": [],
   "source": [
    "from collections import abc\n",
    "\"\"\"修改 alexnet 使其 iterable\"\"\"\n",
    "class AlexNet(nn.Module):\n",
    "    def __init__(self,input_layer = 3,num_classes: int = 1000) -> None:\n",
    "        super(AlexNet, self).__init__()\n",
    "        self.features = nn.Sequential(\n",
    "            nn.Conv2d(input_layer, 64, kernel_size=11, stride=4, padding=2),\n",
    "            nn.ReLU(inplace=True),\n",
    "            nn.MaxPool2d(kernel_size=3, stride=2),\n",
    "            nn.Conv2d(64, 192, kernel_size=5, padding=2),\n",
    "            nn.ReLU(inplace=True),\n",
    "            nn.MaxPool2d(kernel_size=3, stride=2),\n",
    "            nn.Conv2d(192, 384, kernel_size=3, padding=1),\n",
    "            nn.ReLU(inplace=True),\n",
    "            nn.Conv2d(384, 256, kernel_size=3, padding=1),\n",
    "            nn.ReLU(inplace=True),\n",
    "            nn.Conv2d(256, 256, kernel_size=3, padding=1),\n",
    "            nn.ReLU(inplace=True),\n",
    "            nn.MaxPool2d(kernel_size=3, stride=2),\n",
    "        )\n",
    "        self.avgpool = nn.AdaptiveAvgPool2d((6, 6))\n",
    "        self.classifier = nn.Sequential(\n",
    "            nn.Flatten(),\n",
    "            nn.Dropout(),\n",
    "            nn.Linear(256 * 6 * 6, 4096),\n",
    "            nn.ReLU(inplace=True),\n",
    "            nn.Dropout(),\n",
    "            nn.Linear(4096, 4096),\n",
    "            nn.ReLU(inplace=True),\n",
    "            nn.Linear(4096, num_classes),\n",
    "        )\n",
    "\n",
    "    def forward(self, x: torch.Tensor) -> torch.Tensor:\n",
    "        x = self.features(x)\n",
    "        x = self.avgpool(x)\n",
    "        x = self.classifier(x)\n",
    "        return x\n",
    "\n",
    "    def __iter__(self,):\n",
    "        return SentenceIterator(self.features,self.avgpool,self.classifier)\n",
    "\n",
    "class SentenceIterator(abc.Iterator):\n",
    "    def __init__(self,features,avgpool,classifier):\n",
    "        self.features = features\n",
    "        self.avg_pool = avgpool\n",
    "        self.classifier = classifier\n",
    "        self._index = 0\n",
    "        self.len1 = len(features)\n",
    "        self.len2 = 1\n",
    "        self.len3 = len(classifier)\n",
    "\n",
    "\n",
    "    def __next__(self):\n",
    "        try:\n",
    "            if self._index < self.len1:\n",
    "                layer = self.features[self._index]\n",
    "            elif self._index < (self.len1 + self.len2):\n",
    "                layer = self.avg_pool\n",
    "            else:\n",
    "                layer = self.classifier[self._index - self.len1 - self.len2]\n",
    "        except IndexError:\n",
    "            raise StopIteration()\n",
    "        else:\n",
    "            self._index += 1\n",
    "\n",
    "        return layer"
   ],
   "metadata": {
    "collapsed": false,
    "pycharm": {
     "name": "#%%\n"
    }
   }
  },
  {
   "cell_type": "code",
   "execution_count": 94,
   "outputs": [],
   "source": [
    "def alexnet(pretrained: bool = False, **kwargs) -> AlexNet:\n",
    "    model = AlexNet(**kwargs).to(device)\n",
    "    if pretrained:\n",
    "        state_dict = torch.load('./00_model_parameters/alexNet_weights.pth')\n",
    "        model.load_state_dict(state_dict)\n",
    "    return model"
   ],
   "metadata": {
    "collapsed": false,
    "pycharm": {
     "name": "#%%\n"
    }
   }
  },
  {
   "cell_type": "code",
   "execution_count": 96,
   "outputs": [],
   "source": [
    "\"\"\"\n",
    "    使用与训练好的参数先预测一波fashionmnis图像分类的准确率\n",
    "\"\"\"\n",
    "from torchvision import datasets\n",
    "from torchvision import transforms\n",
    "from torch.utils.data import DataLoader\n",
    "\n",
    "resize = 224\n",
    "trans = transforms.Compose([\n",
    "    transforms.Resize(resize),\n",
    "    transforms.ToTensor(),\n",
    "])\n",
    "training_data = datasets.FashionMNIST(root = \"../data\",train=True,download=False,transform=trans)\n",
    "test_data = datasets.FashionMNIST(root = \"../data\",train=False,download=True,transform=trans)\n",
    "\n",
    "mytest_data = []\n",
    "for idx,(x,y) in enumerate(test_data):\n",
    "    mytest_data.append((torch.cat((x,x,x),dim=0),y))\n",
    "\n",
    "train_dataloader = DataLoader(training_data,batch_size=64,shuffle=True)\n",
    "test_dataloader = DataLoader(mytest_data,batch_size=64,shuffle=True)\n",
    "\n",
    "# 预训练最后输出维度1000 所以目前fashion数据集只能多加个 linear 1000->10\n",
    "# 后续换成cifar-10 数据集可以正常运行\n",
    "alexNet = nn.Sequential(\n",
    "    alexnet(pretrained=False,num_classes=1000),\n",
    "    nn.Linear(1000,10),\n",
    ").to(device)"
   ],
   "metadata": {
    "collapsed": false,
    "pycharm": {
     "name": "#%%\n"
    }
   }
  },
  {
   "cell_type": "code",
   "execution_count": 97,
   "outputs": [
    {
     "name": "stdout",
     "output_type": "stream",
     "text": [
      "all number: 640   correct number: 63.0\n",
      "Accuracy:  9.8% , avg loss :2.302670\n",
      "--------------------------------------------------\n",
      "all number: 1280   correct number: 125.0\n",
      "Accuracy:  9.8% , avg loss :2.302659\n",
      "--------------------------------------------------\n",
      "all number: 1920   correct number: 176.0\n",
      "Accuracy:  9.2% , avg loss :2.302793\n",
      "--------------------------------------------------\n",
      "all number: 2560   correct number: 242.0\n",
      "Accuracy:  9.5% , avg loss :2.302923\n",
      "--------------------------------------------------\n",
      "all number: 3200   correct number: 297.0\n",
      "Accuracy:  9.3% , avg loss :2.302683\n",
      "--------------------------------------------------\n",
      "all number: 3840   correct number: 357.0\n",
      "Accuracy:  9.3% , avg loss :2.302678\n",
      "--------------------------------------------------\n",
      "all number: 4480   correct number: 423.0\n",
      "Accuracy:  9.4% , avg loss :2.302618\n",
      "--------------------------------------------------\n",
      "all number: 5120   correct number: 486.0\n",
      "Accuracy:  9.5% , avg loss :2.302684\n",
      "--------------------------------------------------\n",
      "all number: 5760   correct number: 561.0\n",
      "Accuracy:  9.7% , avg loss :2.302624\n",
      "--------------------------------------------------\n",
      "all number: 6400   correct number: 631.0\n",
      "Accuracy:  9.9% , avg loss :2.302721\n",
      "--------------------------------------------------\n",
      "all number: 7040   correct number: 688.0\n",
      "Accuracy:  9.8% , avg loss :2.302733\n",
      "--------------------------------------------------\n",
      "all number: 7680   correct number: 757.0\n",
      "Accuracy:  9.9% , avg loss :2.302776\n",
      "--------------------------------------------------\n",
      "all number: 8320   correct number: 815.0\n",
      "Accuracy:  9.8% , avg loss :2.302757\n",
      "--------------------------------------------------\n",
      "all number: 8960   correct number: 879.0\n",
      "Accuracy:  9.8% , avg loss :2.302737\n",
      "--------------------------------------------------\n",
      "all number: 9600   correct number: 955.0\n",
      "Accuracy:  9.9% , avg loss :2.302762\n",
      "--------------------------------------------------\n",
      "test error :\n",
      " Accuracy:  10.0 , avg loss :2.302793\n"
     ]
    }
   ],
   "source": [
    "\"\"\"\n",
    "    测定test数据集准确率\n",
    "    batch input [64,1,224,224]\n",
    "    batch label [64]\n",
    "\n",
    "    batch output [64,10]\n",
    "\"\"\"\n",
    "def test(dataloader,model,loss_fn):\n",
    "    size = len(dataloader.dataset)\n",
    "    num_batches = len(dataloader)\n",
    "    model.eval()\n",
    "    test_loss,correct,all = 0,0,0\n",
    "    with torch.no_grad():\n",
    "        for idx,(X,y) in enumerate(dataloader):\n",
    "            X, y = X.to(device), y.to(device)\n",
    "            all += 64\n",
    "            # X,y = X.to(device),y.to(device)\n",
    "            pred = model(X)\n",
    "            test_loss += loss_fn(pred,y).item()\n",
    "            correct += (pred.argmax(1) == y).type(torch.float).sum().item()\n",
    "            if(all % 640 == 0):\n",
    "                print(f\"all number: {all}   correct number: {correct}\")\n",
    "                print(f\"Accuracy: {(100*(correct/all)) :> 0.1f}% , avg loss :{test_loss/(idx+1):>8f}\")\n",
    "                print(f\"--------------------------------------------------\")\n",
    "    test_loss /= num_batches\n",
    "    correct /= size\n",
    "    print(f\"test error :\\n Accuracy: {(100*correct) :> 0.1f} , avg loss :{test_loss:>8f}\")\n",
    "\n",
    "test(test_dataloader,alexNet,nn.CrossEntropyLoss())"
   ],
   "metadata": {
    "collapsed": false,
    "pycharm": {
     "name": "#%%\n"
    }
   }
  },
  {
   "cell_type": "code",
   "execution_count": 99,
   "outputs": [
    {
     "name": "stdout",
     "output_type": "stream",
     "text": [
      "Conv2d output shape:\t torch.Size([10000, 64, 55, 55]) \t computation time: 30.324000 s\n",
      "ReLU output shape:\t torch.Size([10000, 64, 55, 55]) \t computation time: 2.817000 s\n",
      "MaxPool2d output shape:\t torch.Size([10000, 64, 27, 27]) \t computation time: 3.487000 s\n",
      "Conv2d output shape:\t torch.Size([10000, 192, 27, 27]) \t computation time: 38.240000 s\n",
      "ReLU output shape:\t torch.Size([10000, 192, 27, 27]) \t computation time: 0.197000 s\n",
      "MaxPool2d output shape:\t torch.Size([10000, 192, 13, 13]) \t computation time: 3.043000 s\n",
      "Conv2d output shape:\t torch.Size([10000, 384, 13, 13]) \t computation time: 10.292000 s\n",
      "ReLU output shape:\t torch.Size([10000, 384, 13, 13]) \t computation time: 0.407000 s\n",
      "Conv2d output shape:\t torch.Size([10000, 256, 13, 13]) \t computation time: 12.459000 s\n",
      "ReLU output shape:\t torch.Size([10000, 256, 13, 13]) \t computation time: 0.198000 s\n",
      "Conv2d output shape:\t torch.Size([10000, 256, 13, 13]) \t computation time: 7.091000 s\n",
      "ReLU output shape:\t torch.Size([10000, 256, 13, 13]) \t computation time: 0.209000 s\n",
      "MaxPool2d output shape:\t torch.Size([10000, 256, 6, 6]) \t computation time: 0.775000 s\n",
      "AdaptiveAvgPool2d output shape:\t torch.Size([10000, 256, 6, 6]) \t computation time: 0.216000 s\n",
      "Flatten output shape:\t torch.Size([10000, 9216]) \t computation time: 0.007000 s\n",
      "Dropout output shape:\t torch.Size([10000, 9216]) \t computation time: 0.766000 s\n",
      "Linear output shape:\t torch.Size([10000, 4096]) \t computation time: 2.626000 s\n",
      "ReLU output shape:\t torch.Size([10000, 4096]) \t computation time: 0.009000 s\n",
      "Dropout output shape:\t torch.Size([10000, 4096]) \t computation time: 0.222000 s\n",
      "Linear output shape:\t torch.Size([10000, 4096]) \t computation time: 1.062000 s\n",
      "ReLU output shape:\t torch.Size([10000, 4096]) \t computation time: 0.005000 s\n",
      "Linear output shape:\t torch.Size([10000, 1000]) \t computation time: 0.300000 s\n"
     ]
    }
   ],
   "source": [
    "\"\"\"\n",
    "    尝试分解每层的计算\n",
    "\"\"\"\n",
    "import time\n",
    "x = torch.rand(size=(10000,3,224,224))\n",
    "x = x.to(device)\n",
    "alexNet2 = alexnet(input_layer = 3,num_classes = 1000)\n",
    "\n",
    "for layer in alexNet2:\n",
    "    start_time = int(round(time.time() * 1000))\n",
    "    x = layer(x)\n",
    "    end_time = int(round(time.time() * 1000))\n",
    "    print(layer.__class__.__name__,'output shape:\\t',x.shape,\n",
    "          f'\\t computation time: {(end_time - start_time)/1000 :>3f} s')"
   ],
   "metadata": {
    "collapsed": false,
    "pycharm": {
     "name": "#%%\n"
    }
   }
  },
  {
   "cell_type": "code",
   "execution_count": 74,
   "outputs": [
    {
     "name": "stdout",
     "output_type": "stream",
     "text": [
      "3\n"
     ]
    }
   ],
   "source": [
    "model = nn.Sequential(\n",
    "    nn.Conv2d(3, 64, kernel_size=11, stride=4, padding=2),\n",
    "            nn.ReLU(inplace=True),\n",
    "            nn.MaxPool2d(kernel_size=3, stride=2),\n",
    ")\n",
    "\n",
    "print(len(model))"
   ],
   "metadata": {
    "collapsed": false,
    "pycharm": {
     "name": "#%%\n"
    }
   }
  },
  {
   "cell_type": "code",
   "execution_count": null,
   "outputs": [],
   "source": [],
   "metadata": {
    "collapsed": false,
    "pycharm": {
     "name": "#%%\n"
    }
   }
  }
 ],
 "metadata": {
  "kernelspec": {
   "display_name": "Python 3",
   "language": "python",
   "name": "python3"
  },
  "language_info": {
   "codemirror_mode": {
    "name": "ipython",
    "version": 2
   },
   "file_extension": ".py",
   "mimetype": "text/x-python",
   "name": "python",
   "nbconvert_exporter": "python",
   "pygments_lexer": "ipython2",
   "version": "2.7.6"
  }
 },
 "nbformat": 4,
 "nbformat_minor": 0
}