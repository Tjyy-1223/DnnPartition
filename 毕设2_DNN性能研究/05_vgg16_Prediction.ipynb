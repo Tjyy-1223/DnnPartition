{
 "cells": [
  {
   "cell_type": "code",
   "execution_count": 4,
   "metadata": {
    "collapsed": true
   },
   "outputs": [
    {
     "name": "stdout",
     "output_type": "stream",
     "text": [
      " \n",
      "cpu\n"
     ]
    }
   ],
   "source": [
    "import torch\n",
    "import function\n",
    "import a1_vggNet\n",
    "device = \"cuda\" if torch.cuda.is_available() else \"cpu\"\n",
    "print(device)"
   ]
  },
  {
   "cell_type": "code",
   "execution_count": 5,
   "outputs": [
    {
     "name": "stdout",
     "output_type": "stream",
     "text": [
      "x device : cpu\n"
     ]
    }
   ],
   "source": [
    "x = torch.rand(size=(100,3,224,224))\n",
    "x = x.to(device)\n",
    "print(f\"x device : {x.device}\")\n",
    "\n",
    "vgg16 = a1_vggNet.vgg16_bn()\n",
    "vgg16 = vgg16.to(device)"
   ],
   "metadata": {
    "collapsed": false,
    "pycharm": {
     "name": "#%%\n"
    }
   }
  },
  {
   "cell_type": "code",
   "execution_count": 6,
   "outputs": [
    {
     "name": "stdout",
     "output_type": "stream",
     "text": [
      "53\n"
     ]
    }
   ],
   "source": [
    "print(len(vgg16))"
   ],
   "metadata": {
    "collapsed": false,
    "pycharm": {
     "name": "#%%\n"
    }
   }
  },
  {
   "cell_type": "code",
   "execution_count": 7,
   "outputs": [
    {
     "name": "stdout",
     "output_type": "stream",
     "text": [
      "------------------------------------------------------------------\n",
      "1-Conv2d(3, 64, kernel_size=(3, 3), stride=(1, 1), padding=(1, 1)) \n",
      "computation time: 0.498 s\n",
      "output shape: torch.Size([100, 64, 224, 224])\t transport_num:321126400    transport_size:1284.506MB\n",
      "weight  :  parameters size torch.Size([64, 3, 3, 3]) \t parameters number 1728\n",
      "bias  :  parameters size torch.Size([64]) \t parameters number 64\n",
      "------------------------------------------------------------------\n",
      "2-Conv2d(64, 64, kernel_size=(3, 3), stride=(1, 1), padding=(1, 1)) \n",
      "computation time: 1.577 s\n",
      "output shape: torch.Size([100, 64, 224, 224])\t transport_num:321126400    transport_size:1284.506MB\n",
      "weight  :  parameters size torch.Size([64, 64, 3, 3]) \t parameters number 36864\n",
      "bias  :  parameters size torch.Size([64]) \t parameters number 64\n",
      "------------------------------------------------------------------\n",
      "3-MaxPool2d(kernel_size=2, stride=2, padding=0, dilation=1, ceil_mode=False) \n",
      "computation time: 0.156 s\n",
      "output shape: torch.Size([100, 64, 112, 112])\t transport_num:80281600    transport_size:321.126MB\n",
      "------------------------------------------------------------------\n",
      "4-Conv2d(64, 128, kernel_size=(3, 3), stride=(1, 1), padding=(1, 1)) \n",
      "computation time: 0.562 s\n",
      "output shape: torch.Size([100, 128, 112, 112])\t transport_num:160563200    transport_size:642.253MB\n",
      "weight  :  parameters size torch.Size([128, 64, 3, 3]) \t parameters number 73728\n",
      "bias  :  parameters size torch.Size([128]) \t parameters number 128\n",
      "------------------------------------------------------------------\n",
      "5-Conv2d(128, 128, kernel_size=(3, 3), stride=(1, 1), padding=(1, 1)) \n",
      "computation time: 0.837 s\n",
      "output shape: torch.Size([100, 128, 112, 112])\t transport_num:160563200    transport_size:642.253MB\n",
      "weight  :  parameters size torch.Size([128, 128, 3, 3]) \t parameters number 147456\n",
      "bias  :  parameters size torch.Size([128]) \t parameters number 128\n",
      "------------------------------------------------------------------\n",
      "6-MaxPool2d(kernel_size=2, stride=2, padding=0, dilation=1, ceil_mode=False) \n",
      "computation time: 0.087 s\n",
      "output shape: torch.Size([100, 128, 56, 56])\t transport_num:40140800    transport_size:160.563MB\n",
      "------------------------------------------------------------------\n",
      "7-Conv2d(128, 256, kernel_size=(3, 3), stride=(1, 1), padding=(1, 1)) \n",
      "computation time: 0.364 s\n",
      "output shape: torch.Size([100, 256, 56, 56])\t transport_num:80281600    transport_size:321.126MB\n",
      "weight  :  parameters size torch.Size([256, 128, 3, 3]) \t parameters number 294912\n",
      "bias  :  parameters size torch.Size([256]) \t parameters number 256\n",
      "------------------------------------------------------------------\n",
      "8-Conv2d(256, 256, kernel_size=(3, 3), stride=(1, 1), padding=(1, 1)) \n",
      "computation time: 0.606 s\n",
      "output shape: torch.Size([100, 256, 56, 56])\t transport_num:80281600    transport_size:321.126MB\n",
      "weight  :  parameters size torch.Size([256, 256, 3, 3]) \t parameters number 589824\n",
      "bias  :  parameters size torch.Size([256]) \t parameters number 256\n",
      "------------------------------------------------------------------\n",
      "9-Conv2d(256, 256, kernel_size=(3, 3), stride=(1, 1), padding=(1, 1)) \n",
      "computation time: 0.571 s\n",
      "output shape: torch.Size([100, 256, 56, 56])\t transport_num:80281600    transport_size:321.126MB\n",
      "weight  :  parameters size torch.Size([256, 256, 3, 3]) \t parameters number 589824\n",
      "bias  :  parameters size torch.Size([256]) \t parameters number 256\n",
      "------------------------------------------------------------------\n",
      "10-MaxPool2d(kernel_size=2, stride=2, padding=0, dilation=1, ceil_mode=False) \n",
      "computation time: 0.043 s\n",
      "output shape: torch.Size([100, 256, 28, 28])\t transport_num:20070400    transport_size:80.282MB\n",
      "------------------------------------------------------------------\n",
      "11-Conv2d(256, 512, kernel_size=(3, 3), stride=(1, 1), padding=(1, 1)) \n",
      "computation time: 0.337 s\n",
      "output shape: torch.Size([100, 512, 28, 28])\t transport_num:40140800    transport_size:160.563MB\n",
      "weight  :  parameters size torch.Size([512, 256, 3, 3]) \t parameters number 1179648\n",
      "bias  :  parameters size torch.Size([512]) \t parameters number 512\n",
      "------------------------------------------------------------------\n",
      "12-Conv2d(512, 512, kernel_size=(3, 3), stride=(1, 1), padding=(1, 1)) \n",
      "computation time: 0.567 s\n",
      "output shape: torch.Size([100, 512, 28, 28])\t transport_num:40140800    transport_size:160.563MB\n",
      "weight  :  parameters size torch.Size([512, 512, 3, 3]) \t parameters number 2359296\n",
      "bias  :  parameters size torch.Size([512]) \t parameters number 512\n",
      "------------------------------------------------------------------\n",
      "13-Conv2d(512, 512, kernel_size=(3, 3), stride=(1, 1), padding=(1, 1)) \n",
      "computation time: 0.493 s\n",
      "output shape: torch.Size([100, 512, 28, 28])\t transport_num:40140800    transport_size:160.563MB\n",
      "weight  :  parameters size torch.Size([512, 512, 3, 3]) \t parameters number 2359296\n",
      "bias  :  parameters size torch.Size([512]) \t parameters number 512\n",
      "------------------------------------------------------------------\n",
      "14-MaxPool2d(kernel_size=2, stride=2, padding=0, dilation=1, ceil_mode=False) \n",
      "computation time: 0.019 s\n",
      "output shape: torch.Size([100, 512, 14, 14])\t transport_num:10035200    transport_size:40.141MB\n",
      "------------------------------------------------------------------\n",
      "15-Conv2d(512, 512, kernel_size=(3, 3), stride=(1, 1), padding=(1, 1)) \n",
      "computation time: 0.139 s\n",
      "output shape: torch.Size([100, 512, 14, 14])\t transport_num:10035200    transport_size:40.141MB\n",
      "weight  :  parameters size torch.Size([512, 512, 3, 3]) \t parameters number 2359296\n",
      "bias  :  parameters size torch.Size([512]) \t parameters number 512\n",
      "------------------------------------------------------------------\n",
      "16-Conv2d(512, 512, kernel_size=(3, 3), stride=(1, 1), padding=(1, 1)) \n",
      "computation time: 0.142 s\n",
      "output shape: torch.Size([100, 512, 14, 14])\t transport_num:10035200    transport_size:40.141MB\n",
      "weight  :  parameters size torch.Size([512, 512, 3, 3]) \t parameters number 2359296\n",
      "bias  :  parameters size torch.Size([512]) \t parameters number 512\n",
      "------------------------------------------------------------------\n",
      "17-Conv2d(512, 512, kernel_size=(3, 3), stride=(1, 1), padding=(1, 1)) \n",
      "computation time: 0.136 s\n",
      "output shape: torch.Size([100, 512, 14, 14])\t transport_num:10035200    transport_size:40.141MB\n",
      "weight  :  parameters size torch.Size([512, 512, 3, 3]) \t parameters number 2359296\n",
      "bias  :  parameters size torch.Size([512]) \t parameters number 512\n",
      "------------------------------------------------------------------\n",
      "18-MaxPool2d(kernel_size=2, stride=2, padding=0, dilation=1, ceil_mode=False) \n",
      "computation time: 0.008 s\n",
      "output shape: torch.Size([100, 512, 7, 7])\t transport_num:2508800    transport_size:10.035MB\n",
      "------------------------------------------------------------------\n",
      "19-AdaptiveAvgPool2d(output_size=(7, 7)) \n",
      "computation time: 0.003 s\n",
      "output shape: torch.Size([100, 512, 7, 7])\t transport_num:2508800    transport_size:10.035MB\n",
      "------------------------------------------------------------------\n",
      "20-Flatten(start_dim=1, end_dim=-1) \n",
      "computation time: 0.0 s\n",
      "output shape: torch.Size([100, 25088])\t transport_num:2508800    transport_size:10.035MB\n",
      "------------------------------------------------------------------\n",
      "21-Linear(in_features=25088, out_features=4096, bias=True) \n",
      "computation time: 0.175 s\n",
      "output shape: torch.Size([100, 4096])\t transport_num:409600    transport_size:1.638MB\n",
      "weight  :  parameters size torch.Size([4096, 25088]) \t parameters number 102760448\n",
      "bias  :  parameters size torch.Size([4096]) \t parameters number 4096\n",
      "------------------------------------------------------------------\n",
      "22-Linear(in_features=4096, out_features=4096, bias=True) \n",
      "computation time: 0.02 s\n",
      "output shape: torch.Size([100, 4096])\t transport_num:409600    transport_size:1.638MB\n",
      "weight  :  parameters size torch.Size([4096, 4096]) \t parameters number 16777216\n",
      "bias  :  parameters size torch.Size([4096]) \t parameters number 4096\n",
      "------------------------------------------------------------------\n",
      "23-Linear(in_features=4096, out_features=1000, bias=True) \n",
      "computation time: 0.005 s\n",
      "output shape: torch.Size([100, 1000])\t transport_num:100000    transport_size:0.400MB\n",
      "weight  :  parameters size torch.Size([1000, 4096]) \t parameters number 4096000\n",
      "bias  :  parameters size torch.Size([1000]) \t parameters number 1000\n"
     ]
    }
   ],
   "source": [
    "temp_x = x\n",
    "temp_x = function.show_features(vgg16,temp_x)"
   ],
   "metadata": {
    "collapsed": false,
    "pycharm": {
     "name": "#%%\n"
    }
   }
  },
  {
   "cell_type": "code",
   "execution_count": 8,
   "outputs": [
    {
     "name": "stdout",
     "output_type": "stream",
     "text": [
      "1-Conv2d(3, 64, kernel_size=(3, 3), stride=(1, 1), padding=(1, 1))\n",
      "2-Conv2d(64, 64, kernel_size=(3, 3), stride=(1, 1), padding=(1, 1))\n",
      "3-MaxPool2d(kernel_size=2, stride=2, padding=0, dilation=1, ceil_mode=False)\n",
      "4-Conv2d(64, 128, kernel_size=(3, 3), stride=(1, 1), padding=(1, 1))\n",
      "5-Conv2d(128, 128, kernel_size=(3, 3), stride=(1, 1), padding=(1, 1))\n",
      "6-MaxPool2d(kernel_size=2, stride=2, padding=0, dilation=1, ceil_mode=False)\n",
      "7-Conv2d(128, 256, kernel_size=(3, 3), stride=(1, 1), padding=(1, 1))\n",
      "8-Conv2d(256, 256, kernel_size=(3, 3), stride=(1, 1), padding=(1, 1))\n",
      "9-Conv2d(256, 256, kernel_size=(3, 3), stride=(1, 1), padding=(1, 1))\n",
      "10-MaxPool2d(kernel_size=2, stride=2, padding=0, dilation=1, ceil_mode=False)\n",
      "11-Conv2d(256, 512, kernel_size=(3, 3), stride=(1, 1), padding=(1, 1))\n",
      "12-Conv2d(512, 512, kernel_size=(3, 3), stride=(1, 1), padding=(1, 1))\n",
      "13-Conv2d(512, 512, kernel_size=(3, 3), stride=(1, 1), padding=(1, 1))\n",
      "14-MaxPool2d(kernel_size=2, stride=2, padding=0, dilation=1, ceil_mode=False)\n",
      "15-Conv2d(512, 512, kernel_size=(3, 3), stride=(1, 1), padding=(1, 1))\n",
      "16-Conv2d(512, 512, kernel_size=(3, 3), stride=(1, 1), padding=(1, 1))\n",
      "17-Conv2d(512, 512, kernel_size=(3, 3), stride=(1, 1), padding=(1, 1))\n",
      "18-MaxPool2d(kernel_size=2, stride=2, padding=0, dilation=1, ceil_mode=False)\n",
      "19-AdaptiveAvgPool2d(output_size=(7, 7))\n",
      "20-Flatten(start_dim=1, end_dim=-1)\n",
      "21-Linear(in_features=25088, out_features=4096, bias=True)\n",
      "22-Linear(in_features=4096, out_features=4096, bias=True)\n",
      "23-Linear(in_features=4096, out_features=1000, bias=True)\n"
     ]
    }
   ],
   "source": [
    "function.show_1model(vgg16)"
   ],
   "metadata": {
    "collapsed": false,
    "pycharm": {
     "name": "#%%\n"
    }
   }
  },
  {
   "cell_type": "code",
   "execution_count": null,
   "outputs": [],
   "source": [],
   "metadata": {
    "collapsed": false,
    "pycharm": {
     "name": "#%%\n"
    }
   }
  }
 ],
 "metadata": {
  "kernelspec": {
   "display_name": "Python 3",
   "language": "python",
   "name": "python3"
  },
  "language_info": {
   "codemirror_mode": {
    "name": "ipython",
    "version": 2
   },
   "file_extension": ".py",
   "mimetype": "text/x-python",
   "name": "python",
   "nbconvert_exporter": "python",
   "pygments_lexer": "ipython2",
   "version": "2.7.6"
  }
 },
 "nbformat": 4,
 "nbformat_minor": 0
}