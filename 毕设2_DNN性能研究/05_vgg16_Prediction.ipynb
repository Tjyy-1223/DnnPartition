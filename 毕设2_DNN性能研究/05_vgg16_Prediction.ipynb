{
 "cells": [
  {
   "cell_type": "code",
   "execution_count": 1,
   "metadata": {
    "collapsed": true
   },
   "outputs": [
    {
     "name": "stdout",
     "output_type": "stream",
     "text": [
      "cuda\n"
     ]
    }
   ],
   "source": [
    "import torch\n",
    "import function\n",
    "import a2_vggNet\n",
    "device = \"cuda\" if torch.cuda.is_available() else \"cpu\"\n",
    "print(device)"
   ]
  },
  {
   "cell_type": "code",
   "execution_count": 2,
   "outputs": [
    {
     "name": "stdout",
     "output_type": "stream",
     "text": [
      "x device : cuda:0\n"
     ]
    }
   ],
   "source": [
    "x = torch.rand(size=(128,3,224,224))\n",
    "x = x.to(device)\n",
    "print(f\"x device : {x.device}\")\n",
    "\n",
    "vgg16 = a2_vggNet.vgg16_bn()\n",
    "vgg16 = vgg16.to(device)"
   ],
   "metadata": {
    "collapsed": false,
    "pycharm": {
     "name": "#%%\n"
    }
   }
  },
  {
   "cell_type": "code",
   "execution_count": 3,
   "outputs": [
    {
     "name": "stdout",
     "output_type": "stream",
     "text": [
      "53\n"
     ]
    }
   ],
   "source": [
    "print(len(vgg16))"
   ],
   "metadata": {
    "collapsed": false,
    "pycharm": {
     "name": "#%%\n"
    }
   }
  },
  {
   "cell_type": "code",
   "execution_count": 4,
   "outputs": [
    {
     "name": "stdout",
     "output_type": "stream",
     "text": [
      "------------------------------------------------------------------\n",
      "1-Conv2d(3, 64, kernel_size=(3, 3), stride=(1, 1), padding=(1, 1)) \n",
      "computation time: 1.53 s\n",
      "output shape: torch.Size([128, 64, 224, 224])\t transport_num:411041792    transport_size:1644.167MB\n",
      "weight  :  parameters size torch.Size([64, 3, 3, 3]) \t parameters number 1728\n",
      "bias  :  parameters size torch.Size([64]) \t parameters number 64\n",
      "------------------------------------------------------------------\n",
      "2-Conv2d(64, 64, kernel_size=(3, 3), stride=(1, 1), padding=(1, 1)) \n",
      "computation time: 0.006 s\n",
      "output shape: torch.Size([128, 64, 224, 224])\t transport_num:411041792    transport_size:1644.167MB\n",
      "weight  :  parameters size torch.Size([64, 64, 3, 3]) \t parameters number 36864\n",
      "bias  :  parameters size torch.Size([64]) \t parameters number 64\n",
      "------------------------------------------------------------------\n",
      "3-MaxPool2d(kernel_size=2, stride=2, padding=0, dilation=1, ceil_mode=False) \n",
      "computation time: 0.0 s\n",
      "output shape: torch.Size([128, 64, 112, 112])\t transport_num:102760448    transport_size:411.042MB\n",
      "------------------------------------------------------------------\n",
      "4-Conv2d(64, 128, kernel_size=(3, 3), stride=(1, 1), padding=(1, 1)) \n",
      "computation time: 0.155 s\n",
      "output shape: torch.Size([128, 128, 112, 112])\t transport_num:205520896    transport_size:822.084MB\n",
      "weight  :  parameters size torch.Size([128, 64, 3, 3]) \t parameters number 73728\n",
      "bias  :  parameters size torch.Size([128]) \t parameters number 128\n",
      "------------------------------------------------------------------\n",
      "5-Conv2d(128, 128, kernel_size=(3, 3), stride=(1, 1), padding=(1, 1)) \n",
      "computation time: 0.002 s\n",
      "output shape: torch.Size([128, 128, 112, 112])\t transport_num:205520896    transport_size:822.084MB\n",
      "weight  :  parameters size torch.Size([128, 128, 3, 3]) \t parameters number 147456\n",
      "bias  :  parameters size torch.Size([128]) \t parameters number 128\n",
      "------------------------------------------------------------------\n",
      "6-MaxPool2d(kernel_size=2, stride=2, padding=0, dilation=1, ceil_mode=False) \n",
      "computation time: 0.0 s\n",
      "output shape: torch.Size([128, 128, 56, 56])\t transport_num:51380224    transport_size:205.521MB\n",
      "------------------------------------------------------------------\n",
      "7-Conv2d(128, 256, kernel_size=(3, 3), stride=(1, 1), padding=(1, 1)) \n",
      "computation time: 0.0 s\n",
      "output shape: torch.Size([128, 256, 56, 56])\t transport_num:102760448    transport_size:411.042MB\n",
      "weight  :  parameters size torch.Size([256, 128, 3, 3]) \t parameters number 294912\n",
      "bias  :  parameters size torch.Size([256]) \t parameters number 256\n",
      "------------------------------------------------------------------\n",
      "8-Conv2d(256, 256, kernel_size=(3, 3), stride=(1, 1), padding=(1, 1)) \n",
      "computation time: 0.001 s\n",
      "output shape: torch.Size([128, 256, 56, 56])\t transport_num:102760448    transport_size:411.042MB\n",
      "weight  :  parameters size torch.Size([256, 256, 3, 3]) \t parameters number 589824\n",
      "bias  :  parameters size torch.Size([256]) \t parameters number 256\n",
      "------------------------------------------------------------------\n",
      "9-Conv2d(256, 256, kernel_size=(3, 3), stride=(1, 1), padding=(1, 1)) \n",
      "computation time: 0.0 s\n",
      "output shape: torch.Size([128, 256, 56, 56])\t transport_num:102760448    transport_size:411.042MB\n",
      "weight  :  parameters size torch.Size([256, 256, 3, 3]) \t parameters number 589824\n",
      "bias  :  parameters size torch.Size([256]) \t parameters number 256\n",
      "------------------------------------------------------------------\n",
      "10-MaxPool2d(kernel_size=2, stride=2, padding=0, dilation=1, ceil_mode=False) \n",
      "computation time: 0.0 s\n",
      "output shape: torch.Size([128, 256, 28, 28])\t transport_num:25690112    transport_size:102.760MB\n",
      "------------------------------------------------------------------\n",
      "11-Conv2d(256, 512, kernel_size=(3, 3), stride=(1, 1), padding=(1, 1)) \n",
      "computation time: 0.0 s\n",
      "output shape: torch.Size([128, 512, 28, 28])\t transport_num:51380224    transport_size:205.521MB\n",
      "weight  :  parameters size torch.Size([512, 256, 3, 3]) \t parameters number 1179648\n",
      "bias  :  parameters size torch.Size([512]) \t parameters number 512\n",
      "------------------------------------------------------------------\n",
      "12-Conv2d(512, 512, kernel_size=(3, 3), stride=(1, 1), padding=(1, 1)) \n",
      "computation time: 0.0 s\n",
      "output shape: torch.Size([128, 512, 28, 28])\t transport_num:51380224    transport_size:205.521MB\n",
      "weight  :  parameters size torch.Size([512, 512, 3, 3]) \t parameters number 2359296\n",
      "bias  :  parameters size torch.Size([512]) \t parameters number 512\n",
      "------------------------------------------------------------------\n",
      "13-Conv2d(512, 512, kernel_size=(3, 3), stride=(1, 1), padding=(1, 1)) \n",
      "computation time: 0.0 s\n",
      "output shape: torch.Size([128, 512, 28, 28])\t transport_num:51380224    transport_size:205.521MB\n",
      "weight  :  parameters size torch.Size([512, 512, 3, 3]) \t parameters number 2359296\n",
      "bias  :  parameters size torch.Size([512]) \t parameters number 512\n",
      "------------------------------------------------------------------\n",
      "14-MaxPool2d(kernel_size=2, stride=2, padding=0, dilation=1, ceil_mode=False) \n",
      "computation time: 0.0 s\n",
      "output shape: torch.Size([128, 512, 14, 14])\t transport_num:12845056    transport_size:51.380MB\n",
      "------------------------------------------------------------------\n",
      "15-Conv2d(512, 512, kernel_size=(3, 3), stride=(1, 1), padding=(1, 1)) \n",
      "computation time: 0.0 s\n",
      "output shape: torch.Size([128, 512, 14, 14])\t transport_num:12845056    transport_size:51.380MB\n",
      "weight  :  parameters size torch.Size([512, 512, 3, 3]) \t parameters number 2359296\n",
      "bias  :  parameters size torch.Size([512]) \t parameters number 512\n",
      "------------------------------------------------------------------\n",
      "16-Conv2d(512, 512, kernel_size=(3, 3), stride=(1, 1), padding=(1, 1)) \n",
      "computation time: 0.0 s\n",
      "output shape: torch.Size([128, 512, 14, 14])\t transport_num:12845056    transport_size:51.380MB\n",
      "weight  :  parameters size torch.Size([512, 512, 3, 3]) \t parameters number 2359296\n",
      "bias  :  parameters size torch.Size([512]) \t parameters number 512\n",
      "------------------------------------------------------------------\n",
      "17-Conv2d(512, 512, kernel_size=(3, 3), stride=(1, 1), padding=(1, 1)) \n",
      "computation time: 0.0 s\n",
      "output shape: torch.Size([128, 512, 14, 14])\t transport_num:12845056    transport_size:51.380MB\n",
      "weight  :  parameters size torch.Size([512, 512, 3, 3]) \t parameters number 2359296\n",
      "bias  :  parameters size torch.Size([512]) \t parameters number 512\n",
      "------------------------------------------------------------------\n",
      "18-MaxPool2d(kernel_size=2, stride=2, padding=0, dilation=1, ceil_mode=False) \n",
      "computation time: 0.0 s\n",
      "output shape: torch.Size([128, 512, 7, 7])\t transport_num:3211264    transport_size:12.845MB\n",
      "------------------------------------------------------------------\n",
      "19-AdaptiveAvgPool2d(output_size=(7, 7)) \n",
      "computation time: 0.0 s\n",
      "output shape: torch.Size([128, 512, 7, 7])\t transport_num:3211264    transport_size:12.845MB\n",
      "------------------------------------------------------------------\n",
      "20-Flatten(start_dim=1, end_dim=-1) \n",
      "computation time: 0.0 s\n",
      "output shape: torch.Size([128, 25088])\t transport_num:3211264    transport_size:12.845MB\n",
      "------------------------------------------------------------------\n",
      "21-Linear(in_features=25088, out_features=4096, bias=True) \n",
      "computation time: 0.355 s\n",
      "output shape: torch.Size([128, 4096])\t transport_num:524288    transport_size:2.097MB\n",
      "weight  :  parameters size torch.Size([4096, 25088]) \t parameters number 102760448\n",
      "bias  :  parameters size torch.Size([4096]) \t parameters number 4096\n",
      "------------------------------------------------------------------\n",
      "22-Linear(in_features=4096, out_features=4096, bias=True) \n",
      "computation time: 0.0 s\n",
      "output shape: torch.Size([128, 4096])\t transport_num:524288    transport_size:2.097MB\n",
      "weight  :  parameters size torch.Size([4096, 4096]) \t parameters number 16777216\n",
      "bias  :  parameters size torch.Size([4096]) \t parameters number 4096\n",
      "------------------------------------------------------------------\n",
      "23-Linear(in_features=4096, out_features=1000, bias=True) \n",
      "computation time: 0.0 s\n",
      "output shape: torch.Size([128, 1000])\t transport_num:128000    transport_size:0.512MB\n",
      "weight  :  parameters size torch.Size([1000, 4096]) \t parameters number 4096000\n",
      "bias  :  parameters size torch.Size([1000]) \t parameters number 1000\n"
     ]
    }
   ],
   "source": [
    "temp_x = x\n",
    "with torch.no_grad():\n",
    "    temp_x = function.show_features(vgg16,temp_x)"
   ],
   "metadata": {
    "collapsed": false,
    "pycharm": {
     "name": "#%%\n"
    }
   }
  },
  {
   "cell_type": "code",
   "execution_count": 5,
   "outputs": [
    {
     "name": "stdout",
     "output_type": "stream",
     "text": [
      "1-Conv2d(3, 64, kernel_size=(3, 3), stride=(1, 1), padding=(1, 1))\n",
      "2-Conv2d(64, 64, kernel_size=(3, 3), stride=(1, 1), padding=(1, 1))\n",
      "3-MaxPool2d(kernel_size=2, stride=2, padding=0, dilation=1, ceil_mode=False)\n",
      "4-Conv2d(64, 128, kernel_size=(3, 3), stride=(1, 1), padding=(1, 1))\n",
      "5-Conv2d(128, 128, kernel_size=(3, 3), stride=(1, 1), padding=(1, 1))\n",
      "6-MaxPool2d(kernel_size=2, stride=2, padding=0, dilation=1, ceil_mode=False)\n",
      "7-Conv2d(128, 256, kernel_size=(3, 3), stride=(1, 1), padding=(1, 1))\n",
      "8-Conv2d(256, 256, kernel_size=(3, 3), stride=(1, 1), padding=(1, 1))\n",
      "9-Conv2d(256, 256, kernel_size=(3, 3), stride=(1, 1), padding=(1, 1))\n",
      "10-MaxPool2d(kernel_size=2, stride=2, padding=0, dilation=1, ceil_mode=False)\n",
      "11-Conv2d(256, 512, kernel_size=(3, 3), stride=(1, 1), padding=(1, 1))\n",
      "12-Conv2d(512, 512, kernel_size=(3, 3), stride=(1, 1), padding=(1, 1))\n",
      "13-Conv2d(512, 512, kernel_size=(3, 3), stride=(1, 1), padding=(1, 1))\n",
      "14-MaxPool2d(kernel_size=2, stride=2, padding=0, dilation=1, ceil_mode=False)\n",
      "15-Conv2d(512, 512, kernel_size=(3, 3), stride=(1, 1), padding=(1, 1))\n",
      "16-Conv2d(512, 512, kernel_size=(3, 3), stride=(1, 1), padding=(1, 1))\n",
      "17-Conv2d(512, 512, kernel_size=(3, 3), stride=(1, 1), padding=(1, 1))\n",
      "18-MaxPool2d(kernel_size=2, stride=2, padding=0, dilation=1, ceil_mode=False)\n",
      "19-AdaptiveAvgPool2d(output_size=(7, 7))\n",
      "20-Flatten(start_dim=1, end_dim=-1)\n",
      "21-Linear(in_features=25088, out_features=4096, bias=True)\n",
      "22-Linear(in_features=4096, out_features=4096, bias=True)\n",
      "23-Linear(in_features=4096, out_features=1000, bias=True)\n"
     ]
    }
   ],
   "source": [
    "function.show_1model(vgg16)"
   ],
   "metadata": {
    "collapsed": false,
    "pycharm": {
     "name": "#%%\n"
    }
   }
  },
  {
   "cell_type": "code",
   "execution_count": null,
   "outputs": [],
   "source": [],
   "metadata": {
    "collapsed": false,
    "pycharm": {
     "name": "#%%\n"
    }
   }
  }
 ],
 "metadata": {
  "kernelspec": {
   "display_name": "Python 3",
   "language": "python",
   "name": "python3"
  },
  "language_info": {
   "codemirror_mode": {
    "name": "ipython",
    "version": 2
   },
   "file_extension": ".py",
   "mimetype": "text/x-python",
   "name": "python",
   "nbconvert_exporter": "python",
   "pygments_lexer": "ipython2",
   "version": "2.7.6"
  }
 },
 "nbformat": 4,
 "nbformat_minor": 0
}