{
 "cells": [
  {
   "cell_type": "code",
   "execution_count": 1,
   "metadata": {
    "collapsed": true
   },
   "outputs": [],
   "source": [
    "import torch\n",
    "import a0_alexNet\n",
    "device = \"cuda\" if torch.cuda.is_available() else \"cpu\"\n",
    "\n",
    "alexnet = a0_alexNet.AlexNet(input_layer=3,num_classes=1000)\n",
    "alexnet = alexnet.to(device)"
   ]
  },
  {
   "cell_type": "code",
   "execution_count": 2,
   "outputs": [],
   "source": [
    "set_index = 0\n",
    "edge_model,cloud_model = a0_alexNet.model_partition(alexnet,set_index)"
   ],
   "metadata": {
    "collapsed": false,
    "pycharm": {
     "name": "#%%\n"
    }
   }
  },
  {
   "cell_type": "code",
   "execution_count": 3,
   "outputs": [
    {
     "name": "stdout",
     "output_type": "stream",
     "text": [
      "alexnet model : 22\n"
     ]
    }
   ],
   "source": [
    "print(f\"alexnet model : {len(alexnet)}\")"
   ],
   "metadata": {
    "collapsed": false,
    "pycharm": {
     "name": "#%%\n"
    }
   }
  },
  {
   "cell_type": "code",
   "execution_count": 4,
   "outputs": [
    {
     "name": "stdout",
     "output_type": "stream",
     "text": [
      "------------- edge model -----------------\n",
      "Sequential()\n",
      "------------- cloud model -----------------\n",
      "Sequential(\n",
      "  (1-Conv2d): Conv2d(3, 64, kernel_size=(11, 11), stride=(4, 4), padding=(2, 2))\n",
      "  (2-ReLU): ReLU(inplace=True)\n",
      "  (3-MaxPool2d): MaxPool2d(kernel_size=3, stride=2, padding=0, dilation=1, ceil_mode=False)\n",
      "  (4-Conv2d): Conv2d(64, 192, kernel_size=(5, 5), stride=(1, 1), padding=(2, 2))\n",
      "  (5-ReLU): ReLU(inplace=True)\n",
      "  (6-MaxPool2d): MaxPool2d(kernel_size=3, stride=2, padding=0, dilation=1, ceil_mode=False)\n",
      "  (7-Conv2d): Conv2d(192, 384, kernel_size=(3, 3), stride=(1, 1), padding=(1, 1))\n",
      "  (8-ReLU): ReLU(inplace=True)\n",
      "  (9-Conv2d): Conv2d(384, 256, kernel_size=(3, 3), stride=(1, 1), padding=(1, 1))\n",
      "  (10-ReLU): ReLU(inplace=True)\n",
      "  (11-Conv2d): Conv2d(256, 256, kernel_size=(3, 3), stride=(1, 1), padding=(1, 1))\n",
      "  (12-ReLU): ReLU(inplace=True)\n",
      "  (13-MaxPool2d): MaxPool2d(kernel_size=3, stride=2, padding=0, dilation=1, ceil_mode=False)\n",
      "  (14-AdaptiveAvgPool2d): AdaptiveAvgPool2d(output_size=(6, 6))\n",
      "  (15-Flatten): Flatten(start_dim=1, end_dim=-1)\n",
      "  (16-Dropout): Dropout(p=0.5, inplace=False)\n",
      "  (17-Linear): Linear(in_features=9216, out_features=4096, bias=True)\n",
      "  (18-ReLU): ReLU(inplace=True)\n",
      "  (19-Dropout): Dropout(p=0.5, inplace=False)\n",
      "  (20-Linear): Linear(in_features=4096, out_features=4096, bias=True)\n",
      "  (21-ReLU): ReLU(inplace=True)\n",
      "  (22-Linear): Linear(in_features=4096, out_features=1000, bias=True)\n",
      ")\n"
     ]
    }
   ],
   "source": [
    "a0_alexNet.show_model(edge_model,cloud_model)"
   ],
   "metadata": {
    "collapsed": false,
    "pycharm": {
     "name": "#%%\n"
    }
   }
  },
  {
   "cell_type": "code",
   "execution_count": 5,
   "outputs": [
    {
     "name": "stdout",
     "output_type": "stream",
     "text": [
      "x device : cpu\n"
     ]
    }
   ],
   "source": [
    "x = torch.rand(size=(10000,3,224,224))\n",
    "x = x.to(device)\n",
    "print(f\"x device : {x.device}\")"
   ],
   "metadata": {
    "collapsed": false,
    "pycharm": {
     "name": "#%%\n"
    }
   }
  },
  {
   "cell_type": "code",
   "execution_count": 6,
   "outputs": [
    {
     "name": "stdout",
     "output_type": "stream",
     "text": [
      "this model is a empty model\n"
     ]
    }
   ],
   "source": [
    "x = a0_alexNet.show_features(edge_model,x)"
   ],
   "metadata": {
    "collapsed": false,
    "pycharm": {
     "name": "#%%\n"
    }
   }
  },
  {
   "cell_type": "code",
   "execution_count": 7,
   "outputs": [
    {
     "name": "stdout",
     "output_type": "stream",
     "text": [
      "------------------------------------------------------------------\n",
      "1-Conv2d(3, 64, kernel_size=(11, 11), stride=(4, 4), padding=(2, 2)) \n",
      "computation time: 29.989 s\n",
      "output shape: torch.Size([10000, 64, 55, 55])\t transport_num:1936000000\t transport_size:61952.000M\n",
      "weight  :  parameters size torch.Size([64, 3, 11, 11]) \t parameters number 23232\n",
      "bias  :  parameters size torch.Size([64]) \t parameters number 64\n",
      "------------------------------------------------------------------\n",
      "2-ReLU(inplace=True) \n",
      "computation time: 1.835 s\n",
      "output shape: torch.Size([10000, 64, 55, 55])\t transport_num:1936000000\t transport_size:61952.000M\n",
      "------------------------------------------------------------------\n",
      "3-MaxPool2d(kernel_size=3, stride=2, padding=0, dilation=1, ceil_mode=False) \n",
      "computation time: 3.401 s\n",
      "output shape: torch.Size([10000, 64, 27, 27])\t transport_num:466560000\t transport_size:14929.920M\n",
      "------------------------------------------------------------------\n",
      "4-Conv2d(64, 192, kernel_size=(5, 5), stride=(1, 1), padding=(2, 2)) \n",
      "computation time: 30.963 s\n",
      "output shape: torch.Size([10000, 192, 27, 27])\t transport_num:1399680000\t transport_size:44789.760M\n",
      "weight  :  parameters size torch.Size([192, 64, 5, 5]) \t parameters number 307200\n",
      "bias  :  parameters size torch.Size([192]) \t parameters number 192\n",
      "------------------------------------------------------------------\n",
      "5-ReLU(inplace=True) \n",
      "computation time: 0.194 s\n",
      "output shape: torch.Size([10000, 192, 27, 27])\t transport_num:1399680000\t transport_size:44789.760M\n",
      "------------------------------------------------------------------\n",
      "6-MaxPool2d(kernel_size=3, stride=2, padding=0, dilation=1, ceil_mode=False) \n",
      "computation time: 2.745 s\n",
      "output shape: torch.Size([10000, 192, 13, 13])\t transport_num:324480000\t transport_size:10383.360M\n",
      "------------------------------------------------------------------\n",
      "7-Conv2d(192, 384, kernel_size=(3, 3), stride=(1, 1), padding=(1, 1)) \n",
      "computation time: 7.365 s\n",
      "output shape: torch.Size([10000, 384, 13, 13])\t transport_num:648960000\t transport_size:20766.720M\n",
      "weight  :  parameters size torch.Size([384, 192, 3, 3]) \t parameters number 663552\n",
      "bias  :  parameters size torch.Size([384]) \t parameters number 384\n",
      "------------------------------------------------------------------\n",
      "8-ReLU(inplace=True) \n",
      "computation time: 0.332 s\n",
      "output shape: torch.Size([10000, 384, 13, 13])\t transport_num:648960000\t transport_size:20766.720M\n",
      "------------------------------------------------------------------\n",
      "9-Conv2d(384, 256, kernel_size=(3, 3), stride=(1, 1), padding=(1, 1)) \n",
      "computation time: 7.4 s\n",
      "output shape: torch.Size([10000, 256, 13, 13])\t transport_num:432640000\t transport_size:13844.480M\n",
      "weight  :  parameters size torch.Size([256, 384, 3, 3]) \t parameters number 884736\n",
      "bias  :  parameters size torch.Size([256]) \t parameters number 256\n",
      "------------------------------------------------------------------\n",
      "10-ReLU(inplace=True) \n",
      "computation time: 0.124 s\n",
      "output shape: torch.Size([10000, 256, 13, 13])\t transport_num:432640000\t transport_size:13844.480M\n",
      "------------------------------------------------------------------\n",
      "11-Conv2d(256, 256, kernel_size=(3, 3), stride=(1, 1), padding=(1, 1)) \n",
      "computation time: 6.362 s\n",
      "output shape: torch.Size([10000, 256, 13, 13])\t transport_num:432640000\t transport_size:13844.480M\n",
      "weight  :  parameters size torch.Size([256, 256, 3, 3]) \t parameters number 589824\n",
      "bias  :  parameters size torch.Size([256]) \t parameters number 256\n",
      "------------------------------------------------------------------\n",
      "12-ReLU(inplace=True) \n",
      "computation time: 0.129 s\n",
      "output shape: torch.Size([10000, 256, 13, 13])\t transport_num:432640000\t transport_size:13844.480M\n",
      "------------------------------------------------------------------\n",
      "13-MaxPool2d(kernel_size=3, stride=2, padding=0, dilation=1, ceil_mode=False) \n",
      "computation time: 0.557 s\n",
      "output shape: torch.Size([10000, 256, 6, 6])\t transport_num:92160000\t transport_size:2949.120M\n",
      "------------------------------------------------------------------\n",
      "14-AdaptiveAvgPool2d(output_size=(6, 6)) \n",
      "computation time: 0.218 s\n",
      "output shape: torch.Size([10000, 256, 6, 6])\t transport_num:92160000\t transport_size:2949.120M\n",
      "------------------------------------------------------------------\n",
      "15-Flatten(start_dim=1, end_dim=-1) \n",
      "computation time: 0.021 s\n",
      "output shape: torch.Size([10000, 9216])\t transport_num:92160000\t transport_size:2949.120M\n",
      "------------------------------------------------------------------\n",
      "16-Dropout(p=0.5, inplace=False) \n",
      "computation time: 0.622 s\n",
      "output shape: torch.Size([10000, 9216])\t transport_num:92160000\t transport_size:2949.120M\n",
      "------------------------------------------------------------------\n",
      "17-Linear(in_features=9216, out_features=4096, bias=True) \n",
      "computation time: 2.294 s\n",
      "output shape: torch.Size([10000, 4096])\t transport_num:40960000\t transport_size:1310.720M\n",
      "weight  :  parameters size torch.Size([4096, 9216]) \t parameters number 37748736\n",
      "bias  :  parameters size torch.Size([4096]) \t parameters number 4096\n",
      "------------------------------------------------------------------\n",
      "18-ReLU(inplace=True) \n",
      "computation time: 0.007 s\n",
      "output shape: torch.Size([10000, 4096])\t transport_num:40960000\t transport_size:1310.720M\n",
      "------------------------------------------------------------------\n",
      "19-Dropout(p=0.5, inplace=False) \n",
      "computation time: 0.221 s\n",
      "output shape: torch.Size([10000, 4096])\t transport_num:40960000\t transport_size:1310.720M\n",
      "------------------------------------------------------------------\n",
      "20-Linear(in_features=4096, out_features=4096, bias=True) \n",
      "computation time: 1.129 s\n",
      "output shape: torch.Size([10000, 4096])\t transport_num:40960000\t transport_size:1310.720M\n",
      "weight  :  parameters size torch.Size([4096, 4096]) \t parameters number 16777216\n",
      "bias  :  parameters size torch.Size([4096]) \t parameters number 4096\n",
      "------------------------------------------------------------------\n",
      "21-ReLU(inplace=True) \n",
      "computation time: 0.006 s\n",
      "output shape: torch.Size([10000, 4096])\t transport_num:40960000\t transport_size:1310.720M\n",
      "------------------------------------------------------------------\n",
      "22-Linear(in_features=4096, out_features=1000, bias=True) \n",
      "computation time: 0.341 s\n",
      "output shape: torch.Size([10000, 1000])\t transport_num:10000000\t transport_size:320.000M\n",
      "weight  :  parameters size torch.Size([1000, 4096]) \t parameters number 4096000\n",
      "bias  :  parameters size torch.Size([1000]) \t parameters number 1000\n"
     ]
    }
   ],
   "source": [
    "x = a0_alexNet.show_features(cloud_model,x)"
   ],
   "metadata": {
    "collapsed": false,
    "pycharm": {
     "name": "#%%\n"
    }
   }
  },
  {
   "cell_type": "code",
   "execution_count": 8,
   "outputs": [
    {
     "name": "stdout",
     "output_type": "stream",
     "text": [
      "x device : cpu\n",
      "------------------------------------------------------------------\n",
      "1-Conv2d(3, 64, kernel_size=(11, 11), stride=(4, 4), padding=(2, 2)) \n",
      "computation time: 29.315 s\n",
      "output shape: torch.Size([10000, 64, 55, 55])\t transport_num:1936000000\t transport_size:61952.000M\n",
      "weight  :  parameters size torch.Size([64, 3, 11, 11]) \t parameters number 23232\n",
      "bias  :  parameters size torch.Size([64]) \t parameters number 64\n",
      "------------------------------------------------------------------\n",
      "2-ReLU(inplace=True) \n",
      "computation time: 1.637 s\n",
      "output shape: torch.Size([10000, 64, 55, 55])\t transport_num:1936000000\t transport_size:61952.000M\n",
      "------------------------------------------------------------------\n",
      "3-MaxPool2d(kernel_size=3, stride=2, padding=0, dilation=1, ceil_mode=False) \n",
      "computation time: 3.524 s\n",
      "output shape: torch.Size([10000, 64, 27, 27])\t transport_num:466560000\t transport_size:14929.920M\n",
      "------------------------------------------------------------------\n",
      "4-Conv2d(64, 192, kernel_size=(5, 5), stride=(1, 1), padding=(2, 2)) \n",
      "computation time: 32.256 s\n",
      "output shape: torch.Size([10000, 192, 27, 27])\t transport_num:1399680000\t transport_size:44789.760M\n",
      "weight  :  parameters size torch.Size([192, 64, 5, 5]) \t parameters number 307200\n",
      "bias  :  parameters size torch.Size([192]) \t parameters number 192\n",
      "------------------------------------------------------------------\n",
      "5-ReLU(inplace=True) \n",
      "computation time: 0.194 s\n",
      "output shape: torch.Size([10000, 192, 27, 27])\t transport_num:1399680000\t transport_size:44789.760M\n",
      "------------------------------------------------------------------\n",
      "6-MaxPool2d(kernel_size=3, stride=2, padding=0, dilation=1, ceil_mode=False) \n",
      "computation time: 2.986 s\n",
      "output shape: torch.Size([10000, 192, 13, 13])\t transport_num:324480000\t transport_size:10383.360M\n",
      "------------------------------------------------------------------\n",
      "7-Conv2d(192, 384, kernel_size=(3, 3), stride=(1, 1), padding=(1, 1)) \n",
      "computation time: 10.163 s\n",
      "output shape: torch.Size([10000, 384, 13, 13])\t transport_num:648960000\t transport_size:20766.720M\n",
      "weight  :  parameters size torch.Size([384, 192, 3, 3]) \t parameters number 663552\n",
      "bias  :  parameters size torch.Size([384]) \t parameters number 384\n"
     ]
    }
   ],
   "source": [
    "# 从第7层开始划分 即7-Conv2d(192, 384, kernel_size=(3, 3), stride=(1, 1), padding=(1, 1))\n",
    "set_index = 7\n",
    "edge_model,cloud_model = a0_alexNet.model_partition(alexnet,set_index)\n",
    "\n",
    "x = torch.rand(size=(10000,3,224,224))\n",
    "x = x.to(device)\n",
    "print(f\"x device : {x.device}\")\n",
    "\n",
    "x = a0_alexNet.show_features(edge_model,x)"
   ],
   "metadata": {
    "collapsed": false,
    "pycharm": {
     "name": "#%%\n"
    }
   }
  },
  {
   "cell_type": "code",
   "execution_count": 9,
   "outputs": [
    {
     "name": "stdout",
     "output_type": "stream",
     "text": [
      "------------------------------------------------------------------\n",
      "1-ReLU(inplace=True) \n",
      "computation time: 0.309 s\n",
      "output shape: torch.Size([10000, 384, 13, 13])\t transport_num:648960000\t transport_size:20766.720M\n",
      "------------------------------------------------------------------\n",
      "2-Conv2d(384, 256, kernel_size=(3, 3), stride=(1, 1), padding=(1, 1)) \n",
      "computation time: 8.625 s\n",
      "output shape: torch.Size([10000, 256, 13, 13])\t transport_num:432640000\t transport_size:13844.480M\n",
      "weight  :  parameters size torch.Size([256, 384, 3, 3]) \t parameters number 884736\n",
      "bias  :  parameters size torch.Size([256]) \t parameters number 256\n",
      "------------------------------------------------------------------\n",
      "3-ReLU(inplace=True) \n",
      "computation time: 0.177 s\n",
      "output shape: torch.Size([10000, 256, 13, 13])\t transport_num:432640000\t transport_size:13844.480M\n",
      "------------------------------------------------------------------\n",
      "4-Conv2d(256, 256, kernel_size=(3, 3), stride=(1, 1), padding=(1, 1)) \n",
      "computation time: 5.885 s\n",
      "output shape: torch.Size([10000, 256, 13, 13])\t transport_num:432640000\t transport_size:13844.480M\n",
      "weight  :  parameters size torch.Size([256, 256, 3, 3]) \t parameters number 589824\n",
      "bias  :  parameters size torch.Size([256]) \t parameters number 256\n",
      "------------------------------------------------------------------\n",
      "5-ReLU(inplace=True) \n",
      "computation time: 0.22 s\n",
      "output shape: torch.Size([10000, 256, 13, 13])\t transport_num:432640000\t transport_size:13844.480M\n",
      "------------------------------------------------------------------\n",
      "6-MaxPool2d(kernel_size=3, stride=2, padding=0, dilation=1, ceil_mode=False) \n",
      "computation time: 0.657 s\n",
      "output shape: torch.Size([10000, 256, 6, 6])\t transport_num:92160000\t transport_size:2949.120M\n",
      "------------------------------------------------------------------\n",
      "7-AdaptiveAvgPool2d(output_size=(6, 6)) \n",
      "computation time: 0.161 s\n",
      "output shape: torch.Size([10000, 256, 6, 6])\t transport_num:92160000\t transport_size:2949.120M\n",
      "------------------------------------------------------------------\n",
      "8-Flatten(start_dim=1, end_dim=-1) \n",
      "computation time: 0.004 s\n",
      "output shape: torch.Size([10000, 9216])\t transport_num:92160000\t transport_size:2949.120M\n",
      "------------------------------------------------------------------\n",
      "9-Dropout(p=0.5, inplace=False) \n",
      "computation time: 0.612 s\n",
      "output shape: torch.Size([10000, 9216])\t transport_num:92160000\t transport_size:2949.120M\n",
      "------------------------------------------------------------------\n",
      "10-Linear(in_features=9216, out_features=4096, bias=True) \n",
      "computation time: 2.227 s\n",
      "output shape: torch.Size([10000, 4096])\t transport_num:40960000\t transport_size:1310.720M\n",
      "weight  :  parameters size torch.Size([4096, 9216]) \t parameters number 37748736\n",
      "bias  :  parameters size torch.Size([4096]) \t parameters number 4096\n",
      "------------------------------------------------------------------\n",
      "11-ReLU(inplace=True) \n",
      "computation time: 0.009 s\n",
      "output shape: torch.Size([10000, 4096])\t transport_num:40960000\t transport_size:1310.720M\n",
      "------------------------------------------------------------------\n",
      "12-Dropout(p=0.5, inplace=False) \n",
      "computation time: 0.22 s\n",
      "output shape: torch.Size([10000, 4096])\t transport_num:40960000\t transport_size:1310.720M\n",
      "------------------------------------------------------------------\n",
      "13-Linear(in_features=4096, out_features=4096, bias=True) \n",
      "computation time: 1.311 s\n",
      "output shape: torch.Size([10000, 4096])\t transport_num:40960000\t transport_size:1310.720M\n",
      "weight  :  parameters size torch.Size([4096, 4096]) \t parameters number 16777216\n",
      "bias  :  parameters size torch.Size([4096]) \t parameters number 4096\n",
      "------------------------------------------------------------------\n",
      "14-ReLU(inplace=True) \n",
      "computation time: 0.006 s\n",
      "output shape: torch.Size([10000, 4096])\t transport_num:40960000\t transport_size:1310.720M\n",
      "------------------------------------------------------------------\n",
      "15-Linear(in_features=4096, out_features=1000, bias=True) \n",
      "computation time: 0.357 s\n",
      "output shape: torch.Size([10000, 1000])\t transport_num:10000000\t transport_size:320.000M\n",
      "weight  :  parameters size torch.Size([1000, 4096]) \t parameters number 4096000\n",
      "bias  :  parameters size torch.Size([1000]) \t parameters number 1000\n"
     ]
    }
   ],
   "source": [
    "x = a0_alexNet.show_features(cloud_model,x)"
   ],
   "metadata": {
    "collapsed": false,
    "pycharm": {
     "name": "#%%\n"
    }
   }
  },
  {
   "cell_type": "code",
   "execution_count": null,
   "outputs": [],
   "source": [],
   "metadata": {
    "collapsed": false,
    "pycharm": {
     "name": "#%%\n",
     "is_executing": true
    }
   }
  }
 ],
 "metadata": {
  "kernelspec": {
   "display_name": "Python 3",
   "language": "python",
   "name": "python3"
  },
  "language_info": {
   "codemirror_mode": {
    "name": "ipython",
    "version": 2
   },
   "file_extension": ".py",
   "mimetype": "text/x-python",
   "name": "python",
   "nbconvert_exporter": "python",
   "pygments_lexer": "ipython2",
   "version": "2.7.6"
  }
 },
 "nbformat": 4,
 "nbformat_minor": 0
}