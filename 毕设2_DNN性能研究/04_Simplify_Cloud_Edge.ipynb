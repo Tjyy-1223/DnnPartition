{
 "cells": [
  {
   "cell_type": "code",
   "execution_count": 1,
   "metadata": {
    "collapsed": true
   },
   "outputs": [],
   "source": [
    "import torch\n",
    "import a1_alexNet\n",
    "device = \"cuda\" if torch.cuda.is_available() else \"cpu\"\n",
    "\n",
    "alexnet = a1_alexNet.AlexNet(input_layer=3,num_classes=1000)\n",
    "alexnet = alexnet.to(device)"
   ]
  },
  {
   "cell_type": "code",
   "execution_count": 2,
   "outputs": [],
   "source": [
    "set_index = 0\n",
    "edge_model,cloud_model = a1_alexNet.model_partition(alexnet,set_index)"
   ],
   "metadata": {
    "collapsed": false,
    "pycharm": {
     "name": "#%%\n"
    }
   }
  },
  {
   "cell_type": "code",
   "execution_count": 3,
   "outputs": [
    {
     "name": "stdout",
     "output_type": "stream",
     "text": [
      "alexnet model : 22\n"
     ]
    }
   ],
   "source": [
    "print(f\"alexnet model : {len(alexnet)}\")"
   ],
   "metadata": {
    "collapsed": false,
    "pycharm": {
     "name": "#%%\n"
    }
   }
  },
  {
   "cell_type": "code",
   "execution_count": 4,
   "outputs": [
    {
     "name": "stdout",
     "output_type": "stream",
     "text": [
      "------------- edge model -----------------\n",
      "Sequential()\n",
      "------------- cloud model -----------------\n",
      "Sequential(\n",
      "  (1-Conv2d): Conv2d(3, 64, kernel_size=(11, 11), stride=(4, 4), padding=(2, 2))\n",
      "  (2-ReLU): ReLU(inplace=True)\n",
      "  (3-MaxPool2d): MaxPool2d(kernel_size=3, stride=2, padding=0, dilation=1, ceil_mode=False)\n",
      "  (4-Conv2d): Conv2d(64, 192, kernel_size=(5, 5), stride=(1, 1), padding=(2, 2))\n",
      "  (5-ReLU): ReLU(inplace=True)\n",
      "  (6-MaxPool2d): MaxPool2d(kernel_size=3, stride=2, padding=0, dilation=1, ceil_mode=False)\n",
      "  (7-Conv2d): Conv2d(192, 384, kernel_size=(3, 3), stride=(1, 1), padding=(1, 1))\n",
      "  (8-ReLU): ReLU(inplace=True)\n",
      "  (9-Conv2d): Conv2d(384, 256, kernel_size=(3, 3), stride=(1, 1), padding=(1, 1))\n",
      "  (10-ReLU): ReLU(inplace=True)\n",
      "  (11-Conv2d): Conv2d(256, 256, kernel_size=(3, 3), stride=(1, 1), padding=(1, 1))\n",
      "  (12-ReLU): ReLU(inplace=True)\n",
      "  (13-MaxPool2d): MaxPool2d(kernel_size=3, stride=2, padding=0, dilation=1, ceil_mode=False)\n",
      "  (14-AdaptiveAvgPool2d): AdaptiveAvgPool2d(output_size=(6, 6))\n",
      "  (15-Flatten): Flatten(start_dim=1, end_dim=-1)\n",
      "  (16-Dropout): Dropout(p=0.5, inplace=False)\n",
      "  (17-Linear): Linear(in_features=9216, out_features=4096, bias=True)\n",
      "  (18-ReLU): ReLU(inplace=True)\n",
      "  (19-Dropout): Dropout(p=0.5, inplace=False)\n",
      "  (20-Linear): Linear(in_features=4096, out_features=4096, bias=True)\n",
      "  (21-ReLU): ReLU(inplace=True)\n",
      "  (22-Linear): Linear(in_features=4096, out_features=1000, bias=True)\n",
      ")\n"
     ]
    }
   ],
   "source": [
    "a1_alexNet.show_model(edge_model,cloud_model)"
   ],
   "metadata": {
    "collapsed": false,
    "pycharm": {
     "name": "#%%\n"
    }
   }
  },
  {
   "cell_type": "code",
   "execution_count": 5,
   "outputs": [
    {
     "name": "stdout",
     "output_type": "stream",
     "text": [
      "x device : cpu\n"
     ]
    }
   ],
   "source": [
    "x = torch.rand(size=(10000,3,224,224))\n",
    "x = x.to(device)\n",
    "print(f\"x device : {x.device}\")"
   ],
   "metadata": {
    "collapsed": false,
    "pycharm": {
     "name": "#%%\n"
    }
   }
  },
  {
   "cell_type": "code",
   "execution_count": 6,
   "outputs": [
    {
     "name": "stdout",
     "output_type": "stream",
     "text": [
      "this model is a empty model\n"
     ]
    }
   ],
   "source": [
    "x = a1_alexNet.show_features(edge_model,x)"
   ],
   "metadata": {
    "collapsed": false,
    "pycharm": {
     "name": "#%%\n"
    }
   }
  },
  {
   "cell_type": "code",
   "execution_count": 7,
   "outputs": [
    {
     "name": "stdout",
     "output_type": "stream",
     "text": [
      "------------------------------------------------------------------\n",
      "1-Conv2d(3, 64, kernel_size=(11, 11), stride=(4, 4), padding=(2, 2)) \n",
      "computation time: 32.173 s\n",
      "output shape: torch.Size([10000, 64, 55, 55])\t transport_num:1936000000    transport_size:7744.000MB\n",
      "weight  :  parameters size torch.Size([64, 3, 11, 11]) \t parameters number 23232\n",
      "bias  :  parameters size torch.Size([64]) \t parameters number 64\n",
      "------------------------------------------------------------------\n",
      "2-ReLU(inplace=True) \n",
      "computation time: 2.363 s\n",
      "output shape: torch.Size([10000, 64, 55, 55])\t transport_num:1936000000    transport_size:7744.000MB\n",
      "------------------------------------------------------------------\n",
      "3-MaxPool2d(kernel_size=3, stride=2, padding=0, dilation=1, ceil_mode=False) \n",
      "computation time: 3.781 s\n",
      "output shape: torch.Size([10000, 64, 27, 27])\t transport_num:466560000    transport_size:1866.240MB\n",
      "------------------------------------------------------------------\n",
      "4-Conv2d(64, 192, kernel_size=(5, 5), stride=(1, 1), padding=(2, 2)) \n",
      "computation time: 30.683 s\n",
      "output shape: torch.Size([10000, 192, 27, 27])\t transport_num:1399680000    transport_size:5598.720MB\n",
      "weight  :  parameters size torch.Size([192, 64, 5, 5]) \t parameters number 307200\n",
      "bias  :  parameters size torch.Size([192]) \t parameters number 192\n",
      "------------------------------------------------------------------\n",
      "5-ReLU(inplace=True) \n",
      "computation time: 0.196 s\n",
      "output shape: torch.Size([10000, 192, 27, 27])\t transport_num:1399680000    transport_size:5598.720MB\n",
      "------------------------------------------------------------------\n",
      "6-MaxPool2d(kernel_size=3, stride=2, padding=0, dilation=1, ceil_mode=False) \n",
      "computation time: 2.71 s\n",
      "output shape: torch.Size([10000, 192, 13, 13])\t transport_num:324480000    transport_size:1297.920MB\n",
      "------------------------------------------------------------------\n",
      "7-Conv2d(192, 384, kernel_size=(3, 3), stride=(1, 1), padding=(1, 1)) \n",
      "computation time: 7.469 s\n",
      "output shape: torch.Size([10000, 384, 13, 13])\t transport_num:648960000    transport_size:2595.840MB\n",
      "weight  :  parameters size torch.Size([384, 192, 3, 3]) \t parameters number 663552\n",
      "bias  :  parameters size torch.Size([384]) \t parameters number 384\n",
      "------------------------------------------------------------------\n",
      "8-ReLU(inplace=True) \n",
      "computation time: 0.369 s\n",
      "output shape: torch.Size([10000, 384, 13, 13])\t transport_num:648960000    transport_size:2595.840MB\n",
      "------------------------------------------------------------------\n",
      "9-Conv2d(384, 256, kernel_size=(3, 3), stride=(1, 1), padding=(1, 1)) \n",
      "computation time: 7.624 s\n",
      "output shape: torch.Size([10000, 256, 13, 13])\t transport_num:432640000    transport_size:1730.560MB\n",
      "weight  :  parameters size torch.Size([256, 384, 3, 3]) \t parameters number 884736\n",
      "bias  :  parameters size torch.Size([256]) \t parameters number 256\n",
      "------------------------------------------------------------------\n",
      "10-ReLU(inplace=True) \n",
      "computation time: 0.166 s\n",
      "output shape: torch.Size([10000, 256, 13, 13])\t transport_num:432640000    transport_size:1730.560MB\n",
      "------------------------------------------------------------------\n",
      "11-Conv2d(256, 256, kernel_size=(3, 3), stride=(1, 1), padding=(1, 1)) \n",
      "computation time: 8.982 s\n",
      "output shape: torch.Size([10000, 256, 13, 13])\t transport_num:432640000    transport_size:1730.560MB\n",
      "weight  :  parameters size torch.Size([256, 256, 3, 3]) \t parameters number 589824\n",
      "bias  :  parameters size torch.Size([256]) \t parameters number 256\n",
      "------------------------------------------------------------------\n",
      "12-ReLU(inplace=True) \n",
      "computation time: 0.35 s\n",
      "output shape: torch.Size([10000, 256, 13, 13])\t transport_num:432640000    transport_size:1730.560MB\n",
      "------------------------------------------------------------------\n",
      "13-MaxPool2d(kernel_size=3, stride=2, padding=0, dilation=1, ceil_mode=False) \n",
      "computation time: 0.709 s\n",
      "output shape: torch.Size([10000, 256, 6, 6])\t transport_num:92160000    transport_size:368.640MB\n",
      "------------------------------------------------------------------\n",
      "14-AdaptiveAvgPool2d(output_size=(6, 6)) \n",
      "computation time: 0.186 s\n",
      "output shape: torch.Size([10000, 256, 6, 6])\t transport_num:92160000    transport_size:368.640MB\n",
      "------------------------------------------------------------------\n",
      "15-Flatten(start_dim=1, end_dim=-1) \n",
      "computation time: 0.026 s\n",
      "output shape: torch.Size([10000, 9216])\t transport_num:92160000    transport_size:368.640MB\n",
      "------------------------------------------------------------------\n",
      "16-Dropout(p=0.5, inplace=False) \n",
      "computation time: 0.717 s\n",
      "output shape: torch.Size([10000, 9216])\t transport_num:92160000    transport_size:368.640MB\n",
      "------------------------------------------------------------------\n",
      "17-Linear(in_features=9216, out_features=4096, bias=True) \n",
      "computation time: 2.73 s\n",
      "output shape: torch.Size([10000, 4096])\t transport_num:40960000    transport_size:163.840MB\n",
      "weight  :  parameters size torch.Size([4096, 9216]) \t parameters number 37748736\n",
      "bias  :  parameters size torch.Size([4096]) \t parameters number 4096\n",
      "------------------------------------------------------------------\n",
      "18-ReLU(inplace=True) \n",
      "computation time: 0.007 s\n",
      "output shape: torch.Size([10000, 4096])\t transport_num:40960000    transport_size:163.840MB\n",
      "------------------------------------------------------------------\n",
      "19-Dropout(p=0.5, inplace=False) \n",
      "computation time: 0.25 s\n",
      "output shape: torch.Size([10000, 4096])\t transport_num:40960000    transport_size:163.840MB\n",
      "------------------------------------------------------------------\n",
      "20-Linear(in_features=4096, out_features=4096, bias=True) \n",
      "computation time: 1.132 s\n",
      "output shape: torch.Size([10000, 4096])\t transport_num:40960000    transport_size:163.840MB\n",
      "weight  :  parameters size torch.Size([4096, 4096]) \t parameters number 16777216\n",
      "bias  :  parameters size torch.Size([4096]) \t parameters number 4096\n",
      "------------------------------------------------------------------\n",
      "21-ReLU(inplace=True) \n",
      "computation time: 0.007 s\n",
      "output shape: torch.Size([10000, 4096])\t transport_num:40960000    transport_size:163.840MB\n",
      "------------------------------------------------------------------\n",
      "22-Linear(in_features=4096, out_features=1000, bias=True) \n",
      "computation time: 0.366 s\n",
      "output shape: torch.Size([10000, 1000])\t transport_num:10000000    transport_size:40.000MB\n",
      "weight  :  parameters size torch.Size([1000, 4096]) \t parameters number 4096000\n",
      "bias  :  parameters size torch.Size([1000]) \t parameters number 1000\n"
     ]
    }
   ],
   "source": [
    "x = a1_alexNet.show_features(cloud_model,x)"
   ],
   "metadata": {
    "collapsed": false,
    "pycharm": {
     "name": "#%%\n"
    }
   }
  },
  {
   "cell_type": "code",
   "execution_count": 8,
   "outputs": [],
   "source": [
    "# 从第7层开始划分 即7-Conv2d(192, 384, kernel_size=(3, 3), stride=(1, 1), padding=(1, 1))\n",
    "# set_index = 7\n",
    "# edge_model,cloud_model = a0_alexNet.model_partition(alexnet,set_index)\n",
    "#\n",
    "# x = torch.rand(size=(1000,3,224,224))\n",
    "# x = x.to(device)\n",
    "# print(f\"x device : {x.device}\")\n",
    "#\n",
    "# x = a0_alexNet.show_features(edge_model,x)"
   ],
   "metadata": {
    "collapsed": false,
    "pycharm": {
     "name": "#%%\n"
    }
   }
  },
  {
   "cell_type": "code",
   "execution_count": 9,
   "outputs": [],
   "source": [
    "# x = a0_alexNet.show_features(cloud_model,x)"
   ],
   "metadata": {
    "collapsed": false,
    "pycharm": {
     "name": "#%%\n"
    }
   }
  },
  {
   "cell_type": "code",
   "execution_count": 9,
   "outputs": [],
   "source": [],
   "metadata": {
    "collapsed": false,
    "pycharm": {
     "name": "#%%\n"
    }
   }
  }
 ],
 "metadata": {
  "kernelspec": {
   "display_name": "Python 3",
   "language": "python",
   "name": "python3"
  },
  "language_info": {
   "codemirror_mode": {
    "name": "ipython",
    "version": 2
   },
   "file_extension": ".py",
   "mimetype": "text/x-python",
   "name": "python",
   "nbconvert_exporter": "python",
   "pygments_lexer": "ipython2",
   "version": "2.7.6"
  }
 },
 "nbformat": 4,
 "nbformat_minor": 0
}