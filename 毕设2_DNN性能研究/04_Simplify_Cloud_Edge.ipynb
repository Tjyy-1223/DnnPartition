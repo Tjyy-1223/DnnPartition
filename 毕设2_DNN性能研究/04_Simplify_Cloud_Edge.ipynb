{
 "cells": [
  {
   "cell_type": "code",
   "execution_count": 1,
   "metadata": {
    "collapsed": true
   },
   "outputs": [],
   "source": [
    "import torch\n",
    "import a1_alexNet\n",
    "device = \"cuda\" if torch.cuda.is_available() else \"cpu\"\n",
    "\n",
    "alexnet = a1_alexNet.AlexNet(input_layer=3,num_classes=1000)\n",
    "alexnet = alexnet.to(device)"
   ]
  },
  {
   "cell_type": "code",
   "execution_count": 2,
   "outputs": [],
   "source": [
    "set_index = 0\n",
    "edge_model,cloud_model = a1_alexNet.model_partition(alexnet,set_index)"
   ],
   "metadata": {
    "collapsed": false,
    "pycharm": {
     "name": "#%%\n"
    }
   }
  },
  {
   "cell_type": "code",
   "execution_count": 3,
   "outputs": [
    {
     "name": "stdout",
     "output_type": "stream",
     "text": [
      "alexnet model : 22\n"
     ]
    }
   ],
   "source": [
    "print(f\"alexnet model : {len(alexnet)}\")"
   ],
   "metadata": {
    "collapsed": false,
    "pycharm": {
     "name": "#%%\n"
    }
   }
  },
  {
   "cell_type": "code",
   "execution_count": 4,
   "outputs": [
    {
     "name": "stdout",
     "output_type": "stream",
     "text": [
      "------------- edge model -----------------\n",
      "Sequential()\n",
      "------------- cloud model -----------------\n",
      "Sequential(\n",
      "  (1-Conv2d): Conv2d(3, 64, kernel_size=(11, 11), stride=(4, 4), padding=(2, 2))\n",
      "  (2-ReLU): ReLU(inplace=True)\n",
      "  (3-MaxPool2d): MaxPool2d(kernel_size=3, stride=2, padding=0, dilation=1, ceil_mode=False)\n",
      "  (4-Conv2d): Conv2d(64, 192, kernel_size=(5, 5), stride=(1, 1), padding=(2, 2))\n",
      "  (5-ReLU): ReLU(inplace=True)\n",
      "  (6-MaxPool2d): MaxPool2d(kernel_size=3, stride=2, padding=0, dilation=1, ceil_mode=False)\n",
      "  (7-Conv2d): Conv2d(192, 384, kernel_size=(3, 3), stride=(1, 1), padding=(1, 1))\n",
      "  (8-ReLU): ReLU(inplace=True)\n",
      "  (9-Conv2d): Conv2d(384, 256, kernel_size=(3, 3), stride=(1, 1), padding=(1, 1))\n",
      "  (10-ReLU): ReLU(inplace=True)\n",
      "  (11-Conv2d): Conv2d(256, 256, kernel_size=(3, 3), stride=(1, 1), padding=(1, 1))\n",
      "  (12-ReLU): ReLU(inplace=True)\n",
      "  (13-MaxPool2d): MaxPool2d(kernel_size=3, stride=2, padding=0, dilation=1, ceil_mode=False)\n",
      "  (14-AdaptiveAvgPool2d): AdaptiveAvgPool2d(output_size=(6, 6))\n",
      "  (15-Flatten): Flatten(start_dim=1, end_dim=-1)\n",
      "  (16-Dropout): Dropout(p=0.5, inplace=False)\n",
      "  (17-Linear): Linear(in_features=9216, out_features=4096, bias=True)\n",
      "  (18-ReLU): ReLU(inplace=True)\n",
      "  (19-Dropout): Dropout(p=0.5, inplace=False)\n",
      "  (20-Linear): Linear(in_features=4096, out_features=4096, bias=True)\n",
      "  (21-ReLU): ReLU(inplace=True)\n",
      "  (22-Linear): Linear(in_features=4096, out_features=1000, bias=True)\n",
      ")\n"
     ]
    }
   ],
   "source": [
    "a1_alexNet.show_model(edge_model,cloud_model)"
   ],
   "metadata": {
    "collapsed": false,
    "pycharm": {
     "name": "#%%\n"
    }
   }
  },
  {
   "cell_type": "code",
   "execution_count": 5,
   "outputs": [
    {
     "name": "stdout",
     "output_type": "stream",
     "text": [
      "x device : cuda:0\n"
     ]
    }
   ],
   "source": [
    "x = torch.rand(size=(1000,3,224,224))\n",
    "x = x.to(device)\n",
    "print(f\"x device : {x.device}\")"
   ],
   "metadata": {
    "collapsed": false,
    "pycharm": {
     "name": "#%%\n"
    }
   }
  },
  {
   "cell_type": "code",
   "execution_count": 6,
   "outputs": [
    {
     "name": "stdout",
     "output_type": "stream",
     "text": [
      "this model is a empty model\n"
     ]
    }
   ],
   "source": [
    "x = a1_alexNet.show_features(edge_model,x)"
   ],
   "metadata": {
    "collapsed": false,
    "pycharm": {
     "name": "#%%\n"
    }
   }
  },
  {
   "cell_type": "code",
   "execution_count": 7,
   "outputs": [
    {
     "name": "stdout",
     "output_type": "stream",
     "text": [
      "------------------------------------------------------------------\n",
      "1-Conv2d(3, 64, kernel_size=(11, 11), stride=(4, 4), padding=(2, 2)) \n",
      "computation time: 1.678 s\n",
      "output shape: torch.Size([1000, 64, 55, 55])\t transport_num:193600000    transport_size:774.400MB\n",
      "weight  :  parameters size torch.Size([64, 3, 11, 11]) \t parameters number 23232\n",
      "bias  :  parameters size torch.Size([64]) \t parameters number 64\n",
      "------------------------------------------------------------------\n",
      "2-ReLU(inplace=True) \n",
      "computation time: 0.001 s\n",
      "output shape: torch.Size([1000, 64, 55, 55])\t transport_num:193600000    transport_size:774.400MB\n",
      "------------------------------------------------------------------\n",
      "3-MaxPool2d(kernel_size=3, stride=2, padding=0, dilation=1, ceil_mode=False) \n",
      "computation time: 0.004 s\n",
      "output shape: torch.Size([1000, 64, 27, 27])\t transport_num:46656000    transport_size:186.624MB\n",
      "------------------------------------------------------------------\n",
      "4-Conv2d(64, 192, kernel_size=(5, 5), stride=(1, 1), padding=(2, 2)) \n",
      "computation time: 0.007 s\n",
      "output shape: torch.Size([1000, 192, 27, 27])\t transport_num:139968000    transport_size:559.872MB\n",
      "weight  :  parameters size torch.Size([192, 64, 5, 5]) \t parameters number 307200\n",
      "bias  :  parameters size torch.Size([192]) \t parameters number 192\n",
      "------------------------------------------------------------------\n",
      "5-ReLU(inplace=True) \n",
      "computation time: 0.0 s\n",
      "output shape: torch.Size([1000, 192, 27, 27])\t transport_num:139968000    transport_size:559.872MB\n",
      "------------------------------------------------------------------\n",
      "6-MaxPool2d(kernel_size=3, stride=2, padding=0, dilation=1, ceil_mode=False) \n",
      "computation time: 0.001 s\n",
      "output shape: torch.Size([1000, 192, 13, 13])\t transport_num:32448000    transport_size:129.792MB\n",
      "------------------------------------------------------------------\n",
      "7-Conv2d(192, 384, kernel_size=(3, 3), stride=(1, 1), padding=(1, 1)) \n",
      "computation time: 1.254 s\n",
      "output shape: torch.Size([1000, 384, 13, 13])\t transport_num:64896000    transport_size:259.584MB\n",
      "weight  :  parameters size torch.Size([384, 192, 3, 3]) \t parameters number 663552\n",
      "bias  :  parameters size torch.Size([384]) \t parameters number 384\n",
      "------------------------------------------------------------------\n",
      "8-ReLU(inplace=True) \n",
      "computation time: 0.0 s\n",
      "output shape: torch.Size([1000, 384, 13, 13])\t transport_num:64896000    transport_size:259.584MB\n",
      "------------------------------------------------------------------\n",
      "9-Conv2d(384, 256, kernel_size=(3, 3), stride=(1, 1), padding=(1, 1)) \n",
      "computation time: 0.326 s\n",
      "output shape: torch.Size([1000, 256, 13, 13])\t transport_num:43264000    transport_size:173.056MB\n",
      "weight  :  parameters size torch.Size([256, 384, 3, 3]) \t parameters number 884736\n",
      "bias  :  parameters size torch.Size([256]) \t parameters number 256\n",
      "------------------------------------------------------------------\n",
      "10-ReLU(inplace=True) \n",
      "computation time: 0.0 s\n",
      "output shape: torch.Size([1000, 256, 13, 13])\t transport_num:43264000    transport_size:173.056MB\n",
      "------------------------------------------------------------------\n",
      "11-Conv2d(256, 256, kernel_size=(3, 3), stride=(1, 1), padding=(1, 1)) \n",
      "computation time: 0.002 s\n",
      "output shape: torch.Size([1000, 256, 13, 13])\t transport_num:43264000    transport_size:173.056MB\n",
      "weight  :  parameters size torch.Size([256, 256, 3, 3]) \t parameters number 589824\n",
      "bias  :  parameters size torch.Size([256]) \t parameters number 256\n",
      "------------------------------------------------------------------\n",
      "12-ReLU(inplace=True) \n",
      "computation time: 0.0 s\n",
      "output shape: torch.Size([1000, 256, 13, 13])\t transport_num:43264000    transport_size:173.056MB\n",
      "------------------------------------------------------------------\n",
      "13-MaxPool2d(kernel_size=3, stride=2, padding=0, dilation=1, ceil_mode=False) \n",
      "computation time: 0.001 s\n",
      "output shape: torch.Size([1000, 256, 6, 6])\t transport_num:9216000    transport_size:36.864MB\n",
      "------------------------------------------------------------------\n",
      "14-AdaptiveAvgPool2d(output_size=(6, 6)) \n",
      "computation time: 0.0 s\n",
      "output shape: torch.Size([1000, 256, 6, 6])\t transport_num:9216000    transport_size:36.864MB\n",
      "------------------------------------------------------------------\n",
      "15-Flatten(start_dim=1, end_dim=-1) \n",
      "computation time: 0.0 s\n",
      "output shape: torch.Size([1000, 9216])\t transport_num:9216000    transport_size:36.864MB\n",
      "------------------------------------------------------------------\n",
      "16-Dropout(p=0.5, inplace=False) \n",
      "computation time: 0.292 s\n",
      "output shape: torch.Size([1000, 9216])\t transport_num:9216000    transport_size:36.864MB\n",
      "------------------------------------------------------------------\n",
      "17-Linear(in_features=9216, out_features=4096, bias=True) \n",
      "computation time: 0.356 s\n",
      "output shape: torch.Size([1000, 4096])\t transport_num:4096000    transport_size:16.384MB\n",
      "weight  :  parameters size torch.Size([4096, 9216]) \t parameters number 37748736\n",
      "bias  :  parameters size torch.Size([4096]) \t parameters number 4096\n",
      "------------------------------------------------------------------\n",
      "18-ReLU(inplace=True) \n",
      "computation time: 0.0 s\n",
      "output shape: torch.Size([1000, 4096])\t transport_num:4096000    transport_size:16.384MB\n",
      "------------------------------------------------------------------\n",
      "19-Dropout(p=0.5, inplace=False) \n",
      "computation time: 0.0 s\n",
      "output shape: torch.Size([1000, 4096])\t transport_num:4096000    transport_size:16.384MB\n",
      "------------------------------------------------------------------\n",
      "20-Linear(in_features=4096, out_features=4096, bias=True) \n",
      "computation time: 0.0 s\n",
      "output shape: torch.Size([1000, 4096])\t transport_num:4096000    transport_size:16.384MB\n",
      "weight  :  parameters size torch.Size([4096, 4096]) \t parameters number 16777216\n",
      "bias  :  parameters size torch.Size([4096]) \t parameters number 4096\n",
      "------------------------------------------------------------------\n",
      "21-ReLU(inplace=True) \n",
      "computation time: 0.001 s\n",
      "output shape: torch.Size([1000, 4096])\t transport_num:4096000    transport_size:16.384MB\n",
      "------------------------------------------------------------------\n",
      "22-Linear(in_features=4096, out_features=1000, bias=True) \n",
      "computation time: 0.0 s\n",
      "output shape: torch.Size([1000, 1000])\t transport_num:1000000    transport_size:4.000MB\n",
      "weight  :  parameters size torch.Size([1000, 4096]) \t parameters number 4096000\n",
      "bias  :  parameters size torch.Size([1000]) \t parameters number 1000\n"
     ]
    }
   ],
   "source": [
    "x = a1_alexNet.show_features(cloud_model,x)"
   ],
   "metadata": {
    "collapsed": false,
    "pycharm": {
     "name": "#%%\n"
    }
   }
  },
  {
   "cell_type": "code",
   "execution_count": 8,
   "outputs": [],
   "source": [
    "# 从第7层开始划分 即7-Conv2d(192, 384, kernel_size=(3, 3), stride=(1, 1), padding=(1, 1))\n",
    "# set_index = 7\n",
    "# edge_model,cloud_model = a0_alexNet.model_partition(alexnet,set_index)\n",
    "#\n",
    "# x = torch.rand(size=(1000,3,224,224))\n",
    "# x = x.to(device)\n",
    "# print(f\"x device : {x.device}\")\n",
    "#\n",
    "# x = a0_alexNet.show_features(edge_model,x)"
   ],
   "metadata": {
    "collapsed": false,
    "pycharm": {
     "name": "#%%\n"
    }
   }
  },
  {
   "cell_type": "code",
   "execution_count": 9,
   "outputs": [],
   "source": [
    "# x = a0_alexNet.show_features(cloud_model,x)"
   ],
   "metadata": {
    "collapsed": false,
    "pycharm": {
     "name": "#%%\n"
    }
   }
  },
  {
   "cell_type": "code",
   "execution_count": 9,
   "outputs": [],
   "source": [],
   "metadata": {
    "collapsed": false,
    "pycharm": {
     "name": "#%%\n"
    }
   }
  }
 ],
 "metadata": {
  "kernelspec": {
   "display_name": "Python 3",
   "language": "python",
   "name": "python3"
  },
  "language_info": {
   "codemirror_mode": {
    "name": "ipython",
    "version": 2
   },
   "file_extension": ".py",
   "mimetype": "text/x-python",
   "name": "python",
   "nbconvert_exporter": "python",
   "pygments_lexer": "ipython2",
   "version": "2.7.6"
  }
 },
 "nbformat": 4,
 "nbformat_minor": 0
}