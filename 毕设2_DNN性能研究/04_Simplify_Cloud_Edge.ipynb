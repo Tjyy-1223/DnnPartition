{
 "cells": [
  {
   "cell_type": "code",
   "execution_count": 1,
   "metadata": {
    "collapsed": true
   },
   "outputs": [],
   "source": [
    "import torch\n",
    "import a0_alexNet\n",
    "device = \"cuda\" if torch.cuda.is_available() else \"cpu\"\n",
    "\n",
    "alexnet = a0_alexNet.AlexNet(input_layer=3,num_classes=1000)\n",
    "alexnet = alexnet.to(device)"
   ]
  },
  {
   "cell_type": "code",
   "execution_count": 2,
   "outputs": [],
   "source": [
    "set_index = 0\n",
    "edge_model,cloud_model = a0_alexNet.model_partition(alexnet,set_index)"
   ],
   "metadata": {
    "collapsed": false,
    "pycharm": {
     "name": "#%%\n"
    }
   }
  },
  {
   "cell_type": "code",
   "execution_count": 3,
   "outputs": [
    {
     "name": "stdout",
     "output_type": "stream",
     "text": [
      "alexnet model : 22\n"
     ]
    }
   ],
   "source": [
    "print(f\"alexnet model : {len(alexnet)}\")"
   ],
   "metadata": {
    "collapsed": false,
    "pycharm": {
     "name": "#%%\n"
    }
   }
  },
  {
   "cell_type": "code",
   "execution_count": 4,
   "outputs": [
    {
     "name": "stdout",
     "output_type": "stream",
     "text": [
      "------------- edge model -----------------\n",
      "Sequential()\n",
      "------------- cloud model -----------------\n",
      "Sequential(\n",
      "  (1-Conv2d): Conv2d(3, 64, kernel_size=(11, 11), stride=(4, 4), padding=(2, 2))\n",
      "  (2-ReLU): ReLU(inplace=True)\n",
      "  (3-MaxPool2d): MaxPool2d(kernel_size=3, stride=2, padding=0, dilation=1, ceil_mode=False)\n",
      "  (4-Conv2d): Conv2d(64, 192, kernel_size=(5, 5), stride=(1, 1), padding=(2, 2))\n",
      "  (5-ReLU): ReLU(inplace=True)\n",
      "  (6-MaxPool2d): MaxPool2d(kernel_size=3, stride=2, padding=0, dilation=1, ceil_mode=False)\n",
      "  (7-Conv2d): Conv2d(192, 384, kernel_size=(3, 3), stride=(1, 1), padding=(1, 1))\n",
      "  (8-ReLU): ReLU(inplace=True)\n",
      "  (9-Conv2d): Conv2d(384, 256, kernel_size=(3, 3), stride=(1, 1), padding=(1, 1))\n",
      "  (10-ReLU): ReLU(inplace=True)\n",
      "  (11-Conv2d): Conv2d(256, 256, kernel_size=(3, 3), stride=(1, 1), padding=(1, 1))\n",
      "  (12-ReLU): ReLU(inplace=True)\n",
      "  (13-MaxPool2d): MaxPool2d(kernel_size=3, stride=2, padding=0, dilation=1, ceil_mode=False)\n",
      "  (14-AdaptiveAvgPool2d): AdaptiveAvgPool2d(output_size=(6, 6))\n",
      "  (15-Flatten): Flatten(start_dim=1, end_dim=-1)\n",
      "  (16-Dropout): Dropout(p=0.5, inplace=False)\n",
      "  (17-Linear): Linear(in_features=9216, out_features=4096, bias=True)\n",
      "  (18-ReLU): ReLU(inplace=True)\n",
      "  (19-Dropout): Dropout(p=0.5, inplace=False)\n",
      "  (20-Linear): Linear(in_features=4096, out_features=4096, bias=True)\n",
      "  (21-ReLU): ReLU(inplace=True)\n",
      "  (22-Linear): Linear(in_features=4096, out_features=1000, bias=True)\n",
      ")\n"
     ]
    }
   ],
   "source": [
    "a0_alexNet.show_model(edge_model,cloud_model)"
   ],
   "metadata": {
    "collapsed": false,
    "pycharm": {
     "name": "#%%\n"
    }
   }
  },
  {
   "cell_type": "code",
   "execution_count": 5,
   "outputs": [
    {
     "name": "stdout",
     "output_type": "stream",
     "text": [
      "x device : cpu\n"
     ]
    }
   ],
   "source": [
    "x = torch.rand(size=(100,3,224,224))\n",
    "x = x.to(device)\n",
    "print(f\"x device : {x.device}\")"
   ],
   "metadata": {
    "collapsed": false,
    "pycharm": {
     "name": "#%%\n"
    }
   }
  },
  {
   "cell_type": "code",
   "execution_count": 6,
   "outputs": [
    {
     "name": "stdout",
     "output_type": "stream",
     "text": [
      "this model is a empty model\n"
     ]
    }
   ],
   "source": [
    "x = a0_alexNet.show_features(edge_model,x)"
   ],
   "metadata": {
    "collapsed": false,
    "pycharm": {
     "name": "#%%\n"
    }
   }
  },
  {
   "cell_type": "code",
   "execution_count": 7,
   "outputs": [
    {
     "name": "stdout",
     "output_type": "stream",
     "text": [
      "------------------------------------------------------------------\n",
      "1-Conv2d(3, 64, kernel_size=(11, 11), stride=(4, 4), padding=(2, 2)) \n",
      "computation time: 0.295 s\n",
      "output shape: torch.Size([100, 64, 55, 55])\t transport_num:19360000\t transport_size:619.520M\n",
      "weight  :  parameters size torch.Size([64, 3, 11, 11]) \t parameters number 23232\n",
      "bias  :  parameters size torch.Size([64]) \t parameters number 64\n",
      "------------------------------------------------------------------\n",
      "2-ReLU(inplace=True) \n",
      "computation time: 0.002 s\n",
      "output shape: torch.Size([100, 64, 55, 55])\t transport_num:19360000\t transport_size:619.520M\n",
      "------------------------------------------------------------------\n",
      "3-MaxPool2d(kernel_size=3, stride=2, padding=0, dilation=1, ceil_mode=False) \n",
      "computation time: 0.02 s\n",
      "output shape: torch.Size([100, 64, 27, 27])\t transport_num:4665600\t transport_size:149.299M\n",
      "------------------------------------------------------------------\n",
      "4-Conv2d(64, 192, kernel_size=(5, 5), stride=(1, 1), padding=(2, 2)) \n",
      "computation time: 0.098 s\n",
      "output shape: torch.Size([100, 192, 27, 27])\t transport_num:13996800\t transport_size:447.898M\n",
      "weight  :  parameters size torch.Size([192, 64, 5, 5]) \t parameters number 307200\n",
      "bias  :  parameters size torch.Size([192]) \t parameters number 192\n",
      "------------------------------------------------------------------\n",
      "5-ReLU(inplace=True) \n",
      "computation time: 0.002 s\n",
      "output shape: torch.Size([100, 192, 27, 27])\t transport_num:13996800\t transport_size:447.898M\n",
      "------------------------------------------------------------------\n",
      "6-MaxPool2d(kernel_size=3, stride=2, padding=0, dilation=1, ceil_mode=False) \n",
      "computation time: 0.016 s\n",
      "output shape: torch.Size([100, 192, 13, 13])\t transport_num:3244800\t transport_size:103.834M\n",
      "------------------------------------------------------------------\n",
      "7-Conv2d(192, 384, kernel_size=(3, 3), stride=(1, 1), padding=(1, 1)) \n",
      "computation time: 0.069 s\n",
      "output shape: torch.Size([100, 384, 13, 13])\t transport_num:6489600\t transport_size:207.667M\n",
      "weight  :  parameters size torch.Size([384, 192, 3, 3]) \t parameters number 663552\n",
      "bias  :  parameters size torch.Size([384]) \t parameters number 384\n",
      "------------------------------------------------------------------\n",
      "8-ReLU(inplace=True) \n",
      "computation time: 0.0 s\n",
      "output shape: torch.Size([100, 384, 13, 13])\t transport_num:6489600\t transport_size:207.667M\n",
      "------------------------------------------------------------------\n",
      "9-Conv2d(384, 256, kernel_size=(3, 3), stride=(1, 1), padding=(1, 1)) \n",
      "computation time: 0.088 s\n",
      "output shape: torch.Size([100, 256, 13, 13])\t transport_num:4326400\t transport_size:138.445M\n",
      "weight  :  parameters size torch.Size([256, 384, 3, 3]) \t parameters number 884736\n",
      "bias  :  parameters size torch.Size([256]) \t parameters number 256\n",
      "------------------------------------------------------------------\n",
      "10-ReLU(inplace=True) \n",
      "computation time: 0.001 s\n",
      "output shape: torch.Size([100, 256, 13, 13])\t transport_num:4326400\t transport_size:138.445M\n",
      "------------------------------------------------------------------\n",
      "11-Conv2d(256, 256, kernel_size=(3, 3), stride=(1, 1), padding=(1, 1)) \n",
      "computation time: 0.043 s\n",
      "output shape: torch.Size([100, 256, 13, 13])\t transport_num:4326400\t transport_size:138.445M\n",
      "weight  :  parameters size torch.Size([256, 256, 3, 3]) \t parameters number 589824\n",
      "bias  :  parameters size torch.Size([256]) \t parameters number 256\n",
      "------------------------------------------------------------------\n",
      "12-ReLU(inplace=True) \n",
      "computation time: 0.0 s\n",
      "output shape: torch.Size([100, 256, 13, 13])\t transport_num:4326400\t transport_size:138.445M\n",
      "------------------------------------------------------------------\n",
      "13-MaxPool2d(kernel_size=3, stride=2, padding=0, dilation=1, ceil_mode=False) \n",
      "computation time: 0.005 s\n",
      "output shape: torch.Size([100, 256, 6, 6])\t transport_num:921600\t transport_size:29.491M\n",
      "------------------------------------------------------------------\n",
      "14-AdaptiveAvgPool2d(output_size=(6, 6)) \n",
      "computation time: 0.001 s\n",
      "output shape: torch.Size([100, 256, 6, 6])\t transport_num:921600\t transport_size:29.491M\n",
      "------------------------------------------------------------------\n",
      "15-Flatten(start_dim=1, end_dim=-1) \n",
      "computation time: 0.0 s\n",
      "output shape: torch.Size([100, 9216])\t transport_num:921600\t transport_size:29.491M\n",
      "------------------------------------------------------------------\n",
      "16-Dropout(p=0.5, inplace=False) \n",
      "computation time: 0.006 s\n",
      "output shape: torch.Size([100, 9216])\t transport_num:921600\t transport_size:29.491M\n",
      "------------------------------------------------------------------\n",
      "17-Linear(in_features=9216, out_features=4096, bias=True) \n",
      "computation time: 0.049 s\n",
      "output shape: torch.Size([100, 4096])\t transport_num:409600\t transport_size:13.107M\n",
      "weight  :  parameters size torch.Size([4096, 9216]) \t parameters number 37748736\n",
      "bias  :  parameters size torch.Size([4096]) \t parameters number 4096\n",
      "------------------------------------------------------------------\n",
      "18-ReLU(inplace=True) \n",
      "computation time: 0.0 s\n",
      "output shape: torch.Size([100, 4096])\t transport_num:409600\t transport_size:13.107M\n",
      "------------------------------------------------------------------\n",
      "19-Dropout(p=0.5, inplace=False) \n",
      "computation time: 0.003 s\n",
      "output shape: torch.Size([100, 4096])\t transport_num:409600\t transport_size:13.107M\n",
      "------------------------------------------------------------------\n",
      "20-Linear(in_features=4096, out_features=4096, bias=True) \n",
      "computation time: 0.039 s\n",
      "output shape: torch.Size([100, 4096])\t transport_num:409600\t transport_size:13.107M\n",
      "weight  :  parameters size torch.Size([4096, 4096]) \t parameters number 16777216\n",
      "bias  :  parameters size torch.Size([4096]) \t parameters number 4096\n",
      "------------------------------------------------------------------\n",
      "21-ReLU(inplace=True) \n",
      "computation time: 0.0 s\n",
      "output shape: torch.Size([100, 4096])\t transport_num:409600\t transport_size:13.107M\n",
      "------------------------------------------------------------------\n",
      "22-Linear(in_features=4096, out_features=1000, bias=True) \n",
      "computation time: 0.019 s\n",
      "output shape: torch.Size([100, 1000])\t transport_num:100000\t transport_size:3.200M\n",
      "weight  :  parameters size torch.Size([1000, 4096]) \t parameters number 4096000\n",
      "bias  :  parameters size torch.Size([1000]) \t parameters number 1000\n"
     ]
    }
   ],
   "source": [
    "x = a0_alexNet.show_features(cloud_model,x)"
   ],
   "metadata": {
    "collapsed": false,
    "pycharm": {
     "name": "#%%\n"
    }
   }
  },
  {
   "cell_type": "code",
   "execution_count": 10,
   "outputs": [
    {
     "name": "stdout",
     "output_type": "stream",
     "text": [
      "x device : cpu\n",
      "------------------------------------------------------------------\n",
      "1-Conv2d(3, 64, kernel_size=(11, 11), stride=(4, 4), padding=(2, 2)) \n",
      "computation time: 0.292 s\n",
      "output shape: torch.Size([100, 64, 55, 55])\t transport_num:19360000\t transport_size:619.520M\n",
      "weight  :  parameters size torch.Size([64, 3, 11, 11]) \t parameters number 23232\n",
      "bias  :  parameters size torch.Size([64]) \t parameters number 64\n",
      "------------------------------------------------------------------\n",
      "2-ReLU(inplace=True) \n",
      "computation time: 0.003 s\n",
      "output shape: torch.Size([100, 64, 55, 55])\t transport_num:19360000\t transport_size:619.520M\n",
      "------------------------------------------------------------------\n",
      "3-MaxPool2d(kernel_size=3, stride=2, padding=0, dilation=1, ceil_mode=False) \n",
      "computation time: 0.021 s\n",
      "output shape: torch.Size([100, 64, 27, 27])\t transport_num:4665600\t transport_size:149.299M\n",
      "------------------------------------------------------------------\n",
      "4-Conv2d(64, 192, kernel_size=(5, 5), stride=(1, 1), padding=(2, 2)) \n",
      "computation time: 0.114 s\n",
      "output shape: torch.Size([100, 192, 27, 27])\t transport_num:13996800\t transport_size:447.898M\n",
      "weight  :  parameters size torch.Size([192, 64, 5, 5]) \t parameters number 307200\n",
      "bias  :  parameters size torch.Size([192]) \t parameters number 192\n",
      "------------------------------------------------------------------\n",
      "5-ReLU(inplace=True) \n",
      "computation time: 0.002 s\n",
      "output shape: torch.Size([100, 192, 27, 27])\t transport_num:13996800\t transport_size:447.898M\n",
      "------------------------------------------------------------------\n",
      "6-MaxPool2d(kernel_size=3, stride=2, padding=0, dilation=1, ceil_mode=False) \n",
      "computation time: 0.017 s\n",
      "output shape: torch.Size([100, 192, 13, 13])\t transport_num:3244800\t transport_size:103.834M\n",
      "------------------------------------------------------------------\n",
      "7-Conv2d(192, 384, kernel_size=(3, 3), stride=(1, 1), padding=(1, 1)) \n",
      "computation time: 0.055 s\n",
      "output shape: torch.Size([100, 384, 13, 13])\t transport_num:6489600\t transport_size:207.667M\n",
      "weight  :  parameters size torch.Size([384, 192, 3, 3]) \t parameters number 663552\n",
      "bias  :  parameters size torch.Size([384]) \t parameters number 384\n"
     ]
    }
   ],
   "source": [
    "# 从第7层开始划分 即7-Conv2d(192, 384, kernel_size=(3, 3), stride=(1, 1), padding=(1, 1))\n",
    "set_index = 7\n",
    "edge_model,cloud_model = a0_alexNet.model_partition(alexnet,set_index)\n",
    "\n",
    "x = torch.rand(size=(100,3,224,224))\n",
    "x = x.to(device)\n",
    "print(f\"x device : {x.device}\")\n",
    "\n",
    "x = a0_alexNet.show_features(edge_model,x)"
   ],
   "metadata": {
    "collapsed": false,
    "pycharm": {
     "name": "#%%\n"
    }
   }
  },
  {
   "cell_type": "code",
   "execution_count": 11,
   "outputs": [
    {
     "name": "stdout",
     "output_type": "stream",
     "text": [
      "------------------------------------------------------------------\n",
      "1-ReLU(inplace=True) \n",
      "computation time: 0.002 s\n",
      "output shape: torch.Size([100, 384, 13, 13])\t transport_num:6489600\t transport_size:207.667M\n",
      "------------------------------------------------------------------\n",
      "2-Conv2d(384, 256, kernel_size=(3, 3), stride=(1, 1), padding=(1, 1)) \n",
      "computation time: 0.065 s\n",
      "output shape: torch.Size([100, 256, 13, 13])\t transport_num:4326400\t transport_size:138.445M\n",
      "weight  :  parameters size torch.Size([256, 384, 3, 3]) \t parameters number 884736\n",
      "bias  :  parameters size torch.Size([256]) \t parameters number 256\n",
      "------------------------------------------------------------------\n",
      "3-ReLU(inplace=True) \n",
      "computation time: 0.0 s\n",
      "output shape: torch.Size([100, 256, 13, 13])\t transport_num:4326400\t transport_size:138.445M\n",
      "------------------------------------------------------------------\n",
      "4-Conv2d(256, 256, kernel_size=(3, 3), stride=(1, 1), padding=(1, 1)) \n",
      "computation time: 0.042 s\n",
      "output shape: torch.Size([100, 256, 13, 13])\t transport_num:4326400\t transport_size:138.445M\n",
      "weight  :  parameters size torch.Size([256, 256, 3, 3]) \t parameters number 589824\n",
      "bias  :  parameters size torch.Size([256]) \t parameters number 256\n",
      "------------------------------------------------------------------\n",
      "5-ReLU(inplace=True) \n",
      "computation time: 0.001 s\n",
      "output shape: torch.Size([100, 256, 13, 13])\t transport_num:4326400\t transport_size:138.445M\n",
      "------------------------------------------------------------------\n",
      "6-MaxPool2d(kernel_size=3, stride=2, padding=0, dilation=1, ceil_mode=False) \n",
      "computation time: 0.005 s\n",
      "output shape: torch.Size([100, 256, 6, 6])\t transport_num:921600\t transport_size:29.491M\n",
      "------------------------------------------------------------------\n",
      "7-AdaptiveAvgPool2d(output_size=(6, 6)) \n",
      "computation time: 0.001 s\n",
      "output shape: torch.Size([100, 256, 6, 6])\t transport_num:921600\t transport_size:29.491M\n",
      "------------------------------------------------------------------\n",
      "8-Flatten(start_dim=1, end_dim=-1) \n",
      "computation time: 0.0 s\n",
      "output shape: torch.Size([100, 9216])\t transport_num:921600\t transport_size:29.491M\n",
      "------------------------------------------------------------------\n",
      "9-Dropout(p=0.5, inplace=False) \n",
      "computation time: 0.005 s\n",
      "output shape: torch.Size([100, 9216])\t transport_num:921600\t transport_size:29.491M\n",
      "------------------------------------------------------------------\n",
      "10-Linear(in_features=9216, out_features=4096, bias=True) \n",
      "computation time: 0.157 s\n",
      "output shape: torch.Size([100, 4096])\t transport_num:409600\t transport_size:13.107M\n",
      "weight  :  parameters size torch.Size([4096, 9216]) \t parameters number 37748736\n",
      "bias  :  parameters size torch.Size([4096]) \t parameters number 4096\n",
      "------------------------------------------------------------------\n",
      "11-ReLU(inplace=True) \n",
      "computation time: 0.0 s\n",
      "output shape: torch.Size([100, 4096])\t transport_num:409600\t transport_size:13.107M\n",
      "------------------------------------------------------------------\n",
      "12-Dropout(p=0.5, inplace=False) \n",
      "computation time: 0.002 s\n",
      "output shape: torch.Size([100, 4096])\t transport_num:409600\t transport_size:13.107M\n",
      "------------------------------------------------------------------\n",
      "13-Linear(in_features=4096, out_features=4096, bias=True) \n",
      "computation time: 0.082 s\n",
      "output shape: torch.Size([100, 4096])\t transport_num:409600\t transport_size:13.107M\n",
      "weight  :  parameters size torch.Size([4096, 4096]) \t parameters number 16777216\n",
      "bias  :  parameters size torch.Size([4096]) \t parameters number 4096\n",
      "------------------------------------------------------------------\n",
      "14-ReLU(inplace=True) \n",
      "computation time: 0.0 s\n",
      "output shape: torch.Size([100, 4096])\t transport_num:409600\t transport_size:13.107M\n",
      "------------------------------------------------------------------\n",
      "15-Linear(in_features=4096, out_features=1000, bias=True) \n",
      "computation time: 0.05 s\n",
      "output shape: torch.Size([100, 1000])\t transport_num:100000\t transport_size:3.200M\n",
      "weight  :  parameters size torch.Size([1000, 4096]) \t parameters number 4096000\n",
      "bias  :  parameters size torch.Size([1000]) \t parameters number 1000\n"
     ]
    }
   ],
   "source": [
    "x = a0_alexNet.show_features(cloud_model,x)"
   ],
   "metadata": {
    "collapsed": false,
    "pycharm": {
     "name": "#%%\n"
    }
   }
  },
  {
   "cell_type": "code",
   "execution_count": null,
   "outputs": [],
   "source": [],
   "metadata": {
    "collapsed": false,
    "pycharm": {
     "name": "#%%\n"
    }
   }
  }
 ],
 "metadata": {
  "kernelspec": {
   "display_name": "Python 3",
   "language": "python",
   "name": "python3"
  },
  "language_info": {
   "codemirror_mode": {
    "name": "ipython",
    "version": 2
   },
   "file_extension": ".py",
   "mimetype": "text/x-python",
   "name": "python",
   "nbconvert_exporter": "python",
   "pygments_lexer": "ipython2",
   "version": "2.7.6"
  }
 },
 "nbformat": 4,
 "nbformat_minor": 0
}