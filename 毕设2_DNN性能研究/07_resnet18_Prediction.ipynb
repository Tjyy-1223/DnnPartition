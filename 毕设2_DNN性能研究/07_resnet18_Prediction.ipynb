{
 "cells": [
  {
   "cell_type": "code",
   "execution_count": 1,
   "metadata": {
    "collapsed": true
   },
   "outputs": [
    {
     "name": "stdout",
     "output_type": "stream",
     "text": [
      "cuda\n"
     ]
    }
   ],
   "source": [
    "import torch\n",
    "import function\n",
    "import a4_ResNet\n",
    "\n",
    "device = \"cuda\" if torch.cuda.is_available() else \"cpu\"\n",
    "print(device)"
   ]
  },
  {
   "cell_type": "code",
   "execution_count": 3,
   "outputs": [
    {
     "name": "stdout",
     "output_type": "stream",
     "text": [
      "x device : cuda:0\n"
     ]
    }
   ],
   "source": [
    "x = torch.rand(size=(256,3,224,224))\n",
    "x = x.to(device)\n",
    "print(f\"x device : {x.device}\")\n",
    "\n",
    "resnet18 = a4_ResNet.resnet18()\n",
    "resnet18 = resnet18.to(device)"
   ],
   "metadata": {
    "collapsed": false,
    "pycharm": {
     "name": "#%%\n"
    }
   }
  },
  {
   "cell_type": "code",
   "execution_count": 3,
   "outputs": [
    {
     "name": "stdout",
     "output_type": "stream",
     "text": [
      "15\n"
     ]
    }
   ],
   "source": [
    "print(len(resnet18))"
   ],
   "metadata": {
    "collapsed": false,
    "pycharm": {
     "name": "#%%\n"
    }
   }
  },
  {
   "cell_type": "code",
   "execution_count": 4,
   "outputs": [
    {
     "name": "stdout",
     "output_type": "stream",
     "text": [
      "------------------------------------------------------------------\n",
      "1-Conv2d(3, 64, kernel_size=(7, 7), stride=(2, 2), padding=(3, 3), bias=False) \n",
      "computation time: 0.576 s\n",
      "output shape: torch.Size([256, 64, 112, 112])\t transport_num:205520896    transport_size:822.084MB\n",
      "weight  :  parameters size torch.Size([64, 3, 7, 7]) \t parameters number 9408\n",
      "------------------------------------------------------------------\n",
      "2-MaxPool2d(kernel_size=3, stride=2, padding=1, dilation=1, ceil_mode=False) \n",
      "computation time: 1.029 s\n",
      "output shape: torch.Size([256, 64, 56, 56])\t transport_num:51380224    transport_size:205.521MB\n",
      "------------------------------------------------------------------\n",
      "3-BasicBlock(\n",
      "  (conv1): Conv2d(64, 64, kernel_size=(3, 3), stride=(1, 1), padding=(1, 1), bias=False)\n",
      "  (bn1): BatchNorm2d(64, eps=1e-05, momentum=0.1, affine=True, track_running_stats=True)\n",
      "  (relu): ReLU(inplace=True)\n",
      "  (conv2): Conv2d(64, 64, kernel_size=(3, 3), stride=(1, 1), padding=(1, 1), bias=False)\n",
      "  (bn2): BatchNorm2d(64, eps=1e-05, momentum=0.1, affine=True, track_running_stats=True)\n",
      ") \n",
      "computation time: 0.101 s\n",
      "output shape: torch.Size([256, 64, 56, 56])\t transport_num:51380224    transport_size:205.521MB\n",
      "conv1.weight  :  parameters size torch.Size([64, 64, 3, 3]) \t parameters number 36864\n",
      "bn1.weight  :  parameters size torch.Size([64]) \t parameters number 64\n",
      "bn1.bias  :  parameters size torch.Size([64]) \t parameters number 64\n",
      "conv2.weight  :  parameters size torch.Size([64, 64, 3, 3]) \t parameters number 36864\n",
      "bn2.weight  :  parameters size torch.Size([64]) \t parameters number 64\n",
      "bn2.bias  :  parameters size torch.Size([64]) \t parameters number 64\n",
      "------------------------------------------------------------------\n",
      "4-BasicBlock(\n",
      "  (conv1): Conv2d(64, 64, kernel_size=(3, 3), stride=(1, 1), padding=(1, 1), bias=False)\n",
      "  (bn1): BatchNorm2d(64, eps=1e-05, momentum=0.1, affine=True, track_running_stats=True)\n",
      "  (relu): ReLU(inplace=True)\n",
      "  (conv2): Conv2d(64, 64, kernel_size=(3, 3), stride=(1, 1), padding=(1, 1), bias=False)\n",
      "  (bn2): BatchNorm2d(64, eps=1e-05, momentum=0.1, affine=True, track_running_stats=True)\n",
      ") \n",
      "computation time: 0.001 s\n",
      "output shape: torch.Size([256, 64, 56, 56])\t transport_num:51380224    transport_size:205.521MB\n",
      "conv1.weight  :  parameters size torch.Size([64, 64, 3, 3]) \t parameters number 36864\n",
      "bn1.weight  :  parameters size torch.Size([64]) \t parameters number 64\n",
      "bn1.bias  :  parameters size torch.Size([64]) \t parameters number 64\n",
      "conv2.weight  :  parameters size torch.Size([64, 64, 3, 3]) \t parameters number 36864\n",
      "bn2.weight  :  parameters size torch.Size([64]) \t parameters number 64\n",
      "bn2.bias  :  parameters size torch.Size([64]) \t parameters number 64\n",
      "------------------------------------------------------------------\n",
      "5-BasicBlock(\n",
      "  (conv1): Conv2d(64, 128, kernel_size=(3, 3), stride=(2, 2), padding=(1, 1), bias=False)\n",
      "  (bn1): BatchNorm2d(128, eps=1e-05, momentum=0.1, affine=True, track_running_stats=True)\n",
      "  (relu): ReLU(inplace=True)\n",
      "  (conv2): Conv2d(128, 128, kernel_size=(3, 3), stride=(1, 1), padding=(1, 1), bias=False)\n",
      "  (bn2): BatchNorm2d(128, eps=1e-05, momentum=0.1, affine=True, track_running_stats=True)\n",
      "  (downsample): Sequential(\n",
      "    (0): Conv2d(64, 128, kernel_size=(1, 1), stride=(2, 2))\n",
      "    (1): BatchNorm2d(128, eps=1e-05, momentum=0.1, affine=True, track_running_stats=True)\n",
      "  )\n",
      ") \n",
      "computation time: 0.001 s\n",
      "output shape: torch.Size([256, 128, 28, 28])\t transport_num:25690112    transport_size:102.760MB\n",
      "conv1.weight  :  parameters size torch.Size([128, 64, 3, 3]) \t parameters number 73728\n",
      "bn1.weight  :  parameters size torch.Size([128]) \t parameters number 128\n",
      "bn1.bias  :  parameters size torch.Size([128]) \t parameters number 128\n",
      "conv2.weight  :  parameters size torch.Size([128, 128, 3, 3]) \t parameters number 147456\n",
      "bn2.weight  :  parameters size torch.Size([128]) \t parameters number 128\n",
      "bn2.bias  :  parameters size torch.Size([128]) \t parameters number 128\n",
      "downsample.0.weight  :  parameters size torch.Size([128, 64, 1, 1]) \t parameters number 8192\n",
      "downsample.0.bias  :  parameters size torch.Size([128]) \t parameters number 128\n",
      "downsample.1.weight  :  parameters size torch.Size([128]) \t parameters number 128\n",
      "downsample.1.bias  :  parameters size torch.Size([128]) \t parameters number 128\n",
      "------------------------------------------------------------------\n",
      "6-BasicBlock(\n",
      "  (conv1): Conv2d(128, 128, kernel_size=(3, 3), stride=(1, 1), padding=(1, 1), bias=False)\n",
      "  (bn1): BatchNorm2d(128, eps=1e-05, momentum=0.1, affine=True, track_running_stats=True)\n",
      "  (relu): ReLU(inplace=True)\n",
      "  (conv2): Conv2d(128, 128, kernel_size=(3, 3), stride=(1, 1), padding=(1, 1), bias=False)\n",
      "  (bn2): BatchNorm2d(128, eps=1e-05, momentum=0.1, affine=True, track_running_stats=True)\n",
      ") \n",
      "computation time: 0.0 s\n",
      "output shape: torch.Size([256, 128, 28, 28])\t transport_num:25690112    transport_size:102.760MB\n",
      "conv1.weight  :  parameters size torch.Size([128, 128, 3, 3]) \t parameters number 147456\n",
      "bn1.weight  :  parameters size torch.Size([128]) \t parameters number 128\n",
      "bn1.bias  :  parameters size torch.Size([128]) \t parameters number 128\n",
      "conv2.weight  :  parameters size torch.Size([128, 128, 3, 3]) \t parameters number 147456\n",
      "bn2.weight  :  parameters size torch.Size([128]) \t parameters number 128\n",
      "bn2.bias  :  parameters size torch.Size([128]) \t parameters number 128\n",
      "------------------------------------------------------------------\n",
      "7-BasicBlock(\n",
      "  (conv1): Conv2d(128, 256, kernel_size=(3, 3), stride=(2, 2), padding=(1, 1), bias=False)\n",
      "  (bn1): BatchNorm2d(256, eps=1e-05, momentum=0.1, affine=True, track_running_stats=True)\n",
      "  (relu): ReLU(inplace=True)\n",
      "  (conv2): Conv2d(256, 256, kernel_size=(3, 3), stride=(1, 1), padding=(1, 1), bias=False)\n",
      "  (bn2): BatchNorm2d(256, eps=1e-05, momentum=0.1, affine=True, track_running_stats=True)\n",
      "  (downsample): Sequential(\n",
      "    (0): Conv2d(128, 256, kernel_size=(1, 1), stride=(2, 2))\n",
      "    (1): BatchNorm2d(256, eps=1e-05, momentum=0.1, affine=True, track_running_stats=True)\n",
      "  )\n",
      ") \n",
      "computation time: 0.002 s\n",
      "output shape: torch.Size([256, 256, 14, 14])\t transport_num:12845056    transport_size:51.380MB\n",
      "conv1.weight  :  parameters size torch.Size([256, 128, 3, 3]) \t parameters number 294912\n",
      "bn1.weight  :  parameters size torch.Size([256]) \t parameters number 256\n",
      "bn1.bias  :  parameters size torch.Size([256]) \t parameters number 256\n",
      "conv2.weight  :  parameters size torch.Size([256, 256, 3, 3]) \t parameters number 589824\n",
      "bn2.weight  :  parameters size torch.Size([256]) \t parameters number 256\n",
      "bn2.bias  :  parameters size torch.Size([256]) \t parameters number 256\n",
      "downsample.0.weight  :  parameters size torch.Size([256, 128, 1, 1]) \t parameters number 32768\n",
      "downsample.0.bias  :  parameters size torch.Size([256]) \t parameters number 256\n",
      "downsample.1.weight  :  parameters size torch.Size([256]) \t parameters number 256\n",
      "downsample.1.bias  :  parameters size torch.Size([256]) \t parameters number 256\n",
      "------------------------------------------------------------------\n",
      "8-BasicBlock(\n",
      "  (conv1): Conv2d(256, 256, kernel_size=(3, 3), stride=(1, 1), padding=(1, 1), bias=False)\n",
      "  (bn1): BatchNorm2d(256, eps=1e-05, momentum=0.1, affine=True, track_running_stats=True)\n",
      "  (relu): ReLU(inplace=True)\n",
      "  (conv2): Conv2d(256, 256, kernel_size=(3, 3), stride=(1, 1), padding=(1, 1), bias=False)\n",
      "  (bn2): BatchNorm2d(256, eps=1e-05, momentum=0.1, affine=True, track_running_stats=True)\n",
      ") \n",
      "computation time: 0.001 s\n",
      "output shape: torch.Size([256, 256, 14, 14])\t transport_num:12845056    transport_size:51.380MB\n",
      "conv1.weight  :  parameters size torch.Size([256, 256, 3, 3]) \t parameters number 589824\n",
      "bn1.weight  :  parameters size torch.Size([256]) \t parameters number 256\n",
      "bn1.bias  :  parameters size torch.Size([256]) \t parameters number 256\n",
      "conv2.weight  :  parameters size torch.Size([256, 256, 3, 3]) \t parameters number 589824\n",
      "bn2.weight  :  parameters size torch.Size([256]) \t parameters number 256\n",
      "bn2.bias  :  parameters size torch.Size([256]) \t parameters number 256\n",
      "------------------------------------------------------------------\n",
      "9-BasicBlock(\n",
      "  (conv1): Conv2d(256, 512, kernel_size=(3, 3), stride=(2, 2), padding=(1, 1), bias=False)\n",
      "  (bn1): BatchNorm2d(512, eps=1e-05, momentum=0.1, affine=True, track_running_stats=True)\n",
      "  (relu): ReLU(inplace=True)\n",
      "  (conv2): Conv2d(512, 512, kernel_size=(3, 3), stride=(1, 1), padding=(1, 1), bias=False)\n",
      "  (bn2): BatchNorm2d(512, eps=1e-05, momentum=0.1, affine=True, track_running_stats=True)\n",
      "  (downsample): Sequential(\n",
      "    (0): Conv2d(256, 512, kernel_size=(1, 1), stride=(2, 2))\n",
      "    (1): BatchNorm2d(512, eps=1e-05, momentum=0.1, affine=True, track_running_stats=True)\n",
      "  )\n",
      ") \n",
      "computation time: 0.001 s\n",
      "output shape: torch.Size([256, 512, 7, 7])\t transport_num:6422528    transport_size:25.690MB\n",
      "conv1.weight  :  parameters size torch.Size([512, 256, 3, 3]) \t parameters number 1179648\n",
      "bn1.weight  :  parameters size torch.Size([512]) \t parameters number 512\n",
      "bn1.bias  :  parameters size torch.Size([512]) \t parameters number 512\n",
      "conv2.weight  :  parameters size torch.Size([512, 512, 3, 3]) \t parameters number 2359296\n",
      "bn2.weight  :  parameters size torch.Size([512]) \t parameters number 512\n",
      "bn2.bias  :  parameters size torch.Size([512]) \t parameters number 512\n",
      "downsample.0.weight  :  parameters size torch.Size([512, 256, 1, 1]) \t parameters number 131072\n",
      "downsample.0.bias  :  parameters size torch.Size([512]) \t parameters number 512\n",
      "downsample.1.weight  :  parameters size torch.Size([512]) \t parameters number 512\n",
      "downsample.1.bias  :  parameters size torch.Size([512]) \t parameters number 512\n",
      "------------------------------------------------------------------\n",
      "10-BasicBlock(\n",
      "  (conv1): Conv2d(512, 512, kernel_size=(3, 3), stride=(1, 1), padding=(1, 1), bias=False)\n",
      "  (bn1): BatchNorm2d(512, eps=1e-05, momentum=0.1, affine=True, track_running_stats=True)\n",
      "  (relu): ReLU(inplace=True)\n",
      "  (conv2): Conv2d(512, 512, kernel_size=(3, 3), stride=(1, 1), padding=(1, 1), bias=False)\n",
      "  (bn2): BatchNorm2d(512, eps=1e-05, momentum=0.1, affine=True, track_running_stats=True)\n",
      ") \n",
      "computation time: 0.0 s\n",
      "output shape: torch.Size([256, 512, 7, 7])\t transport_num:6422528    transport_size:25.690MB\n",
      "conv1.weight  :  parameters size torch.Size([512, 512, 3, 3]) \t parameters number 2359296\n",
      "bn1.weight  :  parameters size torch.Size([512]) \t parameters number 512\n",
      "bn1.bias  :  parameters size torch.Size([512]) \t parameters number 512\n",
      "conv2.weight  :  parameters size torch.Size([512, 512, 3, 3]) \t parameters number 2359296\n",
      "bn2.weight  :  parameters size torch.Size([512]) \t parameters number 512\n",
      "bn2.bias  :  parameters size torch.Size([512]) \t parameters number 512\n",
      "------------------------------------------------------------------\n",
      "11-AdaptiveAvgPool2d(output_size=(1, 1)) \n",
      "computation time: 0.0 s\n",
      "output shape: torch.Size([256, 512, 1, 1])\t transport_num:131072    transport_size:0.524MB\n",
      "------------------------------------------------------------------\n",
      "12-Flatten(start_dim=1, end_dim=-1) \n",
      "computation time: 0.0 s\n",
      "output shape: torch.Size([256, 512])\t transport_num:131072    transport_size:0.524MB\n",
      "------------------------------------------------------------------\n",
      "13-Linear(in_features=512, out_features=1000, bias=True) \n",
      "computation time: 0.482 s\n",
      "output shape: torch.Size([256, 1000])\t transport_num:256000    transport_size:1.024MB\n",
      "weight  :  parameters size torch.Size([1000, 512]) \t parameters number 512000\n",
      "bias  :  parameters size torch.Size([1000]) \t parameters number 1000\n"
     ]
    }
   ],
   "source": [
    "temp_x = x\n",
    "with torch.no_grad():\n",
    "    temp_x = function.show_features(resnet18,temp_x)"
   ],
   "metadata": {
    "collapsed": false,
    "pycharm": {
     "name": "#%%\n"
    }
   }
  },
  {
   "cell_type": "code",
   "execution_count": 5,
   "outputs": [
    {
     "name": "stdout",
     "output_type": "stream",
     "text": [
      "1-Conv2d(3, 64, kernel_size=(7, 7), stride=(2, 2), padding=(3, 3), bias=False)\n",
      "2-MaxPool2d(kernel_size=3, stride=2, padding=1, dilation=1, ceil_mode=False)\n",
      "3-BasicBlock(\n",
      "  (conv1): Conv2d(64, 64, kernel_size=(3, 3), stride=(1, 1), padding=(1, 1), bias=False)\n",
      "  (bn1): BatchNorm2d(64, eps=1e-05, momentum=0.1, affine=True, track_running_stats=True)\n",
      "  (relu): ReLU(inplace=True)\n",
      "  (conv2): Conv2d(64, 64, kernel_size=(3, 3), stride=(1, 1), padding=(1, 1), bias=False)\n",
      "  (bn2): BatchNorm2d(64, eps=1e-05, momentum=0.1, affine=True, track_running_stats=True)\n",
      ")\n",
      "4-BasicBlock(\n",
      "  (conv1): Conv2d(64, 64, kernel_size=(3, 3), stride=(1, 1), padding=(1, 1), bias=False)\n",
      "  (bn1): BatchNorm2d(64, eps=1e-05, momentum=0.1, affine=True, track_running_stats=True)\n",
      "  (relu): ReLU(inplace=True)\n",
      "  (conv2): Conv2d(64, 64, kernel_size=(3, 3), stride=(1, 1), padding=(1, 1), bias=False)\n",
      "  (bn2): BatchNorm2d(64, eps=1e-05, momentum=0.1, affine=True, track_running_stats=True)\n",
      ")\n",
      "5-BasicBlock(\n",
      "  (conv1): Conv2d(64, 128, kernel_size=(3, 3), stride=(2, 2), padding=(1, 1), bias=False)\n",
      "  (bn1): BatchNorm2d(128, eps=1e-05, momentum=0.1, affine=True, track_running_stats=True)\n",
      "  (relu): ReLU(inplace=True)\n",
      "  (conv2): Conv2d(128, 128, kernel_size=(3, 3), stride=(1, 1), padding=(1, 1), bias=False)\n",
      "  (bn2): BatchNorm2d(128, eps=1e-05, momentum=0.1, affine=True, track_running_stats=True)\n",
      "  (downsample): Sequential(\n",
      "    (0): Conv2d(64, 128, kernel_size=(1, 1), stride=(2, 2))\n",
      "    (1): BatchNorm2d(128, eps=1e-05, momentum=0.1, affine=True, track_running_stats=True)\n",
      "  )\n",
      ")\n",
      "6-BasicBlock(\n",
      "  (conv1): Conv2d(128, 128, kernel_size=(3, 3), stride=(1, 1), padding=(1, 1), bias=False)\n",
      "  (bn1): BatchNorm2d(128, eps=1e-05, momentum=0.1, affine=True, track_running_stats=True)\n",
      "  (relu): ReLU(inplace=True)\n",
      "  (conv2): Conv2d(128, 128, kernel_size=(3, 3), stride=(1, 1), padding=(1, 1), bias=False)\n",
      "  (bn2): BatchNorm2d(128, eps=1e-05, momentum=0.1, affine=True, track_running_stats=True)\n",
      ")\n",
      "7-BasicBlock(\n",
      "  (conv1): Conv2d(128, 256, kernel_size=(3, 3), stride=(2, 2), padding=(1, 1), bias=False)\n",
      "  (bn1): BatchNorm2d(256, eps=1e-05, momentum=0.1, affine=True, track_running_stats=True)\n",
      "  (relu): ReLU(inplace=True)\n",
      "  (conv2): Conv2d(256, 256, kernel_size=(3, 3), stride=(1, 1), padding=(1, 1), bias=False)\n",
      "  (bn2): BatchNorm2d(256, eps=1e-05, momentum=0.1, affine=True, track_running_stats=True)\n",
      "  (downsample): Sequential(\n",
      "    (0): Conv2d(128, 256, kernel_size=(1, 1), stride=(2, 2))\n",
      "    (1): BatchNorm2d(256, eps=1e-05, momentum=0.1, affine=True, track_running_stats=True)\n",
      "  )\n",
      ")\n",
      "8-BasicBlock(\n",
      "  (conv1): Conv2d(256, 256, kernel_size=(3, 3), stride=(1, 1), padding=(1, 1), bias=False)\n",
      "  (bn1): BatchNorm2d(256, eps=1e-05, momentum=0.1, affine=True, track_running_stats=True)\n",
      "  (relu): ReLU(inplace=True)\n",
      "  (conv2): Conv2d(256, 256, kernel_size=(3, 3), stride=(1, 1), padding=(1, 1), bias=False)\n",
      "  (bn2): BatchNorm2d(256, eps=1e-05, momentum=0.1, affine=True, track_running_stats=True)\n",
      ")\n",
      "9-BasicBlock(\n",
      "  (conv1): Conv2d(256, 512, kernel_size=(3, 3), stride=(2, 2), padding=(1, 1), bias=False)\n",
      "  (bn1): BatchNorm2d(512, eps=1e-05, momentum=0.1, affine=True, track_running_stats=True)\n",
      "  (relu): ReLU(inplace=True)\n",
      "  (conv2): Conv2d(512, 512, kernel_size=(3, 3), stride=(1, 1), padding=(1, 1), bias=False)\n",
      "  (bn2): BatchNorm2d(512, eps=1e-05, momentum=0.1, affine=True, track_running_stats=True)\n",
      "  (downsample): Sequential(\n",
      "    (0): Conv2d(256, 512, kernel_size=(1, 1), stride=(2, 2))\n",
      "    (1): BatchNorm2d(512, eps=1e-05, momentum=0.1, affine=True, track_running_stats=True)\n",
      "  )\n",
      ")\n",
      "10-BasicBlock(\n",
      "  (conv1): Conv2d(512, 512, kernel_size=(3, 3), stride=(1, 1), padding=(1, 1), bias=False)\n",
      "  (bn1): BatchNorm2d(512, eps=1e-05, momentum=0.1, affine=True, track_running_stats=True)\n",
      "  (relu): ReLU(inplace=True)\n",
      "  (conv2): Conv2d(512, 512, kernel_size=(3, 3), stride=(1, 1), padding=(1, 1), bias=False)\n",
      "  (bn2): BatchNorm2d(512, eps=1e-05, momentum=0.1, affine=True, track_running_stats=True)\n",
      ")\n",
      "11-AdaptiveAvgPool2d(output_size=(1, 1))\n",
      "12-Flatten(start_dim=1, end_dim=-1)\n",
      "13-Linear(in_features=512, out_features=1000, bias=True)\n"
     ]
    }
   ],
   "source": [
    "function.show_1model(resnet18)"
   ],
   "metadata": {
    "collapsed": false,
    "pycharm": {
     "name": "#%%\n"
    }
   }
  },
  {
   "cell_type": "code",
   "execution_count": null,
   "outputs": [],
   "source": [],
   "metadata": {
    "collapsed": false,
    "pycharm": {
     "name": "#%%\n"
    }
   }
  }
 ],
 "metadata": {
  "kernelspec": {
   "display_name": "Python 3",
   "language": "python",
   "name": "python3"
  },
  "language_info": {
   "codemirror_mode": {
    "name": "ipython",
    "version": 2
   },
   "file_extension": ".py",
   "mimetype": "text/x-python",
   "name": "python",
   "nbconvert_exporter": "python",
   "pygments_lexer": "ipython2",
   "version": "2.7.6"
  }
 },
 "nbformat": 4,
 "nbformat_minor": 0
}