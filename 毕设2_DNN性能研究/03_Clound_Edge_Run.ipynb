{
 "cells": [
  {
   "cell_type": "code",
   "execution_count": 1,
   "metadata": {
    "collapsed": true
   },
   "outputs": [
    {
     "name": "stdout",
     "output_type": "stream",
     "text": [
      "alexnet model : 22\n",
      "------------- edge model -----------------\n",
      "Sequential()\n",
      "------------- cloud model -----------------\n",
      "Sequential(\n",
      "  (1-Conv2d): Conv2d(3, 64, kernel_size=(11, 11), stride=(4, 4), padding=(2, 2))\n",
      "  (2-ReLU): ReLU(inplace=True)\n",
      "  (3-MaxPool2d): MaxPool2d(kernel_size=3, stride=2, padding=0, dilation=1, ceil_mode=False)\n",
      "  (4-Conv2d): Conv2d(64, 192, kernel_size=(5, 5), stride=(1, 1), padding=(2, 2))\n",
      "  (5-ReLU): ReLU(inplace=True)\n",
      "  (6-MaxPool2d): MaxPool2d(kernel_size=3, stride=2, padding=0, dilation=1, ceil_mode=False)\n",
      "  (7-Conv2d): Conv2d(192, 384, kernel_size=(3, 3), stride=(1, 1), padding=(1, 1))\n",
      "  (8-ReLU): ReLU(inplace=True)\n",
      "  (9-Conv2d): Conv2d(384, 256, kernel_size=(3, 3), stride=(1, 1), padding=(1, 1))\n",
      "  (10-ReLU): ReLU(inplace=True)\n",
      "  (11-Conv2d): Conv2d(256, 256, kernel_size=(3, 3), stride=(1, 1), padding=(1, 1))\n",
      "  (12-ReLU): ReLU(inplace=True)\n",
      "  (13-MaxPool2d): MaxPool2d(kernel_size=3, stride=2, padding=0, dilation=1, ceil_mode=False)\n",
      "  (14-AdaptiveAvgPool2d): AdaptiveAvgPool2d(output_size=(6, 6))\n",
      "  (15-Flatten): Flatten(start_dim=1, end_dim=-1)\n",
      "  (16-Dropout): Dropout(p=0.5, inplace=False)\n",
      "  (17-Linear): Linear(in_features=9216, out_features=4096, bias=True)\n",
      "  (18-ReLU): ReLU(inplace=True)\n",
      "  (19-Dropout): Dropout(p=0.5, inplace=False)\n",
      "  (20-Linear): Linear(in_features=4096, out_features=4096, bias=True)\n",
      "  (21-ReLU): ReLU(inplace=True)\n",
      "  (22-Linear): Linear(in_features=4096, out_features=1000, bias=True)\n",
      ")\n"
     ]
    }
   ],
   "source": [
    "import torch\n",
    "import torch.nn as nn\n",
    "from a0_alexNet import AlexNet,model_partition\n",
    "device = \"cuda\" if torch.cuda.is_available() else \"cpu\"\n",
    "\n",
    "alexnet = AlexNet(input_layer=3,num_classes=1000)\n",
    "alexnet = alexnet.to(device)\n",
    "\n",
    "\n",
    "set_index = 0\n",
    "edge_model,cloud_model = model_partition(alexnet,set_index)\n",
    "print(f\"alexnet model : {len(alexnet)}\")\n",
    "print(f\"------------- edge model -----------------\")\n",
    "print(edge_model)\n",
    "print(f\"------------- cloud model -----------------\")\n",
    "print(cloud_model)"
   ]
  },
  {
   "cell_type": "code",
   "execution_count": 4,
   "outputs": [
    {
     "name": "stdout",
     "output_type": "stream",
     "text": [
      "x device : cpu\n"
     ]
    }
   ],
   "source": [
    "\"\"\"edge_cloud运行在边缘设备上 计算结果\"\"\"\n",
    "import time\n",
    "x = torch.rand(size=(10000,3,224,224))\n",
    "x = x.to(device)\n",
    "print(f\"x device : {x.device}\")\n",
    "\n",
    "if len(edge_model) > 0:\n",
    "    print(f\"model device : {next(edge_model.parameters()).device}\")\n",
    "    for layer in edge_model:\n",
    "        start_time = int(round(time.time() * 1000))\n",
    "        x = layer(x)\n",
    "        end_time = int(round(time.time() * 1000))\n",
    "        # print(x.device)\n",
    "        print(layer.__class__.__name__,'output shape:\\t',x.shape,\n",
    "              f'\\t computation time: {(end_time - start_time)/1000 :>3f} s')"
   ],
   "metadata": {
    "collapsed": false,
    "pycharm": {
     "name": "#%%\n"
    }
   }
  },
  {
   "cell_type": "code",
   "execution_count": 6,
   "outputs": [
    {
     "name": "stdout",
     "output_type": "stream",
     "text": [
      "model device : cpu\n",
      "x device : cpu\n",
      "ReLU output shape:\t torch.Size([10000, 192, 27, 27]) \t computation time: 0.694000 s\n",
      "MaxPool2d output shape:\t torch.Size([10000, 192, 13, 13]) \t computation time: 2.449000 s\n",
      "Conv2d output shape:\t torch.Size([10000, 384, 13, 13]) \t computation time: 7.234000 s\n",
      "ReLU output shape:\t torch.Size([10000, 384, 13, 13]) \t computation time: 0.317000 s\n",
      "Conv2d output shape:\t torch.Size([10000, 256, 13, 13]) \t computation time: 7.296000 s\n",
      "ReLU output shape:\t torch.Size([10000, 256, 13, 13]) \t computation time: 0.145000 s\n",
      "Conv2d output shape:\t torch.Size([10000, 256, 13, 13]) \t computation time: 6.849000 s\n",
      "ReLU output shape:\t torch.Size([10000, 256, 13, 13]) \t computation time: 0.210000 s\n",
      "MaxPool2d output shape:\t torch.Size([10000, 256, 6, 6]) \t computation time: 0.820000 s\n",
      "AdaptiveAvgPool2d output shape:\t torch.Size([10000, 256, 6, 6]) \t computation time: 0.287000 s\n",
      "Flatten output shape:\t torch.Size([10000, 9216]) \t computation time: 0.011000 s\n",
      "Dropout output shape:\t torch.Size([10000, 9216]) \t computation time: 0.719000 s\n",
      "Linear output shape:\t torch.Size([10000, 4096]) \t computation time: 2.430000 s\n",
      "ReLU output shape:\t torch.Size([10000, 4096]) \t computation time: 0.007000 s\n",
      "Dropout output shape:\t torch.Size([10000, 4096]) \t computation time: 0.230000 s\n",
      "Linear output shape:\t torch.Size([10000, 4096]) \t computation time: 1.040000 s\n",
      "ReLU output shape:\t torch.Size([10000, 4096]) \t computation time: 0.009000 s\n",
      "Linear output shape:\t torch.Size([10000, 1000]) \t computation time: 0.330000 s\n"
     ]
    }
   ],
   "source": [
    "print(f\"x device : {x.device}\")\n",
    "\n",
    "if len(cloud_model) > 0:\n",
    "    print(f\"model device : {next(cloud_model.parameters()).device}\")\n",
    "    for layer in cloud_model:\n",
    "        start_time = int(round(time.time() * 1000))\n",
    "        x = layer(x)\n",
    "        end_time = int(round(time.time() * 1000))\n",
    "        # print(x.device)\n",
    "        print(layer.__class__.__name__,'output shape:\\t',x.shape,\n",
    "              f'\\t computation time: {(end_time - start_time)/1000 :>3f} s')"
   ],
   "metadata": {
    "collapsed": false,
    "pycharm": {
     "name": "#%%\n"
    }
   }
  },
  {
   "cell_type": "code",
   "execution_count": null,
   "outputs": [],
   "source": [],
   "metadata": {
    "collapsed": false,
    "pycharm": {
     "name": "#%%\n"
    }
   }
  }
 ],
 "metadata": {
  "kernelspec": {
   "display_name": "Python 3",
   "language": "python",
   "name": "python3"
  },
  "language_info": {
   "codemirror_mode": {
    "name": "ipython",
    "version": 2
   },
   "file_extension": ".py",
   "mimetype": "text/x-python",
   "name": "python",
   "nbconvert_exporter": "python",
   "pygments_lexer": "ipython2",
   "version": "2.7.6"
  }
 },
 "nbformat": 4,
 "nbformat_minor": 0
}