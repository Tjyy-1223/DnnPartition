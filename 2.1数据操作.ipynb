{
 "cells": [
  {
   "cell_type": "markdown",
   "id": "28ff20e2",
   "metadata": {},
   "source": [
    "2.2.1 创建tensor"
   ]
  },
  {
   "cell_type": "code",
   "execution_count": 3,
   "id": "ab4171b2",
   "metadata": {},
   "outputs": [],
   "source": [
    "import torch"
   ]
  },
  {
   "cell_type": "code",
   "execution_count": 4,
   "id": "6e0501e4",
   "metadata": {},
   "outputs": [
    {
     "name": "stdout",
     "output_type": "stream",
     "text": [
      "tensor([[3.5733e-43, 0.0000e+00, 0.0000e+00],\n",
      "        [0.0000e+00, 0.0000e+00, 0.0000e+00],\n",
      "        [0.0000e+00, 0.0000e+00, 0.0000e+00],\n",
      "        [0.0000e+00, 0.0000e+00, 0.0000e+00],\n",
      "        [0.0000e+00, 0.0000e+00, 0.0000e+00]])\n"
     ]
    }
   ],
   "source": [
    "x = torch.empty(5,3)\n",
    "print(x)"
   ]
  },
  {
   "cell_type": "code",
   "execution_count": 5,
   "id": "7db2a784",
   "metadata": {},
   "outputs": [
    {
     "name": "stdout",
     "output_type": "stream",
     "text": [
      "tensor([[0.6845, 0.4083, 0.1211],\n",
      "        [0.8210, 0.1422, 0.8452],\n",
      "        [0.4391, 0.3809, 0.6473],\n",
      "        [0.8358, 0.1642, 0.9812],\n",
      "        [0.6835, 0.7942, 0.3302]])\n"
     ]
    }
   ],
   "source": [
    "x = torch.rand(5,3)\n",
    "print(x)"
   ]
  },
  {
   "cell_type": "code",
   "execution_count": 6,
   "id": "bc5c0433",
   "metadata": {},
   "outputs": [
    {
     "name": "stdout",
     "output_type": "stream",
     "text": [
      "tensor([[0, 0, 0],\n",
      "        [0, 0, 0],\n",
      "        [0, 0, 0],\n",
      "        [0, 0, 0],\n",
      "        [0, 0, 0]])\n"
     ]
    }
   ],
   "source": [
    "x = torch.zeros(5,3,dtype = torch.long)\n",
    "print(x)"
   ]
  },
  {
   "cell_type": "code",
   "execution_count": 7,
   "id": "26536744",
   "metadata": {},
   "outputs": [
    {
     "name": "stdout",
     "output_type": "stream",
     "text": [
      "tensor([5.5000, 3.0000])\n"
     ]
    }
   ],
   "source": [
    "x = torch.tensor([5.5,3])\n",
    "print(x)"
   ]
  },
  {
   "cell_type": "code",
   "execution_count": 8,
   "id": "fa277069",
   "metadata": {},
   "outputs": [
    {
     "name": "stdout",
     "output_type": "stream",
     "text": [
      "tensor([[1., 1., 1.],\n",
      "        [1., 1., 1.],\n",
      "        [1., 1., 1.],\n",
      "        [1., 1., 1.],\n",
      "        [1., 1., 1.]], dtype=torch.float64)\n",
      "tensor([[ 4.2871e-01,  1.6112e+00, -1.2247e+00],\n",
      "        [-3.0609e-02,  2.0157e-01,  5.5989e-01],\n",
      "        [-1.5553e+00,  4.0843e-01, -1.4179e-03],\n",
      "        [ 7.0449e-01, -1.5015e+00, -2.7225e-01],\n",
      "        [ 1.8102e-01,  1.4003e+00,  1.3651e+00]])\n"
     ]
    }
   ],
   "source": [
    "x = x.new_ones(5,3,dtype = torch.float64)\n",
    "print(x)\n",
    "\n",
    "x = torch.randn_like(x,dtype = torch.float)\n",
    "print(x)"
   ]
  },
  {
   "cell_type": "code",
   "execution_count": 9,
   "id": "ab241236",
   "metadata": {},
   "outputs": [
    {
     "name": "stdout",
     "output_type": "stream",
     "text": [
      "torch.Size([5, 3])\n"
     ]
    }
   ],
   "source": [
    "print(x.size())"
   ]
  },
  {
   "cell_type": "code",
   "execution_count": 10,
   "id": "e37d6f35",
   "metadata": {},
   "outputs": [
    {
     "name": "stdout",
     "output_type": "stream",
     "text": [
      "torch.Size([5, 3])\n"
     ]
    }
   ],
   "source": [
    "print(x.shape)"
   ]
  },
  {
   "cell_type": "markdown",
   "id": "4932d94d",
   "metadata": {},
   "source": [
    "2.2.2 基本操作"
   ]
  },
  {
   "cell_type": "code",
   "execution_count": 11,
   "id": "2eac1e71",
   "metadata": {},
   "outputs": [
    {
     "name": "stdout",
     "output_type": "stream",
     "text": [
      "tensor([[ 0.7249,  1.9215, -0.5884],\n",
      "        [ 0.7972,  1.1584,  0.8663],\n",
      "        [-0.8344,  0.6013,  0.2691],\n",
      "        [ 1.1180, -0.7253,  0.6974],\n",
      "        [ 0.9379,  2.3084,  2.1577]])\n"
     ]
    }
   ],
   "source": [
    "y = torch.rand(5,3)\n",
    "print(x + y)"
   ]
  },
  {
   "cell_type": "code",
   "execution_count": 12,
   "id": "182bf0d2",
   "metadata": {},
   "outputs": [
    {
     "name": "stdout",
     "output_type": "stream",
     "text": [
      "tensor([[ 0.7249,  1.9215, -0.5884],\n",
      "        [ 0.7972,  1.1584,  0.8663],\n",
      "        [-0.8344,  0.6013,  0.2691],\n",
      "        [ 1.1180, -0.7253,  0.6974],\n",
      "        [ 0.9379,  2.3084,  2.1577]])\n"
     ]
    }
   ],
   "source": [
    "result = torch.empty(5,3)\n",
    "torch.add(x,y,out = result)\n",
    "print(result)"
   ]
  },
  {
   "cell_type": "markdown",
   "id": "e1ec2ccd",
   "metadata": {},
   "source": [
    "索引 - 索引的结果与原数据共享内存，修改一个，另一个会跟着修改"
   ]
  },
  {
   "cell_type": "code",
   "execution_count": 13,
   "id": "b0b17947",
   "metadata": {},
   "outputs": [
    {
     "name": "stdout",
     "output_type": "stream",
     "text": [
      "tensor([ 1.4287,  2.6112, -0.2247])\n",
      "tensor([ 1.4287,  2.6112, -0.2247])\n"
     ]
    }
   ],
   "source": [
    "y = x[0,:]\n",
    "y += 1\n",
    "print(y)\n",
    "\n",
    "print(x[0,:])"
   ]
  },
  {
   "cell_type": "markdown",
   "id": "3abec661",
   "metadata": {},
   "source": [
    "改变形状 - 用view来改变tensor的形状"
   ]
  },
  {
   "cell_type": "code",
   "execution_count": 14,
   "id": "080b4ded",
   "metadata": {},
   "outputs": [
    {
     "name": "stdout",
     "output_type": "stream",
     "text": [
      "torch.Size([5, 3]) torch.Size([15]) torch.Size([3, 5])\n"
     ]
    }
   ],
   "source": [
    "y = x.view(15)\n",
    "z = x.view(-1,5)\n",
    "print(x.shape,y.shape,z.shape)"
   ]
  },
  {
   "cell_type": "markdown",
   "id": "a03ae5b1",
   "metadata": {},
   "source": [
    "view返回的tensor 也是与原来的元组共享tensor的。改变其中的一个，另外一个也会跟着改变。"
   ]
  },
  {
   "cell_type": "code",
   "execution_count": 15,
   "id": "c5f6efb4",
   "metadata": {},
   "outputs": [
    {
     "name": "stdout",
     "output_type": "stream",
     "text": [
      "tensor([[ 2.4287,  3.6112,  0.7753],\n",
      "        [ 0.9694,  1.2016,  1.5599],\n",
      "        [-0.5553,  1.4084,  0.9986],\n",
      "        [ 1.7045, -0.5015,  0.7278],\n",
      "        [ 1.1810,  2.4003,  2.3651]])\n",
      "tensor([ 2.4287,  3.6112,  0.7753,  0.9694,  1.2016,  1.5599, -0.5553,  1.4084,\n",
      "         0.9986,  1.7045, -0.5015,  0.7278,  1.1810,  2.4003,  2.3651])\n"
     ]
    }
   ],
   "source": [
    "x += 1\n",
    "print(x)\n",
    "print(y)"
   ]
  },
  {
   "cell_type": "markdown",
   "id": "01f50431",
   "metadata": {},
   "source": [
    "如果想返回一个真正的副本，不共享data内存。推荐首先使用clone创建一个副本，然后再使用view。"
   ]
  },
  {
   "cell_type": "code",
   "execution_count": 16,
   "id": "5422a705",
   "metadata": {},
   "outputs": [
    {
     "name": "stdout",
     "output_type": "stream",
     "text": [
      "tensor([[ 1.4287e+00,  2.6112e+00, -2.2466e-01],\n",
      "        [-3.0609e-02,  2.0157e-01,  5.5989e-01],\n",
      "        [-1.5553e+00,  4.0843e-01, -1.4179e-03],\n",
      "        [ 7.0449e-01, -1.5015e+00, -2.7225e-01],\n",
      "        [ 1.8102e-01,  1.4003e+00,  1.3651e+00]])\n",
      "tensor([ 2.4287,  3.6112,  0.7753,  0.9694,  1.2016,  1.5599, -0.5553,  1.4084,\n",
      "         0.9986,  1.7045, -0.5015,  0.7278,  1.1810,  2.4003,  2.3651])\n"
     ]
    }
   ],
   "source": [
    "x_cp = x.clone().view(15)\n",
    "x -= 1\n",
    "\n",
    "print(x)\n",
    "print(x_cp)"
   ]
  },
  {
   "cell_type": "markdown",
   "id": "b2d5a6b8",
   "metadata": {},
   "source": [
    "使用colne的好处，梯度传回副本时也会传到tensor"
   ]
  },
  {
   "cell_type": "markdown",
   "id": "f376474b",
   "metadata": {},
   "source": [
    "使用item可以将一个标量tensr转换成一个python number"
   ]
  },
  {
   "cell_type": "code",
   "execution_count": 17,
   "id": "a3d8344a",
   "metadata": {},
   "outputs": [
    {
     "name": "stdout",
     "output_type": "stream",
     "text": [
      "tensor([-0.1871])\n",
      "-0.187078058719635\n"
     ]
    }
   ],
   "source": [
    "x = torch.randn(1)\n",
    "\n",
    "print(x)\n",
    "print(x.item())"
   ]
  },
  {
   "cell_type": "markdown",
   "id": "76b58e07",
   "metadata": {},
   "source": [
    "2.2.3 广播机制 - 适当复制元素到shape相同时进行计算"
   ]
  },
  {
   "cell_type": "code",
   "execution_count": 18,
   "id": "578f3e1a",
   "metadata": {},
   "outputs": [
    {
     "name": "stdout",
     "output_type": "stream",
     "text": [
      "tensor([[1, 2]])\n",
      "tensor([[1],\n",
      "        [2],\n",
      "        [3]])\n",
      "tensor([[2, 3],\n",
      "        [3, 4],\n",
      "        [4, 5]])\n"
     ]
    }
   ],
   "source": [
    "x = torch.arange(1,3).view(1,2)\n",
    "print(x)\n",
    "\n",
    "y = torch.arange(1,4).view(3,1)\n",
    "print(y)\n",
    "\n",
    "print(x + y)"
   ]
  },
  {
   "cell_type": "markdown",
   "id": "12128671",
   "metadata": {},
   "source": [
    "2.2.4 运算的内存开销\n",
    "\n",
    "索引操作不会开辟内存，而像y = x+y等操作是会开辟新内存的，然后将y指向新内存。使用id函数，来验证内存地址是否相同"
   ]
  },
  {
   "cell_type": "code",
   "execution_count": 19,
   "id": "adafb383",
   "metadata": {},
   "outputs": [
    {
     "name": "stdout",
     "output_type": "stream",
     "text": [
      "False\n"
     ]
    }
   ],
   "source": [
    "x = torch.tensor([1,2])\n",
    "y = torch.tensor([3,4])\n",
    "\n",
    "id_before = id(y)\n",
    "y = y + x\n",
    "\n",
    "print(id(y) == id_before) #false"
   ]
  },
  {
   "cell_type": "markdown",
   "id": "41624119",
   "metadata": {},
   "source": [
    "如果想写回到原来的y的内存，可以使用索引进行替换 "
   ]
  },
  {
   "cell_type": "code",
   "execution_count": 20,
   "id": "1c2d1d3b",
   "metadata": {},
   "outputs": [
    {
     "name": "stdout",
     "output_type": "stream",
     "text": [
      "True\n"
     ]
    }
   ],
   "source": [
    "x = torch.tensor([1,2])\n",
    "y = torch.tensor([3,4])\n",
    "\n",
    "id_before = id(y)\n",
    "y[:] = y + x\n",
    "\n",
    "print(id(y) == id_before) "
   ]
  },
  {
   "cell_type": "markdown",
   "id": "d0a9f233",
   "metadata": {},
   "source": [
    "注意：\n",
    "虽然view返回的tensor和原tensor共享data，但是二者的id（内存地址）并不一致，应该是用了某些映射机制。"
   ]
  },
  {
   "cell_type": "markdown",
   "id": "9a056013",
   "metadata": {},
   "source": [
    "2.2.5 tensor和numpy之间的相互转换"
   ]
  },
  {
   "cell_type": "markdown",
   "id": "5c6d0fa5",
   "metadata": {},
   "source": [
    "很容易使用numpy和from_numpy将tensor和numpy数组相互转换。但是需要注意：两个函数差生的tensor和numpy数组也会共享内存，其中一个改变时另一个也会改变。\n",
    "\n",
    "使用torch.tensor()进行数据拷贝，并且不再共享内存。"
   ]
  },
  {
   "cell_type": "code",
   "execution_count": 21,
   "id": "b0d31734",
   "metadata": {},
   "outputs": [
    {
     "name": "stdout",
     "output_type": "stream",
     "text": [
      "tensor([1., 1., 1., 1., 1.]) [1. 1. 1. 1. 1.]\n"
     ]
    }
   ],
   "source": [
    "a = torch.ones(5)\n",
    "b = a.numpy()\n",
    "print(a,b)"
   ]
  },
  {
   "cell_type": "code",
   "execution_count": 22,
   "id": "6ef437c8",
   "metadata": {},
   "outputs": [
    {
     "name": "stdout",
     "output_type": "stream",
     "text": [
      "tensor([2., 2., 2., 2., 2.]) [2. 2. 2. 2. 2.]\n"
     ]
    }
   ],
   "source": [
    "a += 1\n",
    "print(a,b)"
   ]
  },
  {
   "cell_type": "code",
   "execution_count": 23,
   "id": "cf8052ff",
   "metadata": {},
   "outputs": [
    {
     "name": "stdout",
     "output_type": "stream",
     "text": [
      "tensor([3., 3., 3., 3., 3.]) [3. 3. 3. 3. 3.]\n"
     ]
    }
   ],
   "source": [
    "b += 1\n",
    "print(a,b)"
   ]
  },
  {
   "cell_type": "code",
   "execution_count": 24,
   "id": "ee98c6ca",
   "metadata": {},
   "outputs": [
    {
     "name": "stdout",
     "output_type": "stream",
     "text": [
      "tensor([4., 4., 4., 4., 4.]) tensor([3., 3., 3., 3., 3.])\n"
     ]
    }
   ],
   "source": [
    "c = torch.tensor(b)\n",
    "a += 1\n",
    "print(a,c)"
   ]
  },
  {
   "cell_type": "markdown",
   "id": "32854352",
   "metadata": {},
   "source": [
    "2.2.6 Tensor on GPU"
   ]
  },
  {
   "cell_type": "markdown",
   "id": "4d165c1b",
   "metadata": {},
   "source": [
    "用to方法可以将tensor在cpu和gpu之间相互移动。"
   ]
  },
  {
   "cell_type": "code",
   "execution_count": 25,
   "id": "f7b39773",
   "metadata": {},
   "outputs": [],
   "source": [
    "if torch.cuda.is_available():\n",
    "    device = torch.device(\"cuda\")\n",
    "    y = torch.ones_like(x,device = device)\n",
    "    x = x.to(device)\n",
    "    z = x + y\n",
    "    print(z)\n",
    "    print(z.to(\"cpu\",torch.double))"
   ]
  },
  {
   "cell_type": "code",
   "execution_count": 25,
   "id": "8be11cb2",
   "metadata": {},
   "outputs": [],
   "source": []
  },
  {
   "cell_type": "code",
   "execution_count": 25,
   "id": "fe198970",
   "metadata": {},
   "outputs": [],
   "source": []
  }
 ],
 "metadata": {
  "kernelspec": {
   "display_name": "Python 3 (ipykernel)",
   "language": "python",
   "name": "python3"
  },
  "language_info": {
   "codemirror_mode": {
    "name": "ipython",
    "version": 3
   },
   "file_extension": ".py",
   "mimetype": "text/x-python",
   "name": "python",
   "nbconvert_exporter": "python",
   "pygments_lexer": "ipython3",
   "version": "3.7.0"
  }
 },
 "nbformat": 4,
 "nbformat_minor": 5
}