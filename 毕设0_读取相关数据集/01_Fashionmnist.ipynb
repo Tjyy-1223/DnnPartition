{
 "cells": [
  {
   "cell_type": "code",
   "execution_count": 17,
   "metadata": {
    "collapsed": true
   },
   "outputs": [],
   "source": [
    "import torch\n",
    "from torchvision import datasets\n",
    "from torchvision.transforms import ToTensor\n",
    "from torch.utils.data import DataLoader\n",
    "\n",
    "\n",
    "training_data = datasets.FashionMNIST(\n",
    "    root = \"../data\",\n",
    "    train=True,\n",
    "    download=True,\n",
    "    transform=ToTensor()\n",
    ")\n",
    "\n",
    "test_data = datasets.FashionMNIST(\n",
    "    root = \"../data\",\n",
    "    train=False,\n",
    "    download=True,\n",
    "    transform=ToTensor()\n",
    ")\n",
    "\n",
    "train_dataloader = DataLoader(training_data,batch_size=64,shuffle=True)\n",
    "test_dataloader = DataLoader(test_data,batch_size=64,shuffle=True)"
   ]
  },
  {
   "cell_type": "code",
   "execution_count": 18,
   "outputs": [
    {
     "name": "stdout",
     "output_type": "stream",
     "text": [
      "feature batch shape torch.Size([64, 1, 28, 28])\n",
      "labels batch shape torch.Size([64])\n"
     ]
    }
   ],
   "source": [
    "\"\"\"\n",
    "    默认读取:\n",
    "    feature batch shape torch.Size([64, 1, 28, 28])\n",
    "    labels batch shape torch.Size([64])\n",
    "\"\"\"\n",
    "\n",
    "train_features,train_labels = next(iter(train_dataloader))\n",
    "print(f\"feature batch shape {train_features.size()}\")\n",
    "print(f\"labels batch shape {train_labels.size()}\")"
   ],
   "metadata": {
    "collapsed": false,
    "pycharm": {
     "name": "#%%\n"
    }
   }
  },
  {
   "cell_type": "code",
   "execution_count": 19,
   "outputs": [
    {
     "name": "stdout",
     "output_type": "stream",
     "text": [
      "torch.Size([1, 28, 28])\n"
     ]
    }
   ],
   "source": [
    "img,label = training_data[0]\n",
    "print(img.shape)"
   ],
   "metadata": {
    "collapsed": false,
    "pycharm": {
     "name": "#%%\n"
    }
   }
  },
  {
   "cell_type": "code",
   "execution_count": 26,
   "outputs": [
    {
     "name": "stdout",
     "output_type": "stream",
     "text": [
      "torch.Size([1, 224, 224])  -> 9\n",
      "torch.Size([1, 224, 224])  -> 0\n",
      "torch.Size([1, 224, 224])  -> 0\n",
      "torch.Size([1, 224, 224])  -> 3\n",
      "torch.Size([1, 224, 224])  -> 0\n",
      "torch.Size([1, 224, 224])  -> 2\n"
     ]
    }
   ],
   "source": [
    "\"\"\"如果想resize的话 需要对trans作特殊处理\"\"\"\n",
    "from torchvision import transforms\n",
    "\n",
    "resize = 224\n",
    "trans = transforms.Compose([\n",
    "    transforms.Resize(resize),\n",
    "    transforms.ToTensor(),\n",
    "])\n",
    "\n",
    "training_data = datasets.FashionMNIST(\n",
    "    root = \"../data\",\n",
    "    train=True,\n",
    "    download=True,\n",
    "    transform=trans\n",
    ")\n",
    "\n",
    "for idx,(img,label) in enumerate(training_data):\n",
    "    print(f\"{img.shape}  -> {label}\")\n",
    "    if idx == 5:\n",
    "        break"
   ],
   "metadata": {
    "collapsed": false,
    "pycharm": {
     "name": "#%%\n"
    }
   }
  },
  {
   "cell_type": "code",
   "execution_count": 27,
   "outputs": [
    {
     "name": "stdout",
     "output_type": "stream",
     "text": [
      "torch.Size([64, 1, 224, 224])  -> 64\n"
     ]
    }
   ],
   "source": [
    "train_dataloader = DataLoader(training_data,batch_size=64,shuffle=True)\n",
    "\n",
    "train_features,train_labels = next(iter(train_dataloader))\n",
    "print(f\"{train_features.shape}  -> {len(train_labels)}\")"
   ],
   "metadata": {
    "collapsed": false,
    "pycharm": {
     "name": "#%%\n"
    }
   }
  },
  {
   "cell_type": "code",
   "execution_count": 28,
   "outputs": [
    {
     "name": "stdout",
     "output_type": "stream",
     "text": [
      "torch.Size([64, 1, 224, 224]) --> torch.Size([64])\n",
      "torch.Size([64, 1, 224, 224]) --> torch.Size([64])\n",
      "torch.Size([64, 1, 224, 224]) --> torch.Size([64])\n",
      "torch.Size([64, 1, 224, 224]) --> torch.Size([64])\n",
      "torch.Size([64, 1, 224, 224]) --> torch.Size([64])\n",
      "torch.Size([64, 1, 224, 224]) --> torch.Size([64])\n"
     ]
    }
   ],
   "source": [
    "for idx,(x,y) in enumerate(train_dataloader):\n",
    "    print(f\"{x.shape} --> {y.shape}\")\n",
    "    if idx == 5:\n",
    "        break"
   ],
   "metadata": {
    "collapsed": false,
    "pycharm": {
     "name": "#%%\n"
    }
   }
  },
  {
   "cell_type": "code",
   "execution_count": null,
   "outputs": [],
   "source": [],
   "metadata": {
    "collapsed": false,
    "pycharm": {
     "name": "#%%\n"
    }
   }
  }
 ],
 "metadata": {
  "kernelspec": {
   "display_name": "Python 3",
   "language": "python",
   "name": "python3"
  },
  "language_info": {
   "codemirror_mode": {
    "name": "ipython",
    "version": 2
   },
   "file_extension": ".py",
   "mimetype": "text/x-python",
   "name": "python",
   "nbconvert_exporter": "python",
   "pygments_lexer": "ipython2",
   "version": "2.7.6"
  }
 },
 "nbformat": 4,
 "nbformat_minor": 0
}