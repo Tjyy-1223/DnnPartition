{
 "cells": [
  {
   "cell_type": "code",
   "execution_count": 1,
   "metadata": {
    "collapsed": true
   },
   "outputs": [
    {
     "name": "stdout",
     "output_type": "stream",
     "text": [
      " \n"
     ]
    }
   ],
   "source": [
    "import torch\n",
    "from torch import nn\n",
    "from torch.utils.data import DataLoader\n",
    "from torchvision import datasets\n",
    "from torchvision.transforms import ToTensor"
   ]
  },
  {
   "cell_type": "code",
   "execution_count": 2,
   "outputs": [],
   "source": [
    "# DownLoad Training data from open datasets\n",
    "train_data = datasets.FashionMNIST(\n",
    "    root=\"../data\",\n",
    "    train=True,\n",
    "    download=True,\n",
    "    transform=ToTensor(),\n",
    ")\n",
    "\n",
    "# DownLoad test data from open datasets\n",
    "test_data = datasets.FashionMNIST(\n",
    "    root=\"../data\",\n",
    "    train=False,\n",
    "    download=True,\n",
    "    transform=ToTensor(),\n",
    ")"
   ],
   "metadata": {
    "collapsed": false,
    "pycharm": {
     "name": "#%%\n"
    }
   }
  },
  {
   "cell_type": "code",
   "execution_count": 3,
   "outputs": [
    {
     "name": "stdout",
     "output_type": "stream",
     "text": [
      "shape of x [N,C,H,W] : torch.Size([64, 1, 28, 28])\n",
      "shape of y torch.Size([64]) : torch.int64\n"
     ]
    }
   ],
   "source": [
    "# pass the dataset as an argument to dataloader\n",
    "batch_size = 64\n",
    "\n",
    "# create data loaders\n",
    "train_dataloader = DataLoader(train_data,batch_size=batch_size)\n",
    "test_dataloader = DataLoader(test_data,batch_size=batch_size)\n",
    "\n",
    "for X,y in test_dataloader:\n",
    "    print(f\"shape of x [N,C,H,W] : {X.shape}\")\n",
    "    print(f\"shape of y {y.shape} : {y.dtype}\")\n",
    "    break"
   ],
   "metadata": {
    "collapsed": false,
    "pycharm": {
     "name": "#%%\n"
    }
   }
  },
  {
   "cell_type": "code",
   "execution_count": 5,
   "outputs": [
    {
     "name": "stdout",
     "output_type": "stream",
     "text": [
      "using cpu device\n",
      "NeuralNetWork(\n",
      "  (flatten): Flatten(start_dim=1, end_dim=-1)\n",
      "  (linear_rulu_stack): Sequential(\n",
      "    (0): Linear(in_features=784, out_features=512, bias=True)\n",
      "    (1): ReLU()\n",
      "    (2): Linear(in_features=512, out_features=512, bias=True)\n",
      "    (3): ReLU()\n",
      "    (4): Linear(in_features=512, out_features=10, bias=True)\n",
      "  )\n",
      ")\n"
     ]
    }
   ],
   "source": [
    "# create a model\n",
    "device = \"cuda\" if torch.cuda.is_available() else \"cpu\"\n",
    "print(f\"using {device} device\")\n",
    "\n",
    "#define a model\n",
    "class NeuralNetWork(nn.Module):\n",
    "    def __init__(self):\n",
    "        super(NeuralNetWork, self).__init__()\n",
    "        self.flatten = nn.Flatten()\n",
    "        self.linear_rulu_stack = nn.Sequential(\n",
    "            nn.Linear(28*28,512),\n",
    "            nn.ReLU(),\n",
    "            nn.Linear(512,512),\n",
    "            nn.ReLU(),\n",
    "            nn.Linear(512,10)\n",
    "        )\n",
    "\n",
    "    def forward(self,x):\n",
    "        x = self.flatten(x)\n",
    "        logits = self.linear_rulu_stack(x)\n",
    "        return logits\n",
    "\n",
    "model = NeuralNetWork().to(device)\n",
    "print(model)"
   ],
   "metadata": {
    "collapsed": false,
    "pycharm": {
     "name": "#%%\n"
    }
   }
  },
  {
   "cell_type": "code",
   "execution_count": 7,
   "outputs": [],
   "source": [
    "# optimizizer the model parameters\n",
    "loss_fn = nn.CrossEntropyLoss()\n",
    "optimizer = torch.optim.SGD(model.parameters(),lr = 1e-3)\n",
    "\n",
    "def train(dataloader,model,loss_fn,optimizer):\n",
    "    size = len(dataloader.dataset)\n",
    "    model.train()\n",
    "    for batch,(X,y) in enumerate(dataloader):\n",
    "        X,y = X.to(device),y.to(device)\n",
    "        pred = model(X)\n",
    "        loss = loss_fn(pred,y)\n",
    "\n",
    "        optimizer.zero_grad()\n",
    "        loss.backward()\n",
    "        optimizer.step()\n",
    "\n",
    "        if batch % 100 == 0:\n",
    "            loss,current = loss.item(),batch * len(X)\n",
    "            print(f\"loss {loss : >7f}  [{current : >5d}/{size : >5d}]\")\n",
    "\n",
    "def test(dataloader,model,loss_fn):\n",
    "    size = len(dataloader.dataset)\n",
    "    num_batches = len(dataloader)\n",
    "    model.eval()\n",
    "    test_loss,correct = 0,0\n",
    "    with torch.no_grad():\n",
    "        for X,y in dataloader:\n",
    "            X,y = X.to(device),y.to(device)\n",
    "            pred = model(X)\n",
    "            test_loss += loss_fn(pred,y).item()\n",
    "            correct += (pred.argmax(1) == y).type(torch.float).sum().item()\n",
    "    test_loss /= num_batches\n",
    "    correct /= size\n",
    "    print(f\"test error :\\n Accuracy: {(100*correct) :> 0.1f},avg loss :{test_loss:>8f}\")"
   ],
   "metadata": {
    "collapsed": false,
    "pycharm": {
     "name": "#%%\n"
    }
   }
  },
  {
   "cell_type": "code",
   "execution_count": 8,
   "outputs": [
    {
     "name": "stdout",
     "output_type": "stream",
     "text": [
      "epoch 1\n",
      "\n",
      "loss 2.312004  [    0/60000]\n",
      "loss 2.292023  [ 6400/60000]\n",
      "loss 2.270930  [12800/60000]\n",
      "loss 2.265259  [19200/60000]\n",
      "loss 2.256935  [25600/60000]\n",
      "loss 2.226278  [32000/60000]\n",
      "loss 2.234724  [38400/60000]\n",
      "loss 2.204657  [44800/60000]\n",
      "loss 2.197436  [51200/60000]\n",
      "loss 2.165191  [57600/60000]\n",
      "test error :\n",
      " Accuracy:  40.6,avg loss :2.160889\n",
      "epoch 2\n",
      "\n",
      "loss 2.174416  [    0/60000]\n",
      "loss 2.160447  [ 6400/60000]\n",
      "loss 2.097900  [12800/60000]\n",
      "loss 2.117447  [19200/60000]\n",
      "loss 2.080279  [25600/60000]\n",
      "loss 2.015256  [32000/60000]\n",
      "loss 2.044612  [38400/60000]\n",
      "loss 1.968371  [44800/60000]\n",
      "loss 1.961171  [51200/60000]\n",
      "loss 1.902645  [57600/60000]\n",
      "test error :\n",
      " Accuracy:  55.2,avg loss :1.898030\n",
      "epoch 3\n",
      "\n",
      "loss 1.925438  [    0/60000]\n",
      "loss 1.898763  [ 6400/60000]\n",
      "loss 1.776909  [12800/60000]\n",
      "loss 1.824742  [19200/60000]\n",
      "loss 1.728251  [25600/60000]\n",
      "loss 1.671804  [32000/60000]\n",
      "loss 1.694566  [38400/60000]\n",
      "loss 1.599117  [44800/60000]\n",
      "loss 1.610733  [51200/60000]\n",
      "loss 1.519655  [57600/60000]\n",
      "test error :\n",
      " Accuracy:  62.5,avg loss :1.534112\n",
      "epoch 4\n",
      "\n",
      "loss 1.594740  [    0/60000]\n",
      "loss 1.563881  [ 6400/60000]\n",
      "loss 1.410060  [12800/60000]\n",
      "loss 1.488776  [19200/60000]\n",
      "loss 1.375972  [25600/60000]\n",
      "loss 1.366747  [32000/60000]\n",
      "loss 1.381603  [38400/60000]\n",
      "loss 1.310944  [44800/60000]\n",
      "loss 1.337024  [51200/60000]\n",
      "loss 1.245493  [57600/60000]\n",
      "test error :\n",
      " Accuracy:  63.8,avg loss :1.269375\n",
      "epoch 5\n",
      "\n",
      "loss 1.346277  [    0/60000]\n",
      "loss 1.326710  [ 6400/60000]\n",
      "loss 1.159473  [12800/60000]\n",
      "loss 1.267600  [19200/60000]\n",
      "loss 1.146701  [25600/60000]\n",
      "loss 1.168239  [32000/60000]\n",
      "loss 1.189797  [38400/60000]\n",
      "loss 1.131579  [44800/60000]\n",
      "loss 1.166352  [51200/60000]\n",
      "loss 1.083913  [57600/60000]\n",
      "test error :\n",
      " Accuracy:  64.7,avg loss :1.103468\n",
      "Done\n"
     ]
    }
   ],
   "source": [
    "epochs = 5\n",
    "for t in range(epochs):\n",
    "    print(f\"epoch {t+1}\\n\")\n",
    "    train(train_dataloader,model,loss_fn,optimizer)\n",
    "    test(test_dataloader,model,loss_fn)\n",
    "print(\"Done\")"
   ],
   "metadata": {
    "collapsed": false,
    "pycharm": {
     "name": "#%%\n"
    }
   }
  },
  {
   "cell_type": "code",
   "execution_count": 10,
   "outputs": [
    {
     "name": "stdout",
     "output_type": "stream",
     "text": [
      "saved pytorch model state to model.pth\n"
     ]
    }
   ],
   "source": [
    "torch.save(model.state_dict(),\"model.pth\")\n",
    "print(\"saved pytorch model state to model.pth\")"
   ],
   "metadata": {
    "collapsed": false,
    "pycharm": {
     "name": "#%%\n"
    }
   }
  },
  {
   "cell_type": "code",
   "execution_count": 22,
   "outputs": [
    {
     "name": "stdout",
     "output_type": "stream",
     "text": [
      "torch.Size([10])\n",
      "torch.Size([])\n",
      "predicted:\"Ankle boot\",Actual:\"Ankle boot\n"
     ]
    }
   ],
   "source": [
    "model = NeuralNetWork()\n",
    "model.load_state_dict(torch.load(\"model.pth\"))\n",
    "\n",
    "classes = [\n",
    "    \"T-shirt/top\",\n",
    "    \"Trouser\",\n",
    "    \"Pullover\",\n",
    "    \"Dress\",\n",
    "    \"Coat\",\n",
    "    \"Sandal\",\n",
    "    \"Shirt\",\n",
    "    \"Sneaker\",\n",
    "    \"Bag\",\n",
    "    \"Ankle boot\",\n",
    "]\n",
    "\n",
    "model.eval()\n",
    "X,y = test_data[0][0],test_data[0][1]\n",
    "with torch.no_grad():\n",
    "    pred = model(X)\n",
    "    print(pred[0].shape)\n",
    "    print(pred[0].argmax(0).shape)\n",
    "    predicted,actual = classes[pred[0].argmax(0)],classes[y]\n",
    "    print(f'predicted:\"{predicted}\",Actual:\"{actual}')"
   ],
   "metadata": {
    "collapsed": false,
    "pycharm": {
     "name": "#%%\n"
    }
   }
  },
  {
   "cell_type": "code",
   "execution_count": 20,
   "outputs": [
    {
     "name": "stdout",
     "output_type": "stream",
     "text": [
      "torch.Size([64, 10])\n",
      "torch.Size([64])\n"
     ]
    }
   ],
   "source": [
    "for X,y in test_dataloader:\n",
    "        X,y = X.to(device),y.to(device)\n",
    "        pred = model(X)\n",
    "        print(pred.shape)\n",
    "        print(pred.argmax(1).shape)\n",
    "        break"
   ],
   "metadata": {
    "collapsed": false,
    "pycharm": {
     "name": "#%%\n"
    }
   }
  },
  {
   "cell_type": "code",
   "execution_count": null,
   "outputs": [],
   "source": [],
   "metadata": {
    "collapsed": false,
    "pycharm": {
     "name": "#%%\n"
    }
   }
  }
 ],
 "metadata": {
  "kernelspec": {
   "display_name": "Python 3",
   "language": "python",
   "name": "python3"
  },
  "language_info": {
   "codemirror_mode": {
    "name": "ipython",
    "version": 2
   },
   "file_extension": ".py",
   "mimetype": "text/x-python",
   "name": "python",
   "nbconvert_exporter": "python",
   "pygments_lexer": "ipython2",
   "version": "2.7.6"
  }
 },
 "nbformat": 4,
 "nbformat_minor": 0
}