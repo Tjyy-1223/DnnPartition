{
 "cells": [
  {
   "cell_type": "code",
   "execution_count": 1,
   "metadata": {
    "collapsed": true
   },
   "outputs": [
    {
     "name": "stdout",
     "output_type": "stream",
     "text": [
      " \n"
     ]
    }
   ],
   "source": [
    "import os\n",
    "import torch\n",
    "from torch import nn\n",
    "from torch.utils.data import DataLoader\n",
    "from torchvision import  datasets,transforms"
   ]
  },
  {
   "cell_type": "code",
   "execution_count": 2,
   "outputs": [
    {
     "name": "stdout",
     "output_type": "stream",
     "text": [
      "using cpu device\n"
     ]
    }
   ],
   "source": [
    "device = \"cuda\" if torch.cuda.is_available() else \"cpu\"\n",
    "print(f\"using {device} device\")"
   ],
   "metadata": {
    "collapsed": false,
    "pycharm": {
     "name": "#%%\n"
    }
   }
  },
  {
   "cell_type": "code",
   "execution_count": 4,
   "outputs": [],
   "source": [
    "class NeuralNetwork(nn.Module):\n",
    "    def __init__(self):\n",
    "        super(NeuralNetwork, self).__init__()\n",
    "        self.flatten = nn.Flatten()\n",
    "        self.linear_relu_stack = nn.Sequential(\n",
    "            nn.Linear(28*28,512),\n",
    "            nn.ReLU(),\n",
    "            nn.Linear(512,512),\n",
    "            nn.ReLU(),\n",
    "            nn.Linear(512,10),\n",
    "        )\n",
    "\n",
    "    def forward(self,x):\n",
    "        x = self.flatten(x)\n",
    "        logits = self.linear_relu_stack(x)\n",
    "        return logits"
   ],
   "metadata": {
    "collapsed": false,
    "pycharm": {
     "name": "#%%\n"
    }
   }
  },
  {
   "cell_type": "code",
   "execution_count": 5,
   "outputs": [
    {
     "name": "stdout",
     "output_type": "stream",
     "text": [
      "NeuralNetwork(\n",
      "  (flatten): Flatten(start_dim=1, end_dim=-1)\n",
      "  (linear_relu_stack): Sequential(\n",
      "    (0): Linear(in_features=784, out_features=512, bias=True)\n",
      "    (1): ReLU()\n",
      "    (2): Linear(in_features=512, out_features=512, bias=True)\n",
      "    (3): ReLU()\n",
      "    (4): Linear(in_features=512, out_features=10, bias=True)\n",
      "  )\n",
      ")\n"
     ]
    }
   ],
   "source": [
    "model = NeuralNetwork().to(device)\n",
    "print(model)"
   ],
   "metadata": {
    "collapsed": false,
    "pycharm": {
     "name": "#%%\n"
    }
   }
  },
  {
   "cell_type": "code",
   "execution_count": 7,
   "outputs": [
    {
     "name": "stdout",
     "output_type": "stream",
     "text": [
      "predicted class : tensor([7])\n"
     ]
    }
   ],
   "source": [
    "X = torch.rand(1,28,28,device = device)\n",
    "logits = model(X)\n",
    "pred_probab = nn.Softmax(dim = 1)(logits)\n",
    "y_pred = pred_probab.argmax(1)\n",
    "print(f\"predicted class : {y_pred}\")"
   ],
   "metadata": {
    "collapsed": false,
    "pycharm": {
     "name": "#%%\n"
    }
   }
  },
  {
   "cell_type": "code",
   "execution_count": 8,
   "outputs": [
    {
     "name": "stdout",
     "output_type": "stream",
     "text": [
      "torch.Size([3, 28, 28])\n"
     ]
    }
   ],
   "source": [
    "input_image = torch.rand(3,28,28)\n",
    "print(input_image.size())"
   ],
   "metadata": {
    "collapsed": false,
    "pycharm": {
     "name": "#%%\n"
    }
   }
  },
  {
   "cell_type": "code",
   "execution_count": 9,
   "outputs": [
    {
     "name": "stdout",
     "output_type": "stream",
     "text": [
      "torch.Size([3, 784])\n"
     ]
    }
   ],
   "source": [
    "flatten = nn.Flatten()\n",
    "flag_images = flatten(input_image)\n",
    "print(flag_images.size())"
   ],
   "metadata": {
    "collapsed": false,
    "pycharm": {
     "name": "#%%\n"
    }
   }
  },
  {
   "cell_type": "code",
   "execution_count": 10,
   "outputs": [
    {
     "name": "stdout",
     "output_type": "stream",
     "text": [
      "torch.Size([3, 20])\n"
     ]
    }
   ],
   "source": [
    "layer1 = nn.Linear(in_features=28*28,out_features=20)\n",
    "hidden1 = layer1(flag_images)\n",
    "print(hidden1.size())"
   ],
   "metadata": {
    "collapsed": false,
    "pycharm": {
     "name": "#%%\n"
    }
   }
  },
  {
   "cell_type": "code",
   "execution_count": 11,
   "outputs": [
    {
     "name": "stdout",
     "output_type": "stream",
     "text": [
      "befor relu : tensor([[ 0.3511, -0.3720, -0.2960, -0.5766, -0.3254, -0.0952, -0.1128, -0.1655,\n",
      "          0.6789,  0.1913,  0.0386, -0.0453,  0.2628,  0.1193,  0.1522, -0.1039,\n",
      "          0.1371, -0.0091,  0.0256,  0.1326],\n",
      "        [ 0.4396, -0.3499, -0.1469, -0.4726, -0.0237,  0.2268,  0.0652, -0.0027,\n",
      "          0.4291, -0.2497,  0.5124, -0.2876, -0.1339,  0.1553,  0.0973,  0.1711,\n",
      "          0.2699,  0.3000,  0.1330, -0.0582],\n",
      "        [ 0.5133, -0.2087, -0.3125, -0.6786, -0.3836,  0.2440, -0.4150, -0.1408,\n",
      "          0.1532,  0.0299,  0.0534, -0.0172,  0.0056,  0.0608,  0.0796, -0.0658,\n",
      "          0.1341,  0.2852,  0.0083, -0.1942]], grad_fn=<AddmmBackward0>)\n",
      "\n",
      "\n",
      "after relu:tensor([[0.3511, 0.0000, 0.0000, 0.0000, 0.0000, 0.0000, 0.0000, 0.0000, 0.6789,\n",
      "         0.1913, 0.0386, 0.0000, 0.2628, 0.1193, 0.1522, 0.0000, 0.1371, 0.0000,\n",
      "         0.0256, 0.1326],\n",
      "        [0.4396, 0.0000, 0.0000, 0.0000, 0.0000, 0.2268, 0.0652, 0.0000, 0.4291,\n",
      "         0.0000, 0.5124, 0.0000, 0.0000, 0.1553, 0.0973, 0.1711, 0.2699, 0.3000,\n",
      "         0.1330, 0.0000],\n",
      "        [0.5133, 0.0000, 0.0000, 0.0000, 0.0000, 0.2440, 0.0000, 0.0000, 0.1532,\n",
      "         0.0299, 0.0534, 0.0000, 0.0056, 0.0608, 0.0796, 0.0000, 0.1341, 0.2852,\n",
      "         0.0083, 0.0000]], grad_fn=<ReluBackward0>)\n"
     ]
    }
   ],
   "source": [
    "print(f\"befor relu : {hidden1}\\n\\n\")\n",
    "hidden1 = nn.ReLU()(hidden1)\n",
    "print(f\"after relu:{hidden1}\")"
   ],
   "metadata": {
    "collapsed": false,
    "pycharm": {
     "name": "#%%\n"
    }
   }
  },
  {
   "cell_type": "code",
   "execution_count": 12,
   "outputs": [],
   "source": [
    "seq_modules = nn.Sequential(\n",
    "    flatten,\n",
    "    layer1,\n",
    "    nn.ReLU(),\n",
    "    nn.Linear(20,10)\n",
    ")\n",
    "logits = seq_modules(input_image)"
   ],
   "metadata": {
    "collapsed": false,
    "pycharm": {
     "name": "#%%\n"
    }
   }
  },
  {
   "cell_type": "code",
   "execution_count": 13,
   "outputs": [
    {
     "name": "stdout",
     "output_type": "stream",
     "text": [
      "tensor([[0.0981, 0.0754, 0.0707, 0.1017, 0.1052, 0.0990, 0.1309, 0.0927, 0.1157,\n",
      "         0.1105],\n",
      "        [0.0970, 0.0844, 0.0724, 0.0886, 0.0995, 0.0910, 0.1366, 0.0969, 0.1209,\n",
      "         0.1128],\n",
      "        [0.1047, 0.0897, 0.0837, 0.0850, 0.0968, 0.1022, 0.1271, 0.0885, 0.1103,\n",
      "         0.1120]], grad_fn=<SoftmaxBackward0>)\n"
     ]
    }
   ],
   "source": [
    "soft_max = nn.Softmax(dim=1)\n",
    "pred_probab = soft_max(logits)\n",
    "print(pred_probab)"
   ],
   "metadata": {
    "collapsed": false,
    "pycharm": {
     "name": "#%%\n"
    }
   }
  },
  {
   "cell_type": "code",
   "execution_count": 14,
   "outputs": [
    {
     "name": "stdout",
     "output_type": "stream",
     "text": [
      "model strcture: NeuralNetwork(\n",
      "  (flatten): Flatten(start_dim=1, end_dim=-1)\n",
      "  (linear_relu_stack): Sequential(\n",
      "    (0): Linear(in_features=784, out_features=512, bias=True)\n",
      "    (1): ReLU()\n",
      "    (2): Linear(in_features=512, out_features=512, bias=True)\n",
      "    (3): ReLU()\n",
      "    (4): Linear(in_features=512, out_features=10, bias=True)\n",
      "  )\n",
      ")\n",
      "\n",
      "\n",
      "layer : linear_relu_stack.0.weight  | size:torch.Size([512, 784]) | values:tensor([[ 0.0024, -0.0310, -0.0256,  ...,  0.0145, -0.0238, -0.0238],\n",
      "        [-0.0190, -0.0273, -0.0064,  ...,  0.0266, -0.0018,  0.0355]],\n",
      "       grad_fn=<SliceBackward0>) \n",
      "\n",
      "layer : linear_relu_stack.0.bias  | size:torch.Size([512]) | values:tensor([-0.0183,  0.0339], grad_fn=<SliceBackward0>) \n",
      "\n",
      "layer : linear_relu_stack.2.weight  | size:torch.Size([512, 512]) | values:tensor([[-0.0188,  0.0179, -0.0050,  ..., -0.0340,  0.0013, -0.0436],\n",
      "        [-0.0207,  0.0045,  0.0184,  ...,  0.0274,  0.0410,  0.0370]],\n",
      "       grad_fn=<SliceBackward0>) \n",
      "\n",
      "layer : linear_relu_stack.2.bias  | size:torch.Size([512]) | values:tensor([-0.0217,  0.0014], grad_fn=<SliceBackward0>) \n",
      "\n",
      "layer : linear_relu_stack.4.weight  | size:torch.Size([10, 512]) | values:tensor([[ 0.0431, -0.0095, -0.0114,  ..., -0.0090, -0.0158, -0.0033],\n",
      "        [ 0.0164, -0.0416, -0.0386,  ...,  0.0328, -0.0040, -0.0065]],\n",
      "       grad_fn=<SliceBackward0>) \n",
      "\n",
      "layer : linear_relu_stack.4.bias  | size:torch.Size([10]) | values:tensor([ 0.0052, -0.0142], grad_fn=<SliceBackward0>) \n",
      "\n"
     ]
    }
   ],
   "source": [
    "print(f\"model strcture: {model}\\n\\n\")\n",
    "\n",
    "for name,param in model.named_parameters():\n",
    "    print(f\"layer : {name}  | size:{param.size()} | values:{param[:2]} \\n\")"
   ],
   "metadata": {
    "collapsed": false,
    "pycharm": {
     "name": "#%%\n"
    }
   }
  },
  {
   "cell_type": "code",
   "execution_count": null,
   "outputs": [],
   "source": [],
   "metadata": {
    "collapsed": false,
    "pycharm": {
     "name": "#%%\n"
    }
   }
  }
 ],
 "metadata": {
  "kernelspec": {
   "display_name": "Python 3",
   "language": "python",
   "name": "python3"
  },
  "language_info": {
   "codemirror_mode": {
    "name": "ipython",
    "version": 2
   },
   "file_extension": ".py",
   "mimetype": "text/x-python",
   "name": "python",
   "nbconvert_exporter": "python",
   "pygments_lexer": "ipython2",
   "version": "2.7.6"
  }
 },
 "nbformat": 4,
 "nbformat_minor": 0
}